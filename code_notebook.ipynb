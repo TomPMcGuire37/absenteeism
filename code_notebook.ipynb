{
 "cells": [
  {
   "cell_type": "code",
   "execution_count": 1,
   "metadata": {
    "_cell_guid": "b1076dfc-b9ad-4769-8c92-a6c4dae69d19",
    "_uuid": "8f2839f25d086af736a60e9eeb907d3b93b6e0e5",
    "execution": {
     "iopub.execute_input": "2021-03-25T14:21:01.911366Z",
     "iopub.status.busy": "2021-03-25T14:21:01.910572Z",
     "iopub.status.idle": "2021-03-25T14:21:01.920021Z",
     "shell.execute_reply": "2021-03-25T14:21:01.920507Z"
    },
    "papermill": {
     "duration": 0.060645,
     "end_time": "2021-03-25T14:21:01.920844",
     "exception": false,
     "start_time": "2021-03-25T14:21:01.860199",
     "status": "completed"
    },
    "tags": []
   },
   "outputs": [
    {
     "name": "stdout",
     "output_type": "stream",
     "text": [
      "/kaggle/input/absenteeism-at-work-uci-ml-repositiory/Absenteeism_at_work.csv\n"
     ]
    }
   ],
   "source": [
    "# This Python 3 environment comes with many helpful analytics libraries installed\n",
    "# It is defined by the kaggle/python Docker image: https://github.com/kaggle/docker-python\n",
    "# For example, here's several helpful packages to load\n",
    "\n",
    "import numpy as np # linear algebra\n",
    "import pandas as pd # data processing, CSV file I/O (e.g. pd.read_csv)\n",
    "\n",
    "# Input data files are available in the read-only \"../input/\" directory\n",
    "# For example, running this (by clicking run or pressing Shift+Enter) will list all files under the input directory\n",
    "\n",
    "import os\n",
    "for dirname, _, filenames in os.walk('/kaggle/input'):\n",
    "    for filename in filenames:\n",
    "        print(os.path.join(dirname, filename))\n",
    "\n",
    "# You can write up to 20GB to the current directory (/kaggle/working/) that gets preserved as output when you create a version using \"Save & Run All\" \n",
    "# You can also write temporary files to /kaggle/temp/, but they won't be saved outside of the current session"
   ]
  },
  {
   "cell_type": "code",
   "execution_count": 2,
   "metadata": {
    "execution": {
     "iopub.execute_input": "2021-03-25T14:21:02.009963Z",
     "iopub.status.busy": "2021-03-25T14:21:02.009245Z",
     "iopub.status.idle": "2021-03-25T14:21:02.895625Z",
     "shell.execute_reply": "2021-03-25T14:21:02.895001Z"
    },
    "papermill": {
     "duration": 0.933719,
     "end_time": "2021-03-25T14:21:02.895793",
     "exception": false,
     "start_time": "2021-03-25T14:21:01.962074",
     "status": "completed"
    },
    "tags": []
   },
   "outputs": [],
   "source": [
    "import matplotlib.pyplot as plt\n",
    "%matplotlib inline\n",
    "import seaborn as sns"
   ]
  },
  {
   "cell_type": "code",
   "execution_count": 3,
   "metadata": {
    "execution": {
     "iopub.execute_input": "2021-03-25T14:21:02.982727Z",
     "iopub.status.busy": "2021-03-25T14:21:02.982046Z",
     "iopub.status.idle": "2021-03-25T14:21:03.644642Z",
     "shell.execute_reply": "2021-03-25T14:21:03.643635Z"
    },
    "papermill": {
     "duration": 0.708853,
     "end_time": "2021-03-25T14:21:03.645042",
     "exception": false,
     "start_time": "2021-03-25T14:21:02.936189",
     "status": "completed"
    },
    "tags": []
   },
   "outputs": [],
   "source": [
    "from sklearn.model_selection import train_test_split\n",
    "from sklearn.ensemble import RandomForestClassifier\n",
    "from sklearn.metrics import accuracy_score\n",
    "from sklearn import tree\n",
    "from sklearn.naive_bayes import GaussianNB\n",
    "from sklearn.neighbors import KNeighborsClassifier\n",
    "from sklearn.preprocessing import StandardScaler\n",
    "from sklearn import svm"
   ]
  },
  {
   "cell_type": "markdown",
   "metadata": {
    "papermill": {
     "duration": 0.044199,
     "end_time": "2021-03-25T14:21:03.733156",
     "exception": false,
     "start_time": "2021-03-25T14:21:03.688957",
     "status": "completed"
    },
    "tags": []
   },
   "source": [
    "Reading in the data."
   ]
  },
  {
   "cell_type": "code",
   "execution_count": 4,
   "metadata": {
    "execution": {
     "iopub.execute_input": "2021-03-25T14:21:03.822787Z",
     "iopub.status.busy": "2021-03-25T14:21:03.822067Z",
     "iopub.status.idle": "2021-03-25T14:21:03.844467Z",
     "shell.execute_reply": "2021-03-25T14:21:03.843861Z"
    },
    "papermill": {
     "duration": 0.069665,
     "end_time": "2021-03-25T14:21:03.844665",
     "exception": false,
     "start_time": "2021-03-25T14:21:03.775000",
     "status": "completed"
    },
    "tags": []
   },
   "outputs": [],
   "source": [
    "data = pd.read_csv('../input/absenteeism-at-work-uci-ml-repositiory/Absenteeism_at_work.csv', sep=';')"
   ]
  },
  {
   "cell_type": "markdown",
   "metadata": {
    "papermill": {
     "duration": 0.041258,
     "end_time": "2021-03-25T14:21:03.927945",
     "exception": false,
     "start_time": "2021-03-25T14:21:03.886687",
     "status": "completed"
    },
    "tags": []
   },
   "source": [
    "Getting a quick overview of the data."
   ]
  },
  {
   "cell_type": "code",
   "execution_count": 5,
   "metadata": {
    "execution": {
     "iopub.execute_input": "2021-03-25T14:21:04.018041Z",
     "iopub.status.busy": "2021-03-25T14:21:04.017321Z",
     "iopub.status.idle": "2021-03-25T14:21:04.058978Z",
     "shell.execute_reply": "2021-03-25T14:21:04.059530Z"
    },
    "papermill": {
     "duration": 0.087568,
     "end_time": "2021-03-25T14:21:04.059736",
     "exception": false,
     "start_time": "2021-03-25T14:21:03.972168",
     "status": "completed"
    },
    "tags": []
   },
   "outputs": [
    {
     "data": {
      "text/html": [
       "<div>\n",
       "<style scoped>\n",
       "    .dataframe tbody tr th:only-of-type {\n",
       "        vertical-align: middle;\n",
       "    }\n",
       "\n",
       "    .dataframe tbody tr th {\n",
       "        vertical-align: top;\n",
       "    }\n",
       "\n",
       "    .dataframe thead th {\n",
       "        text-align: right;\n",
       "    }\n",
       "</style>\n",
       "<table border=\"1\" class=\"dataframe\">\n",
       "  <thead>\n",
       "    <tr style=\"text-align: right;\">\n",
       "      <th></th>\n",
       "      <th>ID</th>\n",
       "      <th>Reason for absence</th>\n",
       "      <th>Month of absence</th>\n",
       "      <th>Day of the week</th>\n",
       "      <th>Seasons</th>\n",
       "      <th>Transportation expense</th>\n",
       "      <th>Distance from Residence to Work</th>\n",
       "      <th>Service time</th>\n",
       "      <th>Age</th>\n",
       "      <th>Work load Average/day</th>\n",
       "      <th>...</th>\n",
       "      <th>Disciplinary failure</th>\n",
       "      <th>Education</th>\n",
       "      <th>Son</th>\n",
       "      <th>Social drinker</th>\n",
       "      <th>Social smoker</th>\n",
       "      <th>Pet</th>\n",
       "      <th>Weight</th>\n",
       "      <th>Height</th>\n",
       "      <th>Body mass index</th>\n",
       "      <th>Absenteeism time in hours</th>\n",
       "    </tr>\n",
       "  </thead>\n",
       "  <tbody>\n",
       "    <tr>\n",
       "      <th>0</th>\n",
       "      <td>11</td>\n",
       "      <td>26</td>\n",
       "      <td>7</td>\n",
       "      <td>3</td>\n",
       "      <td>1</td>\n",
       "      <td>289</td>\n",
       "      <td>36</td>\n",
       "      <td>13</td>\n",
       "      <td>33</td>\n",
       "      <td>239.554</td>\n",
       "      <td>...</td>\n",
       "      <td>0</td>\n",
       "      <td>1</td>\n",
       "      <td>2</td>\n",
       "      <td>1</td>\n",
       "      <td>0</td>\n",
       "      <td>1</td>\n",
       "      <td>90</td>\n",
       "      <td>172</td>\n",
       "      <td>30</td>\n",
       "      <td>4</td>\n",
       "    </tr>\n",
       "    <tr>\n",
       "      <th>1</th>\n",
       "      <td>36</td>\n",
       "      <td>0</td>\n",
       "      <td>7</td>\n",
       "      <td>3</td>\n",
       "      <td>1</td>\n",
       "      <td>118</td>\n",
       "      <td>13</td>\n",
       "      <td>18</td>\n",
       "      <td>50</td>\n",
       "      <td>239.554</td>\n",
       "      <td>...</td>\n",
       "      <td>1</td>\n",
       "      <td>1</td>\n",
       "      <td>1</td>\n",
       "      <td>1</td>\n",
       "      <td>0</td>\n",
       "      <td>0</td>\n",
       "      <td>98</td>\n",
       "      <td>178</td>\n",
       "      <td>31</td>\n",
       "      <td>0</td>\n",
       "    </tr>\n",
       "    <tr>\n",
       "      <th>2</th>\n",
       "      <td>3</td>\n",
       "      <td>23</td>\n",
       "      <td>7</td>\n",
       "      <td>4</td>\n",
       "      <td>1</td>\n",
       "      <td>179</td>\n",
       "      <td>51</td>\n",
       "      <td>18</td>\n",
       "      <td>38</td>\n",
       "      <td>239.554</td>\n",
       "      <td>...</td>\n",
       "      <td>0</td>\n",
       "      <td>1</td>\n",
       "      <td>0</td>\n",
       "      <td>1</td>\n",
       "      <td>0</td>\n",
       "      <td>0</td>\n",
       "      <td>89</td>\n",
       "      <td>170</td>\n",
       "      <td>31</td>\n",
       "      <td>2</td>\n",
       "    </tr>\n",
       "    <tr>\n",
       "      <th>3</th>\n",
       "      <td>7</td>\n",
       "      <td>7</td>\n",
       "      <td>7</td>\n",
       "      <td>5</td>\n",
       "      <td>1</td>\n",
       "      <td>279</td>\n",
       "      <td>5</td>\n",
       "      <td>14</td>\n",
       "      <td>39</td>\n",
       "      <td>239.554</td>\n",
       "      <td>...</td>\n",
       "      <td>0</td>\n",
       "      <td>1</td>\n",
       "      <td>2</td>\n",
       "      <td>1</td>\n",
       "      <td>1</td>\n",
       "      <td>0</td>\n",
       "      <td>68</td>\n",
       "      <td>168</td>\n",
       "      <td>24</td>\n",
       "      <td>4</td>\n",
       "    </tr>\n",
       "    <tr>\n",
       "      <th>4</th>\n",
       "      <td>11</td>\n",
       "      <td>23</td>\n",
       "      <td>7</td>\n",
       "      <td>5</td>\n",
       "      <td>1</td>\n",
       "      <td>289</td>\n",
       "      <td>36</td>\n",
       "      <td>13</td>\n",
       "      <td>33</td>\n",
       "      <td>239.554</td>\n",
       "      <td>...</td>\n",
       "      <td>0</td>\n",
       "      <td>1</td>\n",
       "      <td>2</td>\n",
       "      <td>1</td>\n",
       "      <td>0</td>\n",
       "      <td>1</td>\n",
       "      <td>90</td>\n",
       "      <td>172</td>\n",
       "      <td>30</td>\n",
       "      <td>2</td>\n",
       "    </tr>\n",
       "  </tbody>\n",
       "</table>\n",
       "<p>5 rows × 21 columns</p>\n",
       "</div>"
      ],
      "text/plain": [
       "   ID  Reason for absence  Month of absence  Day of the week  Seasons  \\\n",
       "0  11                  26                 7                3        1   \n",
       "1  36                   0                 7                3        1   \n",
       "2   3                  23                 7                4        1   \n",
       "3   7                   7                 7                5        1   \n",
       "4  11                  23                 7                5        1   \n",
       "\n",
       "   Transportation expense  Distance from Residence to Work  Service time  Age  \\\n",
       "0                     289                               36            13   33   \n",
       "1                     118                               13            18   50   \n",
       "2                     179                               51            18   38   \n",
       "3                     279                                5            14   39   \n",
       "4                     289                               36            13   33   \n",
       "\n",
       "   Work load Average/day   ...  Disciplinary failure  Education  Son  \\\n",
       "0                 239.554  ...                     0          1    2   \n",
       "1                 239.554  ...                     1          1    1   \n",
       "2                 239.554  ...                     0          1    0   \n",
       "3                 239.554  ...                     0          1    2   \n",
       "4                 239.554  ...                     0          1    2   \n",
       "\n",
       "   Social drinker  Social smoker  Pet  Weight  Height  Body mass index  \\\n",
       "0               1              0    1      90     172               30   \n",
       "1               1              0    0      98     178               31   \n",
       "2               1              0    0      89     170               31   \n",
       "3               1              1    0      68     168               24   \n",
       "4               1              0    1      90     172               30   \n",
       "\n",
       "   Absenteeism time in hours  \n",
       "0                          4  \n",
       "1                          0  \n",
       "2                          2  \n",
       "3                          4  \n",
       "4                          2  \n",
       "\n",
       "[5 rows x 21 columns]"
      ]
     },
     "execution_count": 5,
     "metadata": {},
     "output_type": "execute_result"
    }
   ],
   "source": [
    "data.head()"
   ]
  },
  {
   "cell_type": "code",
   "execution_count": 6,
   "metadata": {
    "execution": {
     "iopub.execute_input": "2021-03-25T14:21:04.151481Z",
     "iopub.status.busy": "2021-03-25T14:21:04.150710Z",
     "iopub.status.idle": "2021-03-25T14:21:04.158964Z",
     "shell.execute_reply": "2021-03-25T14:21:04.158230Z"
    },
    "papermill": {
     "duration": 0.055835,
     "end_time": "2021-03-25T14:21:04.159140",
     "exception": false,
     "start_time": "2021-03-25T14:21:04.103305",
     "status": "completed"
    },
    "tags": []
   },
   "outputs": [],
   "source": [
    "data = data.rename(columns={'Reason for absence': 'Reason',\n",
    "                           'Month of absence': 'Month',\n",
    "                           'Day of the week': 'Day',\n",
    "                           'Transportation expense': 'Travel_expense',\n",
    "                           'Distance from Residence to Work': 'Distance',\n",
    "                           'Service time': 'Years',\n",
    "                           'Work load Average/day': 'Avg_work',\n",
    "                           'Hit target': 'Work_target',\n",
    "                           'Disciplinary failure': 'Disc_failure',\n",
    "                           'Son': 'Child',\n",
    "                           'Body mass index': 'BMI',\n",
    "                           'Absenteeism time in hours': 'Missed_time'})"
   ]
  },
  {
   "cell_type": "markdown",
   "metadata": {
    "papermill": {
     "duration": 0.043936,
     "end_time": "2021-03-25T14:21:04.248188",
     "exception": false,
     "start_time": "2021-03-25T14:21:04.204252",
     "status": "completed"
    },
    "tags": []
   },
   "source": [
    "Renaming the columns for simplicity."
   ]
  },
  {
   "cell_type": "code",
   "execution_count": 7,
   "metadata": {
    "execution": {
     "iopub.execute_input": "2021-03-25T14:21:04.350229Z",
     "iopub.status.busy": "2021-03-25T14:21:04.349451Z",
     "iopub.status.idle": "2021-03-25T14:21:04.371822Z",
     "shell.execute_reply": "2021-03-25T14:21:04.372780Z"
    },
    "papermill": {
     "duration": 0.074666,
     "end_time": "2021-03-25T14:21:04.373135",
     "exception": false,
     "start_time": "2021-03-25T14:21:04.298469",
     "status": "completed"
    },
    "tags": []
   },
   "outputs": [
    {
     "name": "stdout",
     "output_type": "stream",
     "text": [
      "<class 'pandas.core.frame.DataFrame'>\n",
      "RangeIndex: 740 entries, 0 to 739\n",
      "Data columns (total 21 columns):\n",
      " #   Column                  Non-Null Count  Dtype  \n",
      "---  ------                  --------------  -----  \n",
      " 0   ID                      740 non-null    int64  \n",
      " 1   Reason                  740 non-null    int64  \n",
      " 2   Month                   740 non-null    int64  \n",
      " 3   Day                     740 non-null    int64  \n",
      " 4   Seasons                 740 non-null    int64  \n",
      " 5   Travel_expense          740 non-null    int64  \n",
      " 6   Distance                740 non-null    int64  \n",
      " 7   Years                   740 non-null    int64  \n",
      " 8   Age                     740 non-null    int64  \n",
      " 9   Work load Average/day   740 non-null    float64\n",
      " 10  Work_target             740 non-null    int64  \n",
      " 11  Disc_failure            740 non-null    int64  \n",
      " 12  Education               740 non-null    int64  \n",
      " 13  Child                   740 non-null    int64  \n",
      " 14  Social drinker          740 non-null    int64  \n",
      " 15  Social smoker           740 non-null    int64  \n",
      " 16  Pet                     740 non-null    int64  \n",
      " 17  Weight                  740 non-null    int64  \n",
      " 18  Height                  740 non-null    int64  \n",
      " 19  BMI                     740 non-null    int64  \n",
      " 20  Missed_time             740 non-null    int64  \n",
      "dtypes: float64(1), int64(20)\n",
      "memory usage: 121.5 KB\n"
     ]
    }
   ],
   "source": [
    "data.info()"
   ]
  },
  {
   "cell_type": "markdown",
   "metadata": {
    "papermill": {
     "duration": 0.047675,
     "end_time": "2021-03-25T14:21:04.469021",
     "exception": false,
     "start_time": "2021-03-25T14:21:04.421346",
     "status": "completed"
    },
    "tags": []
   },
   "source": [
    "Checking for NA and null values. I am also checking for the type of each column."
   ]
  },
  {
   "cell_type": "code",
   "execution_count": 8,
   "metadata": {
    "execution": {
     "iopub.execute_input": "2021-03-25T14:21:04.565034Z",
     "iopub.status.busy": "2021-03-25T14:21:04.564191Z",
     "iopub.status.idle": "2021-03-25T14:21:04.642697Z",
     "shell.execute_reply": "2021-03-25T14:21:04.643241Z"
    },
    "papermill": {
     "duration": 0.13031,
     "end_time": "2021-03-25T14:21:04.643490",
     "exception": false,
     "start_time": "2021-03-25T14:21:04.513180",
     "status": "completed"
    },
    "tags": []
   },
   "outputs": [
    {
     "data": {
      "text/html": [
       "<div>\n",
       "<style scoped>\n",
       "    .dataframe tbody tr th:only-of-type {\n",
       "        vertical-align: middle;\n",
       "    }\n",
       "\n",
       "    .dataframe tbody tr th {\n",
       "        vertical-align: top;\n",
       "    }\n",
       "\n",
       "    .dataframe thead th {\n",
       "        text-align: right;\n",
       "    }\n",
       "</style>\n",
       "<table border=\"1\" class=\"dataframe\">\n",
       "  <thead>\n",
       "    <tr style=\"text-align: right;\">\n",
       "      <th></th>\n",
       "      <th>ID</th>\n",
       "      <th>Reason</th>\n",
       "      <th>Month</th>\n",
       "      <th>Day</th>\n",
       "      <th>Seasons</th>\n",
       "      <th>Travel_expense</th>\n",
       "      <th>Distance</th>\n",
       "      <th>Years</th>\n",
       "      <th>Age</th>\n",
       "      <th>Work load Average/day</th>\n",
       "      <th>...</th>\n",
       "      <th>Disc_failure</th>\n",
       "      <th>Education</th>\n",
       "      <th>Child</th>\n",
       "      <th>Social drinker</th>\n",
       "      <th>Social smoker</th>\n",
       "      <th>Pet</th>\n",
       "      <th>Weight</th>\n",
       "      <th>Height</th>\n",
       "      <th>BMI</th>\n",
       "      <th>Missed_time</th>\n",
       "    </tr>\n",
       "  </thead>\n",
       "  <tbody>\n",
       "    <tr>\n",
       "      <th>count</th>\n",
       "      <td>740.000000</td>\n",
       "      <td>740.000000</td>\n",
       "      <td>740.000000</td>\n",
       "      <td>740.000000</td>\n",
       "      <td>740.000000</td>\n",
       "      <td>740.000000</td>\n",
       "      <td>740.000000</td>\n",
       "      <td>740.000000</td>\n",
       "      <td>740.000000</td>\n",
       "      <td>740.000000</td>\n",
       "      <td>...</td>\n",
       "      <td>740.000000</td>\n",
       "      <td>740.000000</td>\n",
       "      <td>740.000000</td>\n",
       "      <td>740.000000</td>\n",
       "      <td>740.000000</td>\n",
       "      <td>740.000000</td>\n",
       "      <td>740.000000</td>\n",
       "      <td>740.000000</td>\n",
       "      <td>740.000000</td>\n",
       "      <td>740.000000</td>\n",
       "    </tr>\n",
       "    <tr>\n",
       "      <th>mean</th>\n",
       "      <td>18.017568</td>\n",
       "      <td>19.216216</td>\n",
       "      <td>6.324324</td>\n",
       "      <td>3.914865</td>\n",
       "      <td>2.544595</td>\n",
       "      <td>221.329730</td>\n",
       "      <td>29.631081</td>\n",
       "      <td>12.554054</td>\n",
       "      <td>36.450000</td>\n",
       "      <td>271.490235</td>\n",
       "      <td>...</td>\n",
       "      <td>0.054054</td>\n",
       "      <td>1.291892</td>\n",
       "      <td>1.018919</td>\n",
       "      <td>0.567568</td>\n",
       "      <td>0.072973</td>\n",
       "      <td>0.745946</td>\n",
       "      <td>79.035135</td>\n",
       "      <td>172.114865</td>\n",
       "      <td>26.677027</td>\n",
       "      <td>6.924324</td>\n",
       "    </tr>\n",
       "    <tr>\n",
       "      <th>std</th>\n",
       "      <td>11.021247</td>\n",
       "      <td>8.433406</td>\n",
       "      <td>3.436287</td>\n",
       "      <td>1.421675</td>\n",
       "      <td>1.111831</td>\n",
       "      <td>66.952223</td>\n",
       "      <td>14.836788</td>\n",
       "      <td>4.384873</td>\n",
       "      <td>6.478772</td>\n",
       "      <td>39.058116</td>\n",
       "      <td>...</td>\n",
       "      <td>0.226277</td>\n",
       "      <td>0.673238</td>\n",
       "      <td>1.098489</td>\n",
       "      <td>0.495749</td>\n",
       "      <td>0.260268</td>\n",
       "      <td>1.318258</td>\n",
       "      <td>12.883211</td>\n",
       "      <td>6.034995</td>\n",
       "      <td>4.285452</td>\n",
       "      <td>13.330998</td>\n",
       "    </tr>\n",
       "    <tr>\n",
       "      <th>min</th>\n",
       "      <td>1.000000</td>\n",
       "      <td>0.000000</td>\n",
       "      <td>0.000000</td>\n",
       "      <td>2.000000</td>\n",
       "      <td>1.000000</td>\n",
       "      <td>118.000000</td>\n",
       "      <td>5.000000</td>\n",
       "      <td>1.000000</td>\n",
       "      <td>27.000000</td>\n",
       "      <td>205.917000</td>\n",
       "      <td>...</td>\n",
       "      <td>0.000000</td>\n",
       "      <td>1.000000</td>\n",
       "      <td>0.000000</td>\n",
       "      <td>0.000000</td>\n",
       "      <td>0.000000</td>\n",
       "      <td>0.000000</td>\n",
       "      <td>56.000000</td>\n",
       "      <td>163.000000</td>\n",
       "      <td>19.000000</td>\n",
       "      <td>0.000000</td>\n",
       "    </tr>\n",
       "    <tr>\n",
       "      <th>25%</th>\n",
       "      <td>9.000000</td>\n",
       "      <td>13.000000</td>\n",
       "      <td>3.000000</td>\n",
       "      <td>3.000000</td>\n",
       "      <td>2.000000</td>\n",
       "      <td>179.000000</td>\n",
       "      <td>16.000000</td>\n",
       "      <td>9.000000</td>\n",
       "      <td>31.000000</td>\n",
       "      <td>244.387000</td>\n",
       "      <td>...</td>\n",
       "      <td>0.000000</td>\n",
       "      <td>1.000000</td>\n",
       "      <td>0.000000</td>\n",
       "      <td>0.000000</td>\n",
       "      <td>0.000000</td>\n",
       "      <td>0.000000</td>\n",
       "      <td>69.000000</td>\n",
       "      <td>169.000000</td>\n",
       "      <td>24.000000</td>\n",
       "      <td>2.000000</td>\n",
       "    </tr>\n",
       "    <tr>\n",
       "      <th>50%</th>\n",
       "      <td>18.000000</td>\n",
       "      <td>23.000000</td>\n",
       "      <td>6.000000</td>\n",
       "      <td>4.000000</td>\n",
       "      <td>3.000000</td>\n",
       "      <td>225.000000</td>\n",
       "      <td>26.000000</td>\n",
       "      <td>13.000000</td>\n",
       "      <td>37.000000</td>\n",
       "      <td>264.249000</td>\n",
       "      <td>...</td>\n",
       "      <td>0.000000</td>\n",
       "      <td>1.000000</td>\n",
       "      <td>1.000000</td>\n",
       "      <td>1.000000</td>\n",
       "      <td>0.000000</td>\n",
       "      <td>0.000000</td>\n",
       "      <td>83.000000</td>\n",
       "      <td>170.000000</td>\n",
       "      <td>25.000000</td>\n",
       "      <td>3.000000</td>\n",
       "    </tr>\n",
       "    <tr>\n",
       "      <th>75%</th>\n",
       "      <td>28.000000</td>\n",
       "      <td>26.000000</td>\n",
       "      <td>9.000000</td>\n",
       "      <td>5.000000</td>\n",
       "      <td>4.000000</td>\n",
       "      <td>260.000000</td>\n",
       "      <td>50.000000</td>\n",
       "      <td>16.000000</td>\n",
       "      <td>40.000000</td>\n",
       "      <td>294.217000</td>\n",
       "      <td>...</td>\n",
       "      <td>0.000000</td>\n",
       "      <td>1.000000</td>\n",
       "      <td>2.000000</td>\n",
       "      <td>1.000000</td>\n",
       "      <td>0.000000</td>\n",
       "      <td>1.000000</td>\n",
       "      <td>89.000000</td>\n",
       "      <td>172.000000</td>\n",
       "      <td>31.000000</td>\n",
       "      <td>8.000000</td>\n",
       "    </tr>\n",
       "    <tr>\n",
       "      <th>max</th>\n",
       "      <td>36.000000</td>\n",
       "      <td>28.000000</td>\n",
       "      <td>12.000000</td>\n",
       "      <td>6.000000</td>\n",
       "      <td>4.000000</td>\n",
       "      <td>388.000000</td>\n",
       "      <td>52.000000</td>\n",
       "      <td>29.000000</td>\n",
       "      <td>58.000000</td>\n",
       "      <td>378.884000</td>\n",
       "      <td>...</td>\n",
       "      <td>1.000000</td>\n",
       "      <td>4.000000</td>\n",
       "      <td>4.000000</td>\n",
       "      <td>1.000000</td>\n",
       "      <td>1.000000</td>\n",
       "      <td>8.000000</td>\n",
       "      <td>108.000000</td>\n",
       "      <td>196.000000</td>\n",
       "      <td>38.000000</td>\n",
       "      <td>120.000000</td>\n",
       "    </tr>\n",
       "  </tbody>\n",
       "</table>\n",
       "<p>8 rows × 21 columns</p>\n",
       "</div>"
      ],
      "text/plain": [
       "               ID      Reason       Month         Day     Seasons  \\\n",
       "count  740.000000  740.000000  740.000000  740.000000  740.000000   \n",
       "mean    18.017568   19.216216    6.324324    3.914865    2.544595   \n",
       "std     11.021247    8.433406    3.436287    1.421675    1.111831   \n",
       "min      1.000000    0.000000    0.000000    2.000000    1.000000   \n",
       "25%      9.000000   13.000000    3.000000    3.000000    2.000000   \n",
       "50%     18.000000   23.000000    6.000000    4.000000    3.000000   \n",
       "75%     28.000000   26.000000    9.000000    5.000000    4.000000   \n",
       "max     36.000000   28.000000   12.000000    6.000000    4.000000   \n",
       "\n",
       "       Travel_expense    Distance       Years         Age  \\\n",
       "count      740.000000  740.000000  740.000000  740.000000   \n",
       "mean       221.329730   29.631081   12.554054   36.450000   \n",
       "std         66.952223   14.836788    4.384873    6.478772   \n",
       "min        118.000000    5.000000    1.000000   27.000000   \n",
       "25%        179.000000   16.000000    9.000000   31.000000   \n",
       "50%        225.000000   26.000000   13.000000   37.000000   \n",
       "75%        260.000000   50.000000   16.000000   40.000000   \n",
       "max        388.000000   52.000000   29.000000   58.000000   \n",
       "\n",
       "       Work load Average/day   ...  Disc_failure   Education       Child  \\\n",
       "count              740.000000  ...    740.000000  740.000000  740.000000   \n",
       "mean               271.490235  ...      0.054054    1.291892    1.018919   \n",
       "std                 39.058116  ...      0.226277    0.673238    1.098489   \n",
       "min                205.917000  ...      0.000000    1.000000    0.000000   \n",
       "25%                244.387000  ...      0.000000    1.000000    0.000000   \n",
       "50%                264.249000  ...      0.000000    1.000000    1.000000   \n",
       "75%                294.217000  ...      0.000000    1.000000    2.000000   \n",
       "max                378.884000  ...      1.000000    4.000000    4.000000   \n",
       "\n",
       "       Social drinker  Social smoker         Pet      Weight      Height  \\\n",
       "count      740.000000     740.000000  740.000000  740.000000  740.000000   \n",
       "mean         0.567568       0.072973    0.745946   79.035135  172.114865   \n",
       "std          0.495749       0.260268    1.318258   12.883211    6.034995   \n",
       "min          0.000000       0.000000    0.000000   56.000000  163.000000   \n",
       "25%          0.000000       0.000000    0.000000   69.000000  169.000000   \n",
       "50%          1.000000       0.000000    0.000000   83.000000  170.000000   \n",
       "75%          1.000000       0.000000    1.000000   89.000000  172.000000   \n",
       "max          1.000000       1.000000    8.000000  108.000000  196.000000   \n",
       "\n",
       "              BMI  Missed_time  \n",
       "count  740.000000   740.000000  \n",
       "mean    26.677027     6.924324  \n",
       "std      4.285452    13.330998  \n",
       "min     19.000000     0.000000  \n",
       "25%     24.000000     2.000000  \n",
       "50%     25.000000     3.000000  \n",
       "75%     31.000000     8.000000  \n",
       "max     38.000000   120.000000  \n",
       "\n",
       "[8 rows x 21 columns]"
      ]
     },
     "execution_count": 8,
     "metadata": {},
     "output_type": "execute_result"
    }
   ],
   "source": [
    "data.describe()"
   ]
  },
  {
   "cell_type": "markdown",
   "metadata": {
    "papermill": {
     "duration": 0.048338,
     "end_time": "2021-03-25T14:21:04.738171",
     "exception": false,
     "start_time": "2021-03-25T14:21:04.689833",
     "status": "completed"
    },
    "tags": []
   },
   "source": [
    "Quick statistical overview of the data."
   ]
  },
  {
   "cell_type": "code",
   "execution_count": 9,
   "metadata": {
    "execution": {
     "iopub.execute_input": "2021-03-25T14:21:04.831518Z",
     "iopub.status.busy": "2021-03-25T14:21:04.830227Z",
     "iopub.status.idle": "2021-03-25T14:21:04.840825Z",
     "shell.execute_reply": "2021-03-25T14:21:04.840106Z"
    },
    "papermill": {
     "duration": 0.058985,
     "end_time": "2021-03-25T14:21:04.840997",
     "exception": false,
     "start_time": "2021-03-25T14:21:04.782012",
     "status": "completed"
    },
    "tags": []
   },
   "outputs": [
    {
     "data": {
      "text/plain": [
       "ID                        0\n",
       "Reason                    0\n",
       "Month                     0\n",
       "Day                       0\n",
       "Seasons                   0\n",
       "Travel_expense            0\n",
       "Distance                  0\n",
       "Years                     0\n",
       "Age                       0\n",
       "Work load Average/day     0\n",
       "Work_target               0\n",
       "Disc_failure              0\n",
       "Education                 0\n",
       "Child                     0\n",
       "Social drinker            0\n",
       "Social smoker             0\n",
       "Pet                       0\n",
       "Weight                    0\n",
       "Height                    0\n",
       "BMI                       0\n",
       "Missed_time               0\n",
       "dtype: int64"
      ]
     },
     "execution_count": 9,
     "metadata": {},
     "output_type": "execute_result"
    }
   ],
   "source": [
    "missing = data.isnull().sum()\n",
    "missing"
   ]
  },
  {
   "cell_type": "code",
   "execution_count": 10,
   "metadata": {
    "execution": {
     "iopub.execute_input": "2021-03-25T14:21:04.945070Z",
     "iopub.status.busy": "2021-03-25T14:21:04.944340Z",
     "iopub.status.idle": "2021-03-25T14:21:04.946719Z",
     "shell.execute_reply": "2021-03-25T14:21:04.947166Z"
    },
    "papermill": {
     "duration": 0.056412,
     "end_time": "2021-03-25T14:21:04.947390",
     "exception": false,
     "start_time": "2021-03-25T14:21:04.890978",
     "status": "completed"
    },
    "tags": []
   },
   "outputs": [],
   "source": [
    "sns.set_theme(style='darkgrid')"
   ]
  },
  {
   "cell_type": "code",
   "execution_count": 11,
   "metadata": {
    "execution": {
     "iopub.execute_input": "2021-03-25T14:21:05.044395Z",
     "iopub.status.busy": "2021-03-25T14:21:05.043703Z",
     "iopub.status.idle": "2021-03-25T14:21:05.524208Z",
     "shell.execute_reply": "2021-03-25T14:21:05.524781Z"
    },
    "papermill": {
     "duration": 0.530448,
     "end_time": "2021-03-25T14:21:05.525009",
     "exception": false,
     "start_time": "2021-03-25T14:21:04.994561",
     "status": "completed"
    },
    "tags": []
   },
   "outputs": [
    {
     "data": {
      "image/png": "[encoded data removed]",
      "text/plain": [
       "<Figure size 864x864 with 1 Axes>"
      ]
     },
     "metadata": {},
     "output_type": "display_data"
    }
   ],
   "source": [
    "plt.figure(figsize=(12,12))\n",
    "ax = sns.countplot(y=data['Reason'])\n",
    "ax.set_title('Reasons for Absence')\n",
    "plt.show()"
   ]
  },
  {
   "cell_type": "markdown",
   "metadata": {
    "papermill": {
     "duration": 0.048711,
     "end_time": "2021-03-25T14:21:05.624324",
     "exception": false,
     "start_time": "2021-03-25T14:21:05.575613",
     "status": "completed"
    },
    "tags": []
   },
   "source": [
    "Getting a quick count of all the possible reasons an employee could call out. From the graph, no one has used number 20, which is death. There is also a massive variance of which ones are used. Some are only used a couple of times across the 3 years while one is use almost 150 times."
   ]
  },
  {
   "cell_type": "code",
   "execution_count": 12,
   "metadata": {
    "execution": {
     "iopub.execute_input": "2021-03-25T14:21:05.726806Z",
     "iopub.status.busy": "2021-03-25T14:21:05.725090Z",
     "iopub.status.idle": "2021-03-25T14:21:07.387058Z",
     "shell.execute_reply": "2021-03-25T14:21:07.386365Z"
    },
    "papermill": {
     "duration": 1.715885,
     "end_time": "2021-03-25T14:21:07.387254",
     "exception": false,
     "start_time": "2021-03-25T14:21:05.671369",
     "status": "completed"
    },
    "tags": []
   },
   "outputs": [
    {
     "data": {
      "image/png": "[encoded data removed]",
      "text/plain": [
       "<Figure size 864x864 with 1 Axes>"
      ]
     },
     "metadata": {},
     "output_type": "display_data"
    }
   ],
   "source": [
    "plt.figure(figsize=(12, 12))\n",
    "ax= sns.barplot(x=data['ID'], y=data['Age'])\n",
    "ax.set_title('Age of Employees')\n",
    "plt.show()"
   ]
  },
  {
   "cell_type": "markdown",
   "metadata": {
    "papermill": {
     "duration": 0.04578,
     "end_time": "2021-03-25T14:21:07.479954",
     "exception": false,
     "start_time": "2021-03-25T14:21:07.434174",
     "status": "completed"
    },
    "tags": []
   },
   "source": [
    "Getting the ages of all the different employees. Something happened with employee 29 as they are the only one with a range bar. Perhaps they resued an employee number?"
   ]
  },
  {
   "cell_type": "code",
   "execution_count": 13,
   "metadata": {
    "execution": {
     "iopub.execute_input": "2021-03-25T14:21:07.577662Z",
     "iopub.status.busy": "2021-03-25T14:21:07.577007Z",
     "iopub.status.idle": "2021-03-25T14:21:08.160576Z",
     "shell.execute_reply": "2021-03-25T14:21:08.161070Z"
    },
    "papermill": {
     "duration": 0.635246,
     "end_time": "2021-03-25T14:21:08.161256",
     "exception": false,
     "start_time": "2021-03-25T14:21:07.526010",
     "status": "completed"
    },
    "tags": []
   },
   "outputs": [
    {
     "data": {
      "text/plain": [
       "<AxesSubplot:xlabel='Day', ylabel='Missed_time'>"
      ]
     },
     "execution_count": 13,
     "metadata": {},
     "output_type": "execute_result"
    },
    {
     "data": {
      "image/png": "[encoded data removed]",
      "text/plain": [
       "<Figure size 432x288 with 1 Axes>"
      ]
     },
     "metadata": {},
     "output_type": "display_data"
    }
   ],
   "source": [
    "sns.barplot(x=data['Day'], y=data['Missed_time'], estimator=sum)"
   ]
  },
  {
   "cell_type": "markdown",
   "metadata": {
    "papermill": {
     "duration": 0.04656,
     "end_time": "2021-03-25T14:21:08.255135",
     "exception": false,
     "start_time": "2021-03-25T14:21:08.208575",
     "status": "completed"
    },
    "tags": []
   },
   "source": [
    "Monday had the greatest amount of missed time while Thursday had the least."
   ]
  },
  {
   "cell_type": "code",
   "execution_count": 14,
   "metadata": {
    "execution": {
     "iopub.execute_input": "2021-03-25T14:21:08.352711Z",
     "iopub.status.busy": "2021-03-25T14:21:08.351907Z",
     "iopub.status.idle": "2021-03-25T14:21:08.604830Z",
     "shell.execute_reply": "2021-03-25T14:21:08.605440Z"
    },
    "papermill": {
     "duration": 0.303523,
     "end_time": "2021-03-25T14:21:08.605708",
     "exception": false,
     "start_time": "2021-03-25T14:21:08.302185",
     "status": "completed"
    },
    "tags": []
   },
   "outputs": [
    {
     "data": {
      "text/plain": [
       "<AxesSubplot:xlabel='count', ylabel='Month'>"
      ]
     },
     "execution_count": 14,
     "metadata": {},
     "output_type": "execute_result"
    },
    {
     "data": {
      "image/png": "[encoded data removed]",
      "text/plain": [
       "<Figure size 432x288 with 1 Axes>"
      ]
     },
     "metadata": {},
     "output_type": "display_data"
    }
   ],
   "source": [
    "sns.countplot(y=data['Month'])"
   ]
  },
  {
   "cell_type": "markdown",
   "metadata": {
    "papermill": {
     "duration": 0.053404,
     "end_time": "2021-03-25T14:21:08.712218",
     "exception": false,
     "start_time": "2021-03-25T14:21:08.658814",
     "status": "completed"
    },
    "tags": []
   },
   "source": [
    "There were more sick days taken in March than any other month. Perhaps a local holiday?"
   ]
  },
  {
   "cell_type": "code",
   "execution_count": 15,
   "metadata": {
    "execution": {
     "iopub.execute_input": "2021-03-25T14:21:08.820127Z",
     "iopub.status.busy": "2021-03-25T14:21:08.819049Z",
     "iopub.status.idle": "2021-03-25T14:21:10.471838Z",
     "shell.execute_reply": "2021-03-25T14:21:10.472363Z"
    },
    "papermill": {
     "duration": 1.70732,
     "end_time": "2021-03-25T14:21:10.472621",
     "exception": false,
     "start_time": "2021-03-25T14:21:08.765301",
     "status": "completed"
    },
    "tags": []
   },
   "outputs": [
    {
     "data": {
      "text/plain": [
       "<AxesSubplot:xlabel='ID', ylabel='Missed_time'>"
      ]
     },
     "execution_count": 15,
     "metadata": {},
     "output_type": "execute_result"
    },
    {
     "data": {
      "image/png": "[encoded data removed]",
      "text/plain": [
       "<Figure size 864x864 with 1 Axes>"
      ]
     },
     "metadata": {},
     "output_type": "display_data"
    }
   ],
   "source": [
    "plt.figure(figsize=(12,12))\n",
    "sns.barplot(x=data['ID'], y=data['Missed_time'])"
   ]
  },
  {
   "cell_type": "markdown",
   "metadata": {
    "papermill": {
     "duration": 0.053144,
     "end_time": "2021-03-25T14:21:10.577299",
     "exception": false,
     "start_time": "2021-03-25T14:21:10.524155",
     "status": "completed"
    },
    "tags": []
   },
   "source": [
    "Employees 4, 8 and 35 have not taken any time off. "
   ]
  },
  {
   "cell_type": "code",
   "execution_count": 16,
   "metadata": {
    "execution": {
     "iopub.execute_input": "2021-03-25T14:21:10.721133Z",
     "iopub.status.busy": "2021-03-25T14:21:10.720252Z",
     "iopub.status.idle": "2021-03-25T14:21:10.983588Z",
     "shell.execute_reply": "2021-03-25T14:21:10.982502Z"
    },
    "papermill": {
     "duration": 0.35432,
     "end_time": "2021-03-25T14:21:10.983844",
     "exception": false,
     "start_time": "2021-03-25T14:21:10.629524",
     "status": "completed"
    },
    "tags": []
   },
   "outputs": [
    {
     "data": {
      "image/png": "[encoded data removed]",
      "text/plain": [
       "<Figure size 864x864 with 1 Axes>"
      ]
     },
     "metadata": {},
     "output_type": "display_data"
    }
   ],
   "source": [
    "plt.figure(figsize=(12,12))\n",
    "sns.scatterplot(x=data['ID'], y=data['Reason'])\n",
    "plt.show()"
   ]
  },
  {
   "cell_type": "markdown",
   "metadata": {
    "papermill": {
     "duration": 0.061945,
     "end_time": "2021-03-25T14:21:11.115936",
     "exception": false,
     "start_time": "2021-03-25T14:21:11.053991",
     "status": "completed"
    },
    "tags": []
   },
   "source": [
    "Showing each of the reasons each employee called out."
   ]
  },
  {
   "cell_type": "code",
   "execution_count": 17,
   "metadata": {
    "execution": {
     "iopub.execute_input": "2021-03-25T14:21:11.238815Z",
     "iopub.status.busy": "2021-03-25T14:21:11.237579Z",
     "iopub.status.idle": "2021-03-25T14:21:12.154350Z",
     "shell.execute_reply": "2021-03-25T14:21:12.153787Z"
    },
    "papermill": {
     "duration": 0.98015,
     "end_time": "2021-03-25T14:21:12.154534",
     "exception": false,
     "start_time": "2021-03-25T14:21:11.174384",
     "status": "completed"
    },
    "tags": []
   },
   "outputs": [
    {
     "name": "stderr",
     "output_type": "stream",
     "text": [
      "/opt/conda/lib/python3.7/site-packages/seaborn/_decorators.py:43: FutureWarning: Pass the following variables as keyword args: x, y. From version 0.12, the only valid positional argument will be `data`, and passing other arguments without an explicit keyword will result in an error or misinterpretation.\n",
      "  FutureWarning\n"
     ]
    },
    {
     "data": {
      "text/plain": [
       "<AxesSubplot:xlabel='Reason', ylabel='Missed_time'>"
      ]
     },
     "execution_count": 17,
     "metadata": {},
     "output_type": "execute_result"
    },
    {
     "data": {
      "image/png": "[encoded data removed]",
      "text/plain": [
       "<Figure size 864x864 with 1 Axes>"
      ]
     },
     "metadata": {},
     "output_type": "display_data"
    }
   ],
   "source": [
    "plt.figure(figsize=(12,12))\n",
    "sns.boxplot(data['Reason'], data['Missed_time'])"
   ]
  },
  {
   "cell_type": "code",
   "execution_count": 18,
   "metadata": {
    "execution": {
     "iopub.execute_input": "2021-03-25T14:21:12.268783Z",
     "iopub.status.busy": "2021-03-25T14:21:12.268043Z",
     "iopub.status.idle": "2021-03-25T14:21:12.922504Z",
     "shell.execute_reply": "2021-03-25T14:21:12.923558Z"
    },
    "papermill": {
     "duration": 0.71564,
     "end_time": "2021-03-25T14:21:12.923915",
     "exception": false,
     "start_time": "2021-03-25T14:21:12.208275",
     "status": "completed"
    },
    "tags": []
   },
   "outputs": [
    {
     "data": {
      "image/png": "[encoded data removed]",
      "text/plain": [
       "<Figure size 864x864 with 2 Axes>"
      ]
     },
     "metadata": {},
     "output_type": "display_data"
    }
   ],
   "source": [
    "correlation_heatmap = data.corr()\n",
    "plt.figure(figsize=(12,12))\n",
    "sns.heatmap(data.groupby(['Month', 'Day'])['Missed_time'].sum().unstack()[1:13],\n",
    "            annot=True, fmt ='g', cmap='Blues')\n",
    "plt.show()"
   ]
  },
  {
   "cell_type": "markdown",
   "metadata": {
    "papermill": {
     "duration": 0.058939,
     "end_time": "2021-03-25T14:21:13.042468",
     "exception": false,
     "start_time": "2021-03-25T14:21:12.983529",
     "status": "completed"
    },
    "tags": []
   },
   "source": [
    "Seeing the correlation between Month and Day. "
   ]
  },
  {
   "cell_type": "code",
   "execution_count": 19,
   "metadata": {
    "execution": {
     "iopub.execute_input": "2021-03-25T14:21:13.162766Z",
     "iopub.status.busy": "2021-03-25T14:21:13.161954Z",
     "iopub.status.idle": "2021-03-25T14:21:22.903952Z",
     "shell.execute_reply": "2021-03-25T14:21:22.903179Z"
    },
    "papermill": {
     "duration": 9.804083,
     "end_time": "2021-03-25T14:21:22.904112",
     "exception": false,
     "start_time": "2021-03-25T14:21:13.100029",
     "status": "completed"
    },
    "tags": []
   },
   "outputs": [
    {
     "name": "stdout",
     "output_type": "stream",
     "text": [
      "Collecting kneed\r\n",
      "  Downloading kneed-0.7.0-py2.py3-none-any.whl (9.4 kB)\r\n",
      "Requirement already satisfied: scipy in /opt/conda/lib/python3.7/site-packages (from kneed) (1.5.4)\r\n",
      "Requirement already satisfied: numpy>=1.14.2 in /opt/conda/lib/python3.7/site-packages (from kneed) (1.19.5)\r\n",
      "Requirement already satisfied: matplotlib in /opt/conda/lib/python3.7/site-packages (from kneed) (3.3.3)\r\n",
      "Requirement already satisfied: pyparsing!=2.0.4,!=2.1.2,!=2.1.6,>=2.0.3 in /opt/conda/lib/python3.7/site-packages (from matplotlib->kneed) (2.4.7)\r\n",
      "Requirement already satisfied: python-dateutil>=2.1 in /opt/conda/lib/python3.7/site-packages (from matplotlib->kneed) (2.8.1)\r\n",
      "Requirement already satisfied: cycler>=0.10 in /opt/conda/lib/python3.7/site-packages (from matplotlib->kneed) (0.10.0)\r\n",
      "Requirement already satisfied: pillow>=6.2.0 in /opt/conda/lib/python3.7/site-packages (from matplotlib->kneed) (7.2.0)\r\n",
      "Requirement already satisfied: kiwisolver>=1.0.1 in /opt/conda/lib/python3.7/site-packages (from matplotlib->kneed) (1.3.1)\r\n",
      "Requirement already satisfied: six in /opt/conda/lib/python3.7/site-packages (from cycler>=0.10->matplotlib->kneed) (1.15.0)\r\n",
      "Installing collected packages: kneed\r\n",
      "Successfully installed kneed-0.7.0\r\n"
     ]
    }
   ],
   "source": [
    "!pip install --upgrade kneed"
   ]
  },
  {
   "cell_type": "markdown",
   "metadata": {
    "papermill": {
     "duration": 0.055774,
     "end_time": "2021-03-25T14:21:23.015938",
     "exception": false,
     "start_time": "2021-03-25T14:21:22.960164",
     "status": "completed"
    },
    "tags": []
   },
   "source": [
    "Clustering!"
   ]
  },
  {
   "cell_type": "code",
   "execution_count": 20,
   "metadata": {
    "execution": {
     "iopub.execute_input": "2021-03-25T14:21:23.135861Z",
     "iopub.status.busy": "2021-03-25T14:21:23.134757Z",
     "iopub.status.idle": "2021-03-25T14:21:23.387507Z",
     "shell.execute_reply": "2021-03-25T14:21:23.386789Z"
    },
    "papermill": {
     "duration": 0.31583,
     "end_time": "2021-03-25T14:21:23.387665",
     "exception": false,
     "start_time": "2021-03-25T14:21:23.071835",
     "status": "completed"
    },
    "tags": []
   },
   "outputs": [],
   "source": [
    "from kneed import KneeLocator\n",
    "from sklearn.datasets import make_blobs\n",
    "from sklearn.cluster import KMeans\n",
    "from sklearn.metrics import silhouette_score\n",
    "from sklearn.preprocessing import StandardScaler"
   ]
  },
  {
   "cell_type": "code",
   "execution_count": 21,
   "metadata": {
    "execution": {
     "iopub.execute_input": "2021-03-25T14:21:23.507184Z",
     "iopub.status.busy": "2021-03-25T14:21:23.506539Z",
     "iopub.status.idle": "2021-03-25T14:21:23.509633Z",
     "shell.execute_reply": "2021-03-25T14:21:23.508964Z"
    },
    "papermill": {
     "duration": 0.066243,
     "end_time": "2021-03-25T14:21:23.509797",
     "exception": false,
     "start_time": "2021-03-25T14:21:23.443554",
     "status": "completed"
    },
    "tags": []
   },
   "outputs": [],
   "source": [
    "features = data.drop(['Reason', 'ID'], axis=1)"
   ]
  },
  {
   "cell_type": "code",
   "execution_count": 22,
   "metadata": {
    "execution": {
     "iopub.execute_input": "2021-03-25T14:21:23.632376Z",
     "iopub.status.busy": "2021-03-25T14:21:23.631719Z",
     "iopub.status.idle": "2021-03-25T14:21:23.641506Z",
     "shell.execute_reply": "2021-03-25T14:21:23.640857Z"
    },
    "papermill": {
     "duration": 0.073407,
     "end_time": "2021-03-25T14:21:23.641653",
     "exception": false,
     "start_time": "2021-03-25T14:21:23.568246",
     "status": "completed"
    },
    "tags": []
   },
   "outputs": [
    {
     "data": {
      "text/plain": [
       "array([[ 0.19676258, -0.64394734, -1.3901746 , ..., -0.01904601,\n",
       "         0.77593223, -0.21951111],\n",
       "       [ 0.19676258, -0.64394734, -1.3901746 , ...,  0.97582783,\n",
       "         1.00943766, -0.51976661],\n",
       "       [ 0.19676258,  0.0599242 , -1.3901746 , ..., -0.35067062,\n",
       "         1.00943766, -0.36963886],\n",
       "       ...,\n",
       "       [-1.84169773, -0.64394734, -1.3901746 , ..., -0.35067062,\n",
       "         1.70995395, -0.51976661],\n",
       "       [-1.84169773,  0.0599242 , -0.49014905, ..., -0.35067062,\n",
       "         1.94345938, -0.51976661],\n",
       "       [-1.84169773,  1.46766727,  0.4098765 , ...,  0.47839091,\n",
       "        -0.39159492, -0.51976661]])"
      ]
     },
     "execution_count": 22,
     "metadata": {},
     "output_type": "execute_result"
    }
   ],
   "source": [
    "scaler = StandardScaler()\n",
    "scaled_data = scaler.fit_transform(features)\n",
    "scaled_data"
   ]
  },
  {
   "cell_type": "code",
   "execution_count": 23,
   "metadata": {
    "execution": {
     "iopub.execute_input": "2021-03-25T14:21:23.762993Z",
     "iopub.status.busy": "2021-03-25T14:21:23.762298Z",
     "iopub.status.idle": "2021-03-25T14:21:23.798791Z",
     "shell.execute_reply": "2021-03-25T14:21:23.799867Z"
    },
    "papermill": {
     "duration": 0.101663,
     "end_time": "2021-03-25T14:21:23.800175",
     "exception": false,
     "start_time": "2021-03-25T14:21:23.698512",
     "status": "completed"
    },
    "tags": []
   },
   "outputs": [
    {
     "data": {
      "text/plain": [
       "(740, 2)"
      ]
     },
     "execution_count": 23,
     "metadata": {},
     "output_type": "execute_result"
    }
   ],
   "source": [
    "from sklearn.decomposition import PCA\n",
    "pca = PCA(2)\n",
    "df_pca = pca.fit_transform(scaled_data)\n",
    "\n",
    "df_pca.shape"
   ]
  },
  {
   "cell_type": "code",
   "execution_count": 24,
   "metadata": {
    "execution": {
     "iopub.execute_input": "2021-03-25T14:21:23.967670Z",
     "iopub.status.busy": "2021-03-25T14:21:23.966175Z",
     "iopub.status.idle": "2021-03-25T14:21:24.586670Z",
     "shell.execute_reply": "2021-03-25T14:21:24.585802Z"
    },
    "papermill": {
     "duration": 0.687376,
     "end_time": "2021-03-25T14:21:24.586890",
     "exception": false,
     "start_time": "2021-03-25T14:21:23.899514",
     "status": "completed"
    },
    "tags": []
   },
   "outputs": [],
   "source": [
    "kmeans_kwargs = {\n",
    "    \"init\": \"random\",\n",
    "    \"n_init\": 10,\n",
    "    \"max_iter\": 300,\n",
    "    \"random_state\": 137\n",
    "}\n",
    "\n",
    "sse= []\n",
    "for k in range(1,11):\n",
    "    kmeans=KMeans(n_clusters=k, **kmeans_kwargs)\n",
    "    kmeans.fit(df_pca)\n",
    "    sse.append(kmeans.inertia_)"
   ]
  },
  {
   "cell_type": "code",
   "execution_count": 25,
   "metadata": {
    "execution": {
     "iopub.execute_input": "2021-03-25T14:21:24.749087Z",
     "iopub.status.busy": "2021-03-25T14:21:24.748261Z",
     "iopub.status.idle": "2021-03-25T14:21:24.961900Z",
     "shell.execute_reply": "2021-03-25T14:21:24.961087Z"
    },
    "papermill": {
     "duration": 0.313129,
     "end_time": "2021-03-25T14:21:24.962078",
     "exception": false,
     "start_time": "2021-03-25T14:21:24.648949",
     "status": "completed"
    },
    "tags": []
   },
   "outputs": [
    {
     "data": {
      "image/png": "[encoded data removed]",
      "text/plain": [
       "<Figure size 432x288 with 1 Axes>"
      ]
     },
     "metadata": {},
     "output_type": "display_data"
    }
   ],
   "source": [
    "plt.plot(range(1,11), sse)\n",
    "plt.xticks(range(1,11))\n",
    "plt.show()"
   ]
  },
  {
   "cell_type": "code",
   "execution_count": 26,
   "metadata": {
    "execution": {
     "iopub.execute_input": "2021-03-25T14:21:25.092333Z",
     "iopub.status.busy": "2021-03-25T14:21:25.091553Z",
     "iopub.status.idle": "2021-03-25T14:21:25.095649Z",
     "shell.execute_reply": "2021-03-25T14:21:25.094924Z"
    },
    "papermill": {
     "duration": 0.070014,
     "end_time": "2021-03-25T14:21:25.095821",
     "exception": false,
     "start_time": "2021-03-25T14:21:25.025807",
     "status": "completed"
    },
    "tags": []
   },
   "outputs": [],
   "source": [
    "kmeans = KMeans(init ='random', n_clusters=3,\n",
    "               n_init=10, max_iter=300, random_state=137)"
   ]
  },
  {
   "cell_type": "code",
   "execution_count": 27,
   "metadata": {
    "execution": {
     "iopub.execute_input": "2021-03-25T14:21:25.231868Z",
     "iopub.status.busy": "2021-03-25T14:21:25.229369Z",
     "iopub.status.idle": "2021-03-25T14:21:25.293140Z",
     "shell.execute_reply": "2021-03-25T14:21:25.292452Z"
    },
    "papermill": {
     "duration": 0.136033,
     "end_time": "2021-03-25T14:21:25.293347",
     "exception": false,
     "start_time": "2021-03-25T14:21:25.157314",
     "status": "completed"
    },
    "tags": []
   },
   "outputs": [
    {
     "data": {
      "text/plain": [
       "array([0, 1, 1, 0, 0, 1, 0, 0, 1, 2, 0, 0, 0, 1, 1, 2, 1, 1, 2, 1, 2, 1,\n",
       "       0, 0, 0, 0, 0, 2, 0, 1, 1, 0, 2, 0, 1, 0, 0, 0, 0, 0, 2, 2, 1, 1,\n",
       "       1, 2, 1, 0, 0, 0, 0, 0, 0, 2, 0, 1, 0, 1, 0, 1, 1, 0, 1, 2, 1, 2,\n",
       "       1, 0, 2, 0, 1, 0, 1, 0, 0, 0, 0, 0, 0, 0, 1, 0, 1, 2, 0, 1, 0, 0,\n",
       "       0, 1, 0, 2, 0, 0, 1, 0, 0, 0, 1, 2, 1, 2, 0, 0, 2, 0, 0, 0, 0, 0,\n",
       "       2, 0, 0, 2, 2, 2, 1, 2, 2, 2, 2, 2, 2, 2, 2, 2, 2, 2, 2, 2, 0, 2,\n",
       "       2, 2, 2, 2, 0, 2, 2, 1, 1, 2, 0, 0, 2, 2, 2, 2, 2, 2, 2, 2, 2, 2,\n",
       "       2, 0, 0, 2, 2, 0, 0, 2, 1, 0, 2, 1, 0, 1, 0, 2, 0, 2, 2, 1, 2, 2,\n",
       "       2, 2, 2, 1, 2, 2, 1, 2, 0, 2, 1, 2, 1, 2, 0, 1, 1, 0, 2, 0, 1, 0,\n",
       "       0, 1, 0, 0, 2, 0, 0, 1, 1, 1, 2, 2, 1, 1, 0, 0, 2, 0, 0, 1, 1, 0,\n",
       "       2, 0, 2, 0, 0, 1, 1, 2, 1, 2, 1, 1, 0, 1, 1, 2, 1, 1, 2, 2, 2, 2,\n",
       "       1, 2, 2, 2, 0, 0, 1, 0, 0, 0, 0, 2, 0, 2, 0, 0, 0, 0, 1, 2, 2, 1,\n",
       "       1, 2, 1, 2, 0, 2, 1, 1, 0, 1, 0, 0, 1, 0, 1, 0, 1, 0, 0, 1, 1, 1,\n",
       "       0, 0, 1, 0, 2, 0, 0, 1, 0, 2, 2, 0, 1, 2, 1, 0, 0, 1, 1, 1, 1, 0,\n",
       "       2, 1, 0, 0, 0, 0, 2, 2, 1, 2, 1, 1, 0, 0, 0, 1, 1, 2, 2, 2, 2, 1,\n",
       "       0, 0, 0, 1, 0, 0, 0, 0, 1, 0, 1, 1, 2, 1, 0, 0, 1, 1, 2, 2, 2, 1,\n",
       "       1, 2, 0, 2, 1, 0, 2, 2, 1, 2, 1, 1, 0, 1, 1, 1, 1, 2, 1, 2, 0, 0,\n",
       "       1, 1, 1, 1, 2, 1, 2, 1, 2, 0, 2, 1, 1, 2, 1, 1, 2, 2, 2, 0, 1, 2,\n",
       "       2, 0, 1, 0, 0, 2, 1, 1, 1, 2, 0, 1, 1, 0, 0, 2, 1, 0, 2, 0, 1, 2,\n",
       "       1, 1, 1, 0, 0, 1, 2, 1, 1, 0, 2, 1, 0, 0, 2, 2, 2, 2, 2, 2, 2, 2,\n",
       "       2, 2, 1, 2, 2, 0, 1, 0, 1, 1, 1, 1, 1, 2, 1, 1, 2, 2, 2, 2, 2, 0,\n",
       "       0, 2, 2, 2, 0, 2, 0, 0, 1, 2, 1, 1, 0, 0, 1, 1, 0, 0, 1, 2, 1, 2,\n",
       "       0, 1, 0, 1, 2, 2, 2, 1, 2, 0, 0, 0, 0, 2, 1, 0, 2, 1, 1, 0, 2, 0,\n",
       "       0, 1, 2, 0, 1, 0, 2, 1, 0, 0, 0, 0, 0, 0, 1, 0, 0, 0, 0, 0, 0, 0,\n",
       "       2, 1, 0, 0, 1, 2, 2, 1, 2, 0, 2, 0, 0, 0, 2, 0, 1, 2, 2, 0, 0, 0,\n",
       "       1, 1, 0, 0, 0, 1, 0, 0, 2, 0, 0, 0, 2, 1, 0, 2, 0, 0, 0, 1, 2, 2,\n",
       "       2, 2, 2, 2, 1, 2, 2, 1, 2, 1, 0, 1, 1, 1, 2, 1, 1, 2, 1, 2, 2, 1,\n",
       "       0, 1, 2, 1, 1, 2, 2, 2, 1, 0, 2, 1, 1, 1, 1, 2, 1, 2, 1, 1, 2, 1,\n",
       "       1, 2, 1, 1, 2, 1, 2, 1, 2, 1, 2, 2, 2, 0, 1, 1, 1, 2, 1, 1, 1, 2,\n",
       "       1, 0, 2, 1, 1, 1, 2, 1, 1, 1, 1, 1, 1, 2, 1, 0, 2, 2, 0, 1, 0, 2,\n",
       "       0, 2, 1, 0, 2, 2, 2, 2, 2, 2, 1, 0, 1, 2, 2, 2, 2, 2, 1, 2, 0, 2,\n",
       "       0, 2, 2, 1, 1, 2, 1, 2, 0, 2, 1, 2, 0, 2, 2, 2, 2, 0, 2, 0, 1, 2,\n",
       "       1, 2, 1, 2, 2, 2, 0, 1, 0, 2, 0, 2, 1, 2, 0, 2, 2, 0, 2, 2, 0, 1,\n",
       "       0, 2, 2, 1, 0, 2, 0, 2, 0, 0, 2, 1, 1, 1], dtype=int32)"
      ]
     },
     "execution_count": 27,
     "metadata": {},
     "output_type": "execute_result"
    }
   ],
   "source": [
    "label = kmeans.fit_predict(df_pca)\n",
    "label"
   ]
  },
  {
   "cell_type": "code",
   "execution_count": 28,
   "metadata": {
    "execution": {
     "iopub.execute_input": "2021-03-25T14:21:25.452658Z",
     "iopub.status.busy": "2021-03-25T14:21:25.451342Z",
     "iopub.status.idle": "2021-03-25T14:21:25.681827Z",
     "shell.execute_reply": "2021-03-25T14:21:25.682336Z"
    },
    "papermill": {
     "duration": 0.323339,
     "end_time": "2021-03-25T14:21:25.682884",
     "exception": false,
     "start_time": "2021-03-25T14:21:25.359545",
     "status": "completed"
    },
    "tags": []
   },
   "outputs": [
    {
     "data": {
      "image/png": "[encoded data removed]",
      "text/plain": [
       "<Figure size 432x288 with 1 Axes>"
      ]
     },
     "metadata": {},
     "output_type": "display_data"
    }
   ],
   "source": [
    "filtered_label0 = df_pca[label == 0]\n",
    "plt.scatter(filtered_label0[:,0], filtered_label0[:,1])\n",
    "plt.show()"
   ]
  },
  {
   "cell_type": "code",
   "execution_count": 29,
   "metadata": {
    "execution": {
     "iopub.execute_input": "2021-03-25T14:21:25.816228Z",
     "iopub.status.busy": "2021-03-25T14:21:25.815089Z",
     "iopub.status.idle": "2021-03-25T14:21:26.156445Z",
     "shell.execute_reply": "2021-03-25T14:21:26.156978Z"
    },
    "papermill": {
     "duration": 0.409592,
     "end_time": "2021-03-25T14:21:26.157206",
     "exception": false,
     "start_time": "2021-03-25T14:21:25.747614",
     "status": "completed"
    },
    "tags": []
   },
   "outputs": [
    {
     "data": {
      "image/png": "[encoded data removed]",
      "text/plain": [
       "<Figure size 432x288 with 1 Axes>"
      ]
     },
     "metadata": {},
     "output_type": "display_data"
    }
   ],
   "source": [
    "u_labels = np.unique(label)\n",
    "centroids = kmeans.cluster_centers_\n",
    "\n",
    "for i in u_labels:\n",
    "    plt.scatter(df_pca[label==i, 0], df_pca[label == i, 1], label=i)\n",
    "plt.scatter(centroids[:,0], centroids[:,1], s=80, color='k')\n",
    "plt.legend()\n",
    "plt.show()"
   ]
  },
  {
   "cell_type": "markdown",
   "metadata": {
    "papermill": {
     "duration": 0.065977,
     "end_time": "2021-03-25T14:21:26.290030",
     "exception": false,
     "start_time": "2021-03-25T14:21:26.224053",
     "status": "completed"
    },
    "tags": []
   },
   "source": [
    "Since the knee was shown to be 3 clusters, I produced the 3 clusters just above with their centroids."
   ]
  },
  {
   "cell_type": "code",
   "execution_count": 30,
   "metadata": {
    "execution": {
     "iopub.execute_input": "2021-03-25T14:21:26.430086Z",
     "iopub.status.busy": "2021-03-25T14:21:26.428919Z",
     "iopub.status.idle": "2021-03-25T14:21:26.438540Z",
     "shell.execute_reply": "2021-03-25T14:21:26.439068Z"
    },
    "papermill": {
     "duration": 0.081692,
     "end_time": "2021-03-25T14:21:26.439338",
     "exception": false,
     "start_time": "2021-03-25T14:21:26.357646",
     "status": "completed"
    },
    "tags": []
   },
   "outputs": [],
   "source": [
    "final_data = data.drop(['ID'], axis=1)\n",
    "X = final_data.drop(['Reason'], axis=1)\n",
    "y = final_data['Reason']"
   ]
  },
  {
   "cell_type": "markdown",
   "metadata": {
    "papermill": {
     "duration": 0.064056,
     "end_time": "2021-03-25T14:21:26.569372",
     "exception": false,
     "start_time": "2021-03-25T14:21:26.505316",
     "status": "completed"
    },
    "tags": []
   },
   "source": [
    "Beginning to run through the various models. And trying to get a baseline for each model."
   ]
  },
  {
   "cell_type": "code",
   "execution_count": 31,
   "metadata": {
    "execution": {
     "iopub.execute_input": "2021-03-25T14:21:26.701836Z",
     "iopub.status.busy": "2021-03-25T14:21:26.700700Z",
     "iopub.status.idle": "2021-03-25T14:21:26.708551Z",
     "shell.execute_reply": "2021-03-25T14:21:26.709064Z"
    },
    "papermill": {
     "duration": 0.075632,
     "end_time": "2021-03-25T14:21:26.709284",
     "exception": false,
     "start_time": "2021-03-25T14:21:26.633652",
     "status": "completed"
    },
    "tags": []
   },
   "outputs": [],
   "source": [
    "X_train, X_test, y_train, y_test = train_test_split(X, y, test_size = 0.3, random_state=137)"
   ]
  },
  {
   "cell_type": "code",
   "execution_count": 32,
   "metadata": {
    "execution": {
     "iopub.execute_input": "2021-03-25T14:21:26.842934Z",
     "iopub.status.busy": "2021-03-25T14:21:26.841856Z",
     "iopub.status.idle": "2021-03-25T14:21:27.147203Z",
     "shell.execute_reply": "2021-03-25T14:21:27.148048Z"
    },
    "papermill": {
     "duration": 0.375994,
     "end_time": "2021-03-25T14:21:27.148339",
     "exception": false,
     "start_time": "2021-03-25T14:21:26.772345",
     "status": "completed"
    },
    "tags": []
   },
   "outputs": [
    {
     "name": "stdout",
     "output_type": "stream",
     "text": [
      "Accuracy : 0.46846846846846846\n"
     ]
    }
   ],
   "source": [
    "rf = RandomForestClassifier()\n",
    "rf = rf.fit(X_train, y_train)\n",
    "pred_rf = rf.predict(X_test)\n",
    "\n",
    "print('Accuracy : {}'.format(accuracy_score(y_test, pred_rf)))"
   ]
  },
  {
   "cell_type": "code",
   "execution_count": 33,
   "metadata": {
    "execution": {
     "iopub.execute_input": "2021-03-25T14:21:27.295761Z",
     "iopub.status.busy": "2021-03-25T14:21:27.291699Z",
     "iopub.status.idle": "2021-03-25T14:21:27.320990Z",
     "shell.execute_reply": "2021-03-25T14:21:27.320242Z"
    },
    "papermill": {
     "duration": 0.107369,
     "end_time": "2021-03-25T14:21:27.321172",
     "exception": false,
     "start_time": "2021-03-25T14:21:27.213803",
     "status": "completed"
    },
    "tags": []
   },
   "outputs": [
    {
     "name": "stdout",
     "output_type": "stream",
     "text": [
      "Accuracy : 0.26126126126126126\n"
     ]
    }
   ],
   "source": [
    "knn_clf = KNeighborsClassifier(n_neighbors=5)\n",
    "knn_clf = knn_clf.fit(X_train, y_train)\n",
    "pred_knn = knn_clf.predict(X_test)\n",
    "\n",
    "print('Accuracy : {}'.format(accuracy_score(y_test, pred_knn)))"
   ]
  },
  {
   "cell_type": "code",
   "execution_count": 34,
   "metadata": {
    "execution": {
     "iopub.execute_input": "2021-03-25T14:21:27.469091Z",
     "iopub.status.busy": "2021-03-25T14:21:27.467771Z",
     "iopub.status.idle": "2021-03-25T14:21:27.526491Z",
     "shell.execute_reply": "2021-03-25T14:21:27.527709Z"
    },
    "papermill": {
     "duration": 0.13909,
     "end_time": "2021-03-25T14:21:27.528131",
     "exception": false,
     "start_time": "2021-03-25T14:21:27.389041",
     "status": "completed"
    },
    "tags": []
   },
   "outputs": [
    {
     "name": "stdout",
     "output_type": "stream",
     "text": [
      "Accuracy : 0.18018018018018017\n"
     ]
    }
   ],
   "source": [
    "svm_clf = svm.SVC()\n",
    "svm_clf = svm_clf.fit(X_train, y_train)\n",
    "pred_svm = svm_clf.predict(X_test)\n",
    "\n",
    "print('Accuracy : {}'.format(accuracy_score(y_test, pred_svm)))"
   ]
  },
  {
   "cell_type": "markdown",
   "metadata": {
    "papermill": {
     "duration": 0.067272,
     "end_time": "2021-03-25T14:21:27.663001",
     "exception": false,
     "start_time": "2021-03-25T14:21:27.595729",
     "status": "completed"
    },
    "tags": []
   },
   "source": [
    "None of the models perform that well."
   ]
  },
  {
   "cell_type": "markdown",
   "metadata": {
    "papermill": {
     "duration": 0.065439,
     "end_time": "2021-03-25T14:21:27.792499",
     "exception": false,
     "start_time": "2021-03-25T14:21:27.727060",
     "status": "completed"
    },
    "tags": []
   },
   "source": [
    "Seeing how keras can deal with this dataset."
   ]
  },
  {
   "cell_type": "code",
   "execution_count": 35,
   "metadata": {
    "execution": {
     "iopub.execute_input": "2021-03-25T14:21:27.928897Z",
     "iopub.status.busy": "2021-03-25T14:21:27.927825Z",
     "iopub.status.idle": "2021-03-25T14:21:34.512306Z",
     "shell.execute_reply": "2021-03-25T14:21:34.512879Z"
    },
    "papermill": {
     "duration": 6.656838,
     "end_time": "2021-03-25T14:21:34.513127",
     "exception": false,
     "start_time": "2021-03-25T14:21:27.856289",
     "status": "completed"
    },
    "tags": []
   },
   "outputs": [],
   "source": [
    "import tensorflow as tf\n",
    "from keras.models import Sequential\n",
    "from keras.layers import Dense\n",
    "\n",
    "labels= data['Reason']\n",
    "features = data.iloc[:, 2:20]"
   ]
  },
  {
   "cell_type": "code",
   "execution_count": 36,
   "metadata": {
    "execution": {
     "iopub.execute_input": "2021-03-25T14:21:34.649985Z",
     "iopub.status.busy": "2021-03-25T14:21:34.648848Z",
     "iopub.status.idle": "2021-03-25T14:21:34.657653Z",
     "shell.execute_reply": "2021-03-25T14:21:34.658187Z"
    },
    "papermill": {
     "duration": 0.0792,
     "end_time": "2021-03-25T14:21:34.658442",
     "exception": false,
     "start_time": "2021-03-25T14:21:34.579242",
     "status": "completed"
    },
    "tags": []
   },
   "outputs": [],
   "source": [
    "X=features\n",
    "y=np.ravel(labels)\n",
    "\n",
    "X_train, X_test, y_train, y_test = train_test_split(X, y, test_size=0.2, random_state=137)"
   ]
  },
  {
   "cell_type": "code",
   "execution_count": 37,
   "metadata": {
    "execution": {
     "iopub.execute_input": "2021-03-25T14:21:34.800023Z",
     "iopub.status.busy": "2021-03-25T14:21:34.798798Z",
     "iopub.status.idle": "2021-03-25T14:21:34.811549Z",
     "shell.execute_reply": "2021-03-25T14:21:34.812061Z"
    },
    "papermill": {
     "duration": 0.085263,
     "end_time": "2021-03-25T14:21:34.812289",
     "exception": false,
     "start_time": "2021-03-25T14:21:34.727026",
     "status": "completed"
    },
    "tags": []
   },
   "outputs": [],
   "source": [
    "scaler = StandardScaler().fit(X_train)\n",
    "X_train = scaler.transform(X_train)\n",
    "X_test = scaler.transform(X_test)"
   ]
  },
  {
   "cell_type": "code",
   "execution_count": 38,
   "metadata": {
    "execution": {
     "iopub.execute_input": "2021-03-25T14:21:34.954937Z",
     "iopub.status.busy": "2021-03-25T14:21:34.954135Z",
     "iopub.status.idle": "2021-03-25T14:21:41.710641Z",
     "shell.execute_reply": "2021-03-25T14:21:41.709949Z"
    },
    "papermill": {
     "duration": 6.833155,
     "end_time": "2021-03-25T14:21:41.710859",
     "exception": false,
     "start_time": "2021-03-25T14:21:34.877704",
     "status": "completed"
    },
    "tags": []
   },
   "outputs": [
    {
     "name": "stdout",
     "output_type": "stream",
     "text": [
      "Epoch 1/10\n",
      "592/592 [==============================] - 1s 1ms/step - loss: nan - accuracy: 0.0585\n",
      "Epoch 2/10\n",
      "592/592 [==============================] - 1s 961us/step - loss: nan - accuracy: 0.0595\n",
      "Epoch 3/10\n",
      "592/592 [==============================] - 1s 847us/step - loss: nan - accuracy: 0.0641\n",
      "Epoch 4/10\n",
      "592/592 [==============================] - 1s 853us/step - loss: nan - accuracy: 0.0710\n",
      "Epoch 5/10\n",
      "592/592 [==============================] - 1s 875us/step - loss: nan - accuracy: 0.0611\n",
      "Epoch 6/10\n",
      "592/592 [==============================] - 1s 1ms/step - loss: nan - accuracy: 0.0695\n",
      "Epoch 7/10\n",
      "592/592 [==============================] - 1s 989us/step - loss: nan - accuracy: 0.0432\n",
      "Epoch 8/10\n",
      "592/592 [==============================] - 1s 902us/step - loss: nan - accuracy: 0.0394\n",
      "Epoch 9/10\n",
      "592/592 [==============================] - 1s 878us/step - loss: nan - accuracy: 0.0603\n",
      "Epoch 10/10\n",
      "592/592 [==============================] - 1s 1ms/step - loss: nan - accuracy: 0.0674\n"
     ]
    },
    {
     "data": {
      "text/plain": [
       "<tensorflow.python.keras.callbacks.History at 0x7f27e5e97690>"
      ]
     },
     "execution_count": 38,
     "metadata": {},
     "output_type": "execute_result"
    }
   ],
   "source": [
    "model = Sequential()\n",
    "\n",
    "model.add(Dense(4, activation='relu', input_shape=(18,)))\n",
    "\n",
    "model.add(Dense(6, activation='relu'))\n",
    "\n",
    "model.add(Dense(1, activation='sigmoid'))\n",
    "\n",
    "model.compile(loss='binary_crossentropy',\n",
    "             optimizer='sgd',\n",
    "             metrics=['accuracy'])\n",
    "\n",
    "model.fit(X_train, y_train, epochs=10, batch_size=1, verbose=1)"
   ]
  },
  {
   "cell_type": "code",
   "execution_count": 39,
   "metadata": {
    "execution": {
     "iopub.execute_input": "2021-03-25T14:21:41.935107Z",
     "iopub.status.busy": "2021-03-25T14:21:41.934088Z",
     "iopub.status.idle": "2021-03-25T14:21:42.289299Z",
     "shell.execute_reply": "2021-03-25T14:21:42.288709Z"
    },
    "papermill": {
     "duration": 0.468704,
     "end_time": "2021-03-25T14:21:42.289517",
     "exception": false,
     "start_time": "2021-03-25T14:21:41.820813",
     "status": "completed"
    },
    "tags": []
   },
   "outputs": [
    {
     "name": "stdout",
     "output_type": "stream",
     "text": [
      "5/5 [==============================] - 0s 2ms/step - loss: nan - accuracy: 0.0405\n",
      "[nan, 0.04054053872823715]\n"
     ]
    }
   ],
   "source": [
    "y_pred = model.predict(X_test)\n",
    "\n",
    "score = model.evaluate(X_test, y_test, verbose=1)\n",
    "\n",
    "print(score)"
   ]
  },
  {
   "cell_type": "markdown",
   "metadata": {
    "papermill": {
     "duration": 0.106738,
     "end_time": "2021-03-25T14:21:42.502032",
     "exception": false,
     "start_time": "2021-03-25T14:21:42.395294",
     "status": "completed"
    },
    "tags": []
   },
   "source": [
    "Attempting to optimize"
   ]
  },
  {
   "cell_type": "code",
   "execution_count": 40,
   "metadata": {
    "execution": {
     "iopub.execute_input": "2021-03-25T14:21:42.725818Z",
     "iopub.status.busy": "2021-03-25T14:21:42.725021Z",
     "iopub.status.idle": "2021-03-25T14:21:42.728317Z",
     "shell.execute_reply": "2021-03-25T14:21:42.727713Z"
    },
    "papermill": {
     "duration": 0.117742,
     "end_time": "2021-03-25T14:21:42.728614",
     "exception": false,
     "start_time": "2021-03-25T14:21:42.610872",
     "status": "completed"
    },
    "tags": []
   },
   "outputs": [],
   "source": [
    "data_2 = final_data\n",
    "data_2 = data_2.drop(['Missed_time'], axis = 1)"
   ]
  },
  {
   "cell_type": "code",
   "execution_count": 41,
   "metadata": {
    "execution": {
     "iopub.execute_input": "2021-03-25T14:21:42.993902Z",
     "iopub.status.busy": "2021-03-25T14:21:42.992760Z",
     "iopub.status.idle": "2021-03-25T14:21:43.000863Z",
     "shell.execute_reply": "2021-03-25T14:21:43.000040Z"
    },
    "papermill": {
     "duration": 0.153245,
     "end_time": "2021-03-25T14:21:43.001095",
     "exception": false,
     "start_time": "2021-03-25T14:21:42.847850",
     "status": "completed"
    },
    "tags": []
   },
   "outputs": [],
   "source": [
    "X = data_2.drop(['Reason'], axis=1)\n",
    "y = data_2['Reason']\n",
    "X_train, X_test, y_train, y_test = train_test_split(X, y, test_size = 0.3, random_state=137)"
   ]
  },
  {
   "cell_type": "code",
   "execution_count": 42,
   "metadata": {
    "execution": {
     "iopub.execute_input": "2021-03-25T14:21:43.303972Z",
     "iopub.status.busy": "2021-03-25T14:21:43.283217Z",
     "iopub.status.idle": "2021-03-25T14:21:43.576838Z",
     "shell.execute_reply": "2021-03-25T14:21:43.577467Z"
    },
    "papermill": {
     "duration": 0.437736,
     "end_time": "2021-03-25T14:21:43.577684",
     "exception": false,
     "start_time": "2021-03-25T14:21:43.139948",
     "status": "completed"
    },
    "tags": []
   },
   "outputs": [
    {
     "name": "stdout",
     "output_type": "stream",
     "text": [
      "Accuracy : 0.4189189189189189\n"
     ]
    }
   ],
   "source": [
    "rf = RandomForestClassifier()\n",
    "rf = rf.fit(X_train, y_train)\n",
    "pred_rf = rf.predict(X_test)\n",
    "\n",
    "print('Accuracy : {}'.format(accuracy_score(y_test, pred_rf)))"
   ]
  },
  {
   "cell_type": "markdown",
   "metadata": {
    "papermill": {
     "duration": 0.103415,
     "end_time": "2021-03-25T14:21:43.788762",
     "exception": false,
     "start_time": "2021-03-25T14:21:43.685347",
     "status": "completed"
    },
    "tags": []
   },
   "source": [
    "Removing missed time made the model worse!"
   ]
  },
  {
   "cell_type": "code",
   "execution_count": 43,
   "metadata": {
    "execution": {
     "iopub.execute_input": "2021-03-25T14:21:44.007996Z",
     "iopub.status.busy": "2021-03-25T14:21:44.007249Z",
     "iopub.status.idle": "2021-03-25T14:21:44.012925Z",
     "shell.execute_reply": "2021-03-25T14:21:44.012162Z"
    },
    "papermill": {
     "duration": 0.117918,
     "end_time": "2021-03-25T14:21:44.013073",
     "exception": false,
     "start_time": "2021-03-25T14:21:43.895155",
     "status": "completed"
    },
    "tags": []
   },
   "outputs": [
    {
     "data": {
      "text/plain": [
       "23    149\n",
       "28    112\n",
       "27     69\n",
       "13     55\n",
       "0      43\n",
       "19     40\n",
       "22     38\n",
       "26     33\n",
       "25     31\n",
       "11     26\n",
       "10     25\n",
       "18     21\n",
       "14     19\n",
       "1      16\n",
       "7      15\n",
       "12      8\n",
       "6       8\n",
       "8       6\n",
       "21      6\n",
       "9       4\n",
       "24      3\n",
       "5       3\n",
       "16      3\n",
       "15      2\n",
       "4       2\n",
       "3       1\n",
       "17      1\n",
       "2       1\n",
       "Name: Reason, dtype: int64"
      ]
     },
     "execution_count": 43,
     "metadata": {},
     "output_type": "execute_result"
    }
   ],
   "source": [
    "data['Reason'].value_counts()"
   ]
  },
  {
   "cell_type": "markdown",
   "metadata": {
    "papermill": {
     "duration": 0.104487,
     "end_time": "2021-03-25T14:21:44.224760",
     "exception": false,
     "start_time": "2021-03-25T14:21:44.120273",
     "status": "completed"
    },
    "tags": []
   },
   "source": [
    "I am going to remove all the rows with reasons that are less than 10 instances over 3 years."
   ]
  },
  {
   "cell_type": "code",
   "execution_count": 44,
   "metadata": {
    "execution": {
     "iopub.execute_input": "2021-03-25T14:21:44.447218Z",
     "iopub.status.busy": "2021-03-25T14:21:44.446280Z",
     "iopub.status.idle": "2021-03-25T14:21:44.450344Z",
     "shell.execute_reply": "2021-03-25T14:21:44.451108Z"
    },
    "papermill": {
     "duration": 0.119619,
     "end_time": "2021-03-25T14:21:44.451382",
     "exception": false,
     "start_time": "2021-03-25T14:21:44.331763",
     "status": "completed"
    },
    "tags": []
   },
   "outputs": [
    {
     "name": "stdout",
     "output_type": "stream",
     "text": [
      "Int64Index([23, 28, 27, 13, 0, 19, 22, 26, 25, 11, 10, 18, 14, 1, 7], dtype='int64')\n"
     ]
    }
   ],
   "source": [
    "data_to_drop = (data['Reason'].value_counts() < 10).index\n",
    "print(data_to_drop[:15])\n",
    "to_drop = data_to_drop[15:]"
   ]
  },
  {
   "cell_type": "code",
   "execution_count": 45,
   "metadata": {
    "execution": {
     "iopub.execute_input": "2021-03-25T14:21:44.681785Z",
     "iopub.status.busy": "2021-03-25T14:21:44.680513Z",
     "iopub.status.idle": "2021-03-25T14:21:44.688115Z",
     "shell.execute_reply": "2021-03-25T14:21:44.687328Z"
    },
    "papermill": {
     "duration": 0.126319,
     "end_time": "2021-03-25T14:21:44.688292",
     "exception": false,
     "start_time": "2021-03-25T14:21:44.561973",
     "status": "completed"
    },
    "tags": []
   },
   "outputs": [],
   "source": [
    "ans = [y for x,y in data.groupby('Reason', as_index=False)]"
   ]
  },
  {
   "cell_type": "code",
   "execution_count": 46,
   "metadata": {
    "execution": {
     "iopub.execute_input": "2021-03-25T14:21:44.935657Z",
     "iopub.status.busy": "2021-03-25T14:21:44.934737Z",
     "iopub.status.idle": "2021-03-25T14:21:44.939723Z",
     "shell.execute_reply": "2021-03-25T14:21:44.938930Z"
    },
    "papermill": {
     "duration": 0.13826,
     "end_time": "2021-03-25T14:21:44.939906",
     "exception": false,
     "start_time": "2021-03-25T14:21:44.801646",
     "status": "completed"
    },
    "tags": []
   },
   "outputs": [
    {
     "data": {
      "text/html": [
       "<div>\n",
       "<style scoped>\n",
       "    .dataframe tbody tr th:only-of-type {\n",
       "        vertical-align: middle;\n",
       "    }\n",
       "\n",
       "    .dataframe tbody tr th {\n",
       "        vertical-align: top;\n",
       "    }\n",
       "\n",
       "    .dataframe thead th {\n",
       "        text-align: right;\n",
       "    }\n",
       "</style>\n",
       "<table border=\"1\" class=\"dataframe\">\n",
       "  <thead>\n",
       "    <tr style=\"text-align: right;\">\n",
       "      <th></th>\n",
       "      <th>ID</th>\n",
       "      <th>Reason</th>\n",
       "      <th>Month</th>\n",
       "      <th>Day</th>\n",
       "      <th>Seasons</th>\n",
       "      <th>Travel_expense</th>\n",
       "      <th>Distance</th>\n",
       "      <th>Years</th>\n",
       "      <th>Age</th>\n",
       "      <th>Work load Average/day</th>\n",
       "      <th>...</th>\n",
       "      <th>Disc_failure</th>\n",
       "      <th>Education</th>\n",
       "      <th>Child</th>\n",
       "      <th>Social drinker</th>\n",
       "      <th>Social smoker</th>\n",
       "      <th>Pet</th>\n",
       "      <th>Weight</th>\n",
       "      <th>Height</th>\n",
       "      <th>BMI</th>\n",
       "      <th>Missed_time</th>\n",
       "    </tr>\n",
       "  </thead>\n",
       "  <tbody>\n",
       "    <tr>\n",
       "      <th>364</th>\n",
       "      <td>15</td>\n",
       "      <td>3</td>\n",
       "      <td>1</td>\n",
       "      <td>4</td>\n",
       "      <td>2</td>\n",
       "      <td>291</td>\n",
       "      <td>31</td>\n",
       "      <td>12</td>\n",
       "      <td>40</td>\n",
       "      <td>330.061</td>\n",
       "      <td>...</td>\n",
       "      <td>0</td>\n",
       "      <td>1</td>\n",
       "      <td>1</td>\n",
       "      <td>1</td>\n",
       "      <td>0</td>\n",
       "      <td>1</td>\n",
       "      <td>73</td>\n",
       "      <td>171</td>\n",
       "      <td>25</td>\n",
       "      <td>8</td>\n",
       "    </tr>\n",
       "  </tbody>\n",
       "</table>\n",
       "<p>1 rows × 21 columns</p>\n",
       "</div>"
      ],
      "text/plain": [
       "     ID  Reason  Month  Day  Seasons  Travel_expense  Distance  Years  Age  \\\n",
       "364  15       3      1    4        2             291        31     12   40   \n",
       "\n",
       "     Work load Average/day   ...  Disc_failure  Education  Child  \\\n",
       "364                 330.061  ...             0          1      1   \n",
       "\n",
       "     Social drinker  Social smoker  Pet  Weight  Height  BMI  Missed_time  \n",
       "364               1              0    1      73     171   25            8  \n",
       "\n",
       "[1 rows x 21 columns]"
      ]
     },
     "execution_count": 46,
     "metadata": {},
     "output_type": "execute_result"
    }
   ],
   "source": [
    "ans[3]"
   ]
  },
  {
   "cell_type": "code",
   "execution_count": 47,
   "metadata": {
    "execution": {
     "iopub.execute_input": "2021-03-25T14:21:45.169471Z",
     "iopub.status.busy": "2021-03-25T14:21:45.168696Z",
     "iopub.status.idle": "2021-03-25T14:21:45.198981Z",
     "shell.execute_reply": "2021-03-25T14:21:45.199593Z"
    },
    "papermill": {
     "duration": 0.149799,
     "end_time": "2021-03-25T14:21:45.199848",
     "exception": false,
     "start_time": "2021-03-25T14:21:45.050049",
     "status": "completed"
    },
    "tags": []
   },
   "outputs": [],
   "source": [
    "que = ans[1].append(ans[0])\n",
    "que = que.append(ans[22])\n",
    "que = que.append(ans[27])\n",
    "que = que.append(ans[26])\n",
    "que = que.append(ans[13])\n",
    "que = que.append(ans[19])\n",
    "que = que.append(ans[21])\n",
    "que = que.append(ans[25])\n",
    "que = que.append(ans[24])\n",
    "que = que.append(ans[11])\n",
    "que = que.append(ans[10])\n",
    "que = que.append(ans[18])\n",
    "que = que.append(ans[14])\n",
    "que = que.append(ans[7])"
   ]
  },
  {
   "cell_type": "markdown",
   "metadata": {
    "papermill": {
     "duration": 0.110248,
     "end_time": "2021-03-25T14:21:45.426329",
     "exception": false,
     "start_time": "2021-03-25T14:21:45.316081",
     "status": "completed"
    },
    "tags": []
   },
   "source": [
    "Building the last and final dataframe."
   ]
  },
  {
   "cell_type": "code",
   "execution_count": 48,
   "metadata": {
    "execution": {
     "iopub.execute_input": "2021-03-25T14:21:45.677646Z",
     "iopub.status.busy": "2021-03-25T14:21:45.675917Z",
     "iopub.status.idle": "2021-03-25T14:21:45.682069Z",
     "shell.execute_reply": "2021-03-25T14:21:45.682760Z"
    },
    "papermill": {
     "duration": 0.139576,
     "end_time": "2021-03-25T14:21:45.683012",
     "exception": false,
     "start_time": "2021-03-25T14:21:45.543436",
     "status": "completed"
    },
    "tags": []
   },
   "outputs": [
    {
     "name": "stdout",
     "output_type": "stream",
     "text": [
      "<class 'pandas.core.frame.DataFrame'>\n",
      "Int64Index: 692 entries, 10 to 706\n",
      "Data columns (total 21 columns):\n",
      " #   Column                  Non-Null Count  Dtype  \n",
      "---  ------                  --------------  -----  \n",
      " 0   ID                      692 non-null    int64  \n",
      " 1   Reason                  692 non-null    int64  \n",
      " 2   Month                   692 non-null    int64  \n",
      " 3   Day                     692 non-null    int64  \n",
      " 4   Seasons                 692 non-null    int64  \n",
      " 5   Travel_expense          692 non-null    int64  \n",
      " 6   Distance                692 non-null    int64  \n",
      " 7   Years                   692 non-null    int64  \n",
      " 8   Age                     692 non-null    int64  \n",
      " 9   Work load Average/day   692 non-null    float64\n",
      " 10  Work_target             692 non-null    int64  \n",
      " 11  Disc_failure            692 non-null    int64  \n",
      " 12  Education               692 non-null    int64  \n",
      " 13  Child                   692 non-null    int64  \n",
      " 14  Social drinker          692 non-null    int64  \n",
      " 15  Social smoker           692 non-null    int64  \n",
      " 16  Pet                     692 non-null    int64  \n",
      " 17  Weight                  692 non-null    int64  \n",
      " 18  Height                  692 non-null    int64  \n",
      " 19  BMI                     692 non-null    int64  \n",
      " 20  Missed_time             692 non-null    int64  \n",
      "dtypes: float64(1), int64(20)\n",
      "memory usage: 118.9 KB\n"
     ]
    }
   ],
   "source": [
    "que.info()"
   ]
  },
  {
   "cell_type": "markdown",
   "metadata": {
    "papermill": {
     "duration": 0.11147,
     "end_time": "2021-03-25T14:21:45.907409",
     "exception": false,
     "start_time": "2021-03-25T14:21:45.795939",
     "status": "completed"
    },
    "tags": []
   },
   "source": [
    "Making sure the dataframe looks the way I want it to."
   ]
  },
  {
   "cell_type": "code",
   "execution_count": 49,
   "metadata": {
    "execution": {
     "iopub.execute_input": "2021-03-25T14:21:46.151517Z",
     "iopub.status.busy": "2021-03-25T14:21:46.150145Z",
     "iopub.status.idle": "2021-03-25T14:21:46.501904Z",
     "shell.execute_reply": "2021-03-25T14:21:46.501093Z"
    },
    "papermill": {
     "duration": 0.480579,
     "end_time": "2021-03-25T14:21:46.502108",
     "exception": false,
     "start_time": "2021-03-25T14:21:46.021529",
     "status": "completed"
    },
    "tags": []
   },
   "outputs": [
    {
     "name": "stderr",
     "output_type": "stream",
     "text": [
      "/opt/conda/lib/python3.7/site-packages/seaborn/_decorators.py:43: FutureWarning: Pass the following variable as a keyword arg: x. From version 0.12, the only valid positional argument will be `data`, and passing other arguments without an explicit keyword will result in an error or misinterpretation.\n",
      "  FutureWarning\n"
     ]
    },
    {
     "data": {
      "image/png": "[encoded data removed]",
      "text/plain": [
       "<Figure size 864x864 with 1 Axes>"
      ]
     },
     "metadata": {},
     "output_type": "display_data"
    }
   ],
   "source": [
    "plt.figure(figsize=(12,12))\n",
    "sns.countplot(que['Reason'])\n",
    "plt.show()"
   ]
  },
  {
   "cell_type": "markdown",
   "metadata": {
    "papermill": {
     "duration": 0.123697,
     "end_time": "2021-03-25T14:21:46.745160",
     "exception": false,
     "start_time": "2021-03-25T14:21:46.621463",
     "status": "completed"
    },
    "tags": []
   },
   "source": [
    "It looks like it only has the reasons I want it to have!"
   ]
  },
  {
   "cell_type": "code",
   "execution_count": 50,
   "metadata": {
    "execution": {
     "iopub.execute_input": "2021-03-25T14:21:47.013561Z",
     "iopub.status.busy": "2021-03-25T14:21:47.004940Z",
     "iopub.status.idle": "2021-03-25T14:22:15.555071Z",
     "shell.execute_reply": "2021-03-25T14:22:15.554469Z"
    },
    "papermill": {
     "duration": 28.687443,
     "end_time": "2021-03-25T14:22:15.555256",
     "exception": false,
     "start_time": "2021-03-25T14:21:46.867813",
     "status": "completed"
    },
    "tags": []
   },
   "outputs": [
    {
     "name": "stdout",
     "output_type": "stream",
     "text": [
      "Model : RF Accuracy : 0.47115384615384615\n",
      "Model : KNN Accuracy : 0.375\n",
      "Model : SVM Accuracy : 0.49038461538461536\n"
     ]
    },
    {
     "name": "stderr",
     "output_type": "stream",
     "text": [
      "/opt/conda/lib/python3.7/site-packages/sklearn/ensemble/_gb.py:1122: FutureWarning: criterion='mae' was deprecated in version 0.24 and will be removed in version 1.1 (renaming of 0.26). Use criterion='friedman_mse' or 'mse' instead, as trees should use a least-square criterion in Gradient Boosting.\n",
      "  \"Boosting.\", FutureWarning)\n"
     ]
    },
    {
     "name": "stdout",
     "output_type": "stream",
     "text": [
      "Model : Gradient Boosting Accuracy : 0.4567307692307692\n"
     ]
    }
   ],
   "source": [
    "from sklearn.ensemble import GradientBoostingClassifier\n",
    "\n",
    "X = que.drop(['Missed_time', 'ID'], axis=1)\n",
    "y = que['Missed_time']\n",
    "X_train, X_test, y_train, y_test = train_test_split(X, y, test_size = 0.3, random_state=137)\n",
    "\n",
    "scaler = StandardScaler().fit(X_train)\n",
    "X_train = scaler.transform(X_train)\n",
    "X_test = scaler.transform(X_test)\n",
    "\n",
    "models = {\n",
    "    'RF': RandomForestClassifier(n_estimators=100, criterion='entropy'),\n",
    "    'KNN': KNeighborsClassifier(n_neighbors=5),\n",
    "    'SVM': svm.SVC(),\n",
    "    'Gradient Boosting': GradientBoostingClassifier(n_estimators = 100, max_depth=4, learning_rate=0.05, criterion='mae')\n",
    "}\n",
    "\n",
    "\n",
    "for name, model in models.items():\n",
    "    model = model.fit(X_train, y_train)\n",
    "    model_predict= model.predict(X_test)\n",
    "    print('Model : {} Accuracy : {}'.format(name, accuracy_score(y_test, model_predict)))"
   ]
  },
  {
   "cell_type": "markdown",
   "metadata": {
    "papermill": {
     "duration": 0.108285,
     "end_time": "2021-03-25T14:22:15.772543",
     "exception": false,
     "start_time": "2021-03-25T14:22:15.664258",
     "status": "completed"
    },
    "tags": []
   },
   "source": [
    "Changing to trying to predict amount of time missed and running through the models again with the addition of gradient boosting."
   ]
  },
  {
   "cell_type": "markdown",
   "metadata": {
    "papermill": {
     "duration": 0.111379,
     "end_time": "2021-03-25T14:22:15.994439",
     "exception": false,
     "start_time": "2021-03-25T14:22:15.883060",
     "status": "completed"
    },
    "tags": []
   },
   "source": [
    "One last time with deep learning."
   ]
  },
  {
   "cell_type": "code",
   "execution_count": 51,
   "metadata": {
    "execution": {
     "iopub.execute_input": "2021-03-25T14:22:16.244500Z",
     "iopub.status.busy": "2021-03-25T14:22:16.239793Z",
     "iopub.status.idle": "2021-03-25T14:22:16.255067Z",
     "shell.execute_reply": "2021-03-25T14:22:16.254469Z"
    },
    "papermill": {
     "duration": 0.142894,
     "end_time": "2021-03-25T14:22:16.255251",
     "exception": false,
     "start_time": "2021-03-25T14:22:16.112357",
     "status": "completed"
    },
    "tags": []
   },
   "outputs": [],
   "source": [
    "labels= que['Missed_time']\n",
    "features = que.iloc[:, 1:19]\n",
    "\n",
    "X=features\n",
    "y=np.ravel(labels)\n",
    "\n",
    "X_train, X_test, y_train, y_test = train_test_split(X, y, test_size=0.2, random_state=137)\n",
    "\n",
    "scaler = StandardScaler().fit(X_train)\n",
    "X_train = scaler.transform(X_train)\n",
    "X_test = scaler.transform(X_test)"
   ]
  },
  {
   "cell_type": "code",
   "execution_count": 52,
   "metadata": {
    "execution": {
     "iopub.execute_input": "2021-03-25T14:22:16.512789Z",
     "iopub.status.busy": "2021-03-25T14:22:16.506534Z",
     "iopub.status.idle": "2021-03-25T14:22:22.343057Z",
     "shell.execute_reply": "2021-03-25T14:22:22.342357Z"
    },
    "papermill": {
     "duration": 5.965378,
     "end_time": "2021-03-25T14:22:22.343217",
     "exception": false,
     "start_time": "2021-03-25T14:22:16.377839",
     "status": "completed"
    },
    "tags": []
   },
   "outputs": [
    {
     "name": "stdout",
     "output_type": "stream",
     "text": [
      "Epoch 1/10\n",
      "553/553 [==============================] - 1s 1ms/step - loss: -174.8751 - accuracy: 0.1189\n",
      "Epoch 2/10\n",
      "553/553 [==============================] - 1s 1ms/step - loss: -732.3062 - accuracy: 0.1204\n",
      "Epoch 3/10\n",
      "553/553 [==============================] - 1s 953us/step - loss: -1425.7682 - accuracy: 0.0917\n",
      "Epoch 4/10\n",
      "553/553 [==============================] - 1s 940us/step - loss: -2036.4147 - accuracy: 0.1171\n",
      "Epoch 5/10\n",
      "553/553 [==============================] - 1s 912us/step - loss: -2496.4517 - accuracy: 0.1078\n",
      "Epoch 6/10\n",
      "553/553 [==============================] - 1s 908us/step - loss: -3447.9646 - accuracy: 0.1284\n",
      "Epoch 7/10\n",
      "553/553 [==============================] - 1s 948us/step - loss: -3673.7200 - accuracy: 0.1209\n",
      "Epoch 8/10\n",
      "553/553 [==============================] - 1s 929us/step - loss: -4034.3230 - accuracy: 0.1183\n",
      "Epoch 9/10\n",
      "553/553 [==============================] - 1s 1ms/step - loss: -5337.5033 - accuracy: 0.1016\n",
      "Epoch 10/10\n",
      "553/553 [==============================] - 1s 949us/step - loss: -5312.8357 - accuracy: 0.1056\n"
     ]
    },
    {
     "data": {
      "text/plain": [
       "<tensorflow.python.keras.callbacks.History at 0x7f27de5aa9d0>"
      ]
     },
     "execution_count": 52,
     "metadata": {},
     "output_type": "execute_result"
    }
   ],
   "source": [
    "model = Sequential()\n",
    "\n",
    "model.add(Dense(3, activation='sigmoid', input_shape=(18,)))\n",
    "\n",
    "model.add(Dense(3, activation='sigmoid'))\n",
    "\n",
    "model.add(Dense(1, activation='sigmoid'))\n",
    "\n",
    "model.compile(loss='binary_crossentropy',\n",
    "             optimizer='sgd',\n",
    "             metrics=['accuracy'])\n",
    "\n",
    "model.fit(X_train, y_train, epochs=10, batch_size=1, verbose=1)"
   ]
  },
  {
   "cell_type": "code",
   "execution_count": 53,
   "metadata": {
    "execution": {
     "iopub.execute_input": "2021-03-25T14:22:22.646191Z",
     "iopub.status.busy": "2021-03-25T14:22:22.644979Z",
     "iopub.status.idle": "2021-03-25T14:22:22.869536Z",
     "shell.execute_reply": "2021-03-25T14:22:22.868944Z"
    },
    "papermill": {
     "duration": 0.378534,
     "end_time": "2021-03-25T14:22:22.869688",
     "exception": false,
     "start_time": "2021-03-25T14:22:22.491154",
     "status": "completed"
    },
    "tags": []
   },
   "outputs": [
    {
     "name": "stdout",
     "output_type": "stream",
     "text": [
      "5/5 [==============================] - 0s 2ms/step - loss: -6639.0654 - accuracy: 0.1511\n",
      "[-6639.0654296875, 0.15107913315296173]\n"
     ]
    }
   ],
   "source": [
    "y_pred = model.predict(X_test)\n",
    "\n",
    "score = model.evaluate(X_test, y_test, verbose=1)\n",
    "\n",
    "print(score)"
   ]
  }
 ],
 "metadata": {
  "kernelspec": {
   "display_name": "Python 3",
   "language": "python",
   "name": "python3"
  },
  "language_info": {
   "codemirror_mode": {
    "name": "ipython",
    "version": 3
   },
   "file_extension": ".py",
   "mimetype": "text/x-python",
   "name": "python",
   "nbconvert_exporter": "python",
   "pygments_lexer": "ipython3",
   "version": "3.7.9"
  },
  "papermill": {
   "default_parameters": {},
   "duration": 90.019135,
   "end_time": "2021-03-25T14:22:24.736035",
   "environment_variables": {},
   "exception": null,
   "input_path": "__notebook__.ipynb",
   "output_path": "__notebook__.ipynb",
   "parameters": {},
   "start_time": "2021-03-25T14:20:54.716900",
   "version": "2.2.2"
  }
 },
 "nbformat": 4,
 "nbformat_minor": 4
}
