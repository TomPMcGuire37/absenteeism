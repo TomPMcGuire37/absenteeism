{
 "cells": [
  {
   "cell_type": "code",
   "execution_count": 1,
   "metadata": {
    "_cell_guid": "b1076dfc-b9ad-4769-8c92-a6c4dae69d19",
    "_uuid": "8f2839f25d086af736a60e9eeb907d3b93b6e0e5",
    "execution": {
     "iopub.execute_input": "2021-03-31T18:37:17.453246Z",
     "iopub.status.busy": "2021-03-31T18:37:17.452575Z",
     "iopub.status.idle": "2021-03-31T18:37:17.476027Z",
     "shell.execute_reply": "2021-03-31T18:37:17.476805Z"
    },
    "papermill": {
     "duration": 0.073404,
     "end_time": "2021-03-31T18:37:17.477300",
     "exception": false,
     "start_time": "2021-03-31T18:37:17.403896",
     "status": "completed"
    },
    "tags": []
   },
   "outputs": [
    {
     "name": "stdout",
     "output_type": "stream",
     "text": [
      "/kaggle/input/absenteeism-at-work-uci-ml-repositiory/Absenteeism_at_work.csv\n"
     ]
    }
   ],
   "source": [
    "# This Python 3 environment comes with many helpful analytics libraries installed\n",
    "# It is defined by the kaggle/python Docker image: https://github.com/kaggle/docker-python\n",
    "# For example, here's several helpful packages to load\n",
    "\n",
    "import numpy as np # linear algebra\n",
    "import pandas as pd # data processing, CSV file I/O (e.g. pd.read_csv)\n",
    "\n",
    "# Input data files are available in the read-only \"../input/\" directory\n",
    "# For example, running this (by clicking run or pressing Shift+Enter) will list all files under the input directory\n",
    "\n",
    "import os\n",
    "for dirname, _, filenames in os.walk('/kaggle/input'):\n",
    "    for filename in filenames:\n",
    "        print(os.path.join(dirname, filename))\n",
    "\n",
    "# You can write up to 20GB to the current directory (/kaggle/working/) that gets preserved as output when you create a version using \"Save & Run All\" \n",
    "# You can also write temporary files to /kaggle/temp/, but they won't be saved outside of the current session"
   ]
  },
  {
   "cell_type": "code",
   "execution_count": 2,
   "metadata": {
    "execution": {
     "iopub.execute_input": "2021-03-31T18:37:17.570013Z",
     "iopub.status.busy": "2021-03-31T18:37:17.569064Z",
     "iopub.status.idle": "2021-03-31T18:37:18.820717Z",
     "shell.execute_reply": "2021-03-31T18:37:18.821216Z"
    },
    "papermill": {
     "duration": 1.299123,
     "end_time": "2021-03-31T18:37:18.821431",
     "exception": false,
     "start_time": "2021-03-31T18:37:17.522308",
     "status": "completed"
    },
    "tags": []
   },
   "outputs": [],
   "source": [
    "import numpy as np\n",
    "import pandas as pd\n",
    "import matplotlib.pyplot as plt\n",
    "%matplotlib inline\n",
    "import seaborn as sns"
   ]
  },
  {
   "cell_type": "code",
   "execution_count": 3,
   "metadata": {
    "execution": {
     "iopub.execute_input": "2021-03-31T18:37:18.917214Z",
     "iopub.status.busy": "2021-03-31T18:37:18.916522Z",
     "iopub.status.idle": "2021-03-31T18:37:19.715738Z",
     "shell.execute_reply": "2021-03-31T18:37:19.714616Z"
    },
    "papermill": {
     "duration": 0.847855,
     "end_time": "2021-03-31T18:37:19.715973",
     "exception": false,
     "start_time": "2021-03-31T18:37:18.868118",
     "status": "completed"
    },
    "tags": []
   },
   "outputs": [],
   "source": [
    "from sklearn.model_selection import train_test_split\n",
    "from sklearn.ensemble import RandomForestClassifier\n",
    "from sklearn.metrics import accuracy_score\n",
    "from sklearn import tree\n",
    "from sklearn.naive_bayes import GaussianNB\n",
    "from sklearn.neighbors import KNeighborsClassifier\n",
    "from sklearn.preprocessing import StandardScaler\n",
    "from sklearn import svm"
   ]
  },
  {
   "cell_type": "markdown",
   "metadata": {
    "papermill": {
     "duration": 0.068724,
     "end_time": "2021-03-31T18:37:19.846819",
     "exception": false,
     "start_time": "2021-03-31T18:37:19.778095",
     "status": "completed"
    },
    "tags": []
   },
   "source": [
    "Reading in the data."
   ]
  },
  {
   "cell_type": "code",
   "execution_count": 4,
   "metadata": {
    "execution": {
     "iopub.execute_input": "2021-03-31T18:37:19.944495Z",
     "iopub.status.busy": "2021-03-31T18:37:19.943747Z",
     "iopub.status.idle": "2021-03-31T18:37:19.969691Z",
     "shell.execute_reply": "2021-03-31T18:37:19.968968Z"
    },
    "papermill": {
     "duration": 0.077231,
     "end_time": "2021-03-31T18:37:19.969991",
     "exception": false,
     "start_time": "2021-03-31T18:37:19.892760",
     "status": "completed"
    },
    "tags": []
   },
   "outputs": [],
   "source": [
    "data = pd.read_csv('../input/absenteeism-at-work-uci-ml-repositiory/Absenteeism_at_work.csv', sep=';')"
   ]
  },
  {
   "cell_type": "markdown",
   "metadata": {
    "papermill": {
     "duration": 0.045662,
     "end_time": "2021-03-31T18:37:20.062076",
     "exception": false,
     "start_time": "2021-03-31T18:37:20.016414",
     "status": "completed"
    },
    "tags": []
   },
   "source": [
    "Getting a quick overview of the data."
   ]
  },
  {
   "cell_type": "code",
   "execution_count": 5,
   "metadata": {
    "execution": {
     "iopub.execute_input": "2021-03-31T18:37:20.186017Z",
     "iopub.status.busy": "2021-03-31T18:37:20.175781Z",
     "iopub.status.idle": "2021-03-31T18:37:20.213398Z",
     "shell.execute_reply": "2021-03-31T18:37:20.212722Z"
    },
    "papermill": {
     "duration": 0.10056,
     "end_time": "2021-03-31T18:37:20.213563",
     "exception": false,
     "start_time": "2021-03-31T18:37:20.113003",
     "status": "completed"
    },
    "tags": []
   },
   "outputs": [
    {
     "data": {
      "text/html": [
       "<div>\n",
       "<style scoped>\n",
       "    .dataframe tbody tr th:only-of-type {\n",
       "        vertical-align: middle;\n",
       "    }\n",
       "\n",
       "    .dataframe tbody tr th {\n",
       "        vertical-align: top;\n",
       "    }\n",
       "\n",
       "    .dataframe thead th {\n",
       "        text-align: right;\n",
       "    }\n",
       "</style>\n",
       "<table border=\"1\" class=\"dataframe\">\n",
       "  <thead>\n",
       "    <tr style=\"text-align: right;\">\n",
       "      <th></th>\n",
       "      <th>ID</th>\n",
       "      <th>Reason for absence</th>\n",
       "      <th>Month of absence</th>\n",
       "      <th>Day of the week</th>\n",
       "      <th>Seasons</th>\n",
       "      <th>Transportation expense</th>\n",
       "      <th>Distance from Residence to Work</th>\n",
       "      <th>Service time</th>\n",
       "      <th>Age</th>\n",
       "      <th>Work load Average/day</th>\n",
       "      <th>...</th>\n",
       "      <th>Disciplinary failure</th>\n",
       "      <th>Education</th>\n",
       "      <th>Son</th>\n",
       "      <th>Social drinker</th>\n",
       "      <th>Social smoker</th>\n",
       "      <th>Pet</th>\n",
       "      <th>Weight</th>\n",
       "      <th>Height</th>\n",
       "      <th>Body mass index</th>\n",
       "      <th>Absenteeism time in hours</th>\n",
       "    </tr>\n",
       "  </thead>\n",
       "  <tbody>\n",
       "    <tr>\n",
       "      <th>0</th>\n",
       "      <td>11</td>\n",
       "      <td>26</td>\n",
       "      <td>7</td>\n",
       "      <td>3</td>\n",
       "      <td>1</td>\n",
       "      <td>289</td>\n",
       "      <td>36</td>\n",
       "      <td>13</td>\n",
       "      <td>33</td>\n",
       "      <td>239.554</td>\n",
       "      <td>...</td>\n",
       "      <td>0</td>\n",
       "      <td>1</td>\n",
       "      <td>2</td>\n",
       "      <td>1</td>\n",
       "      <td>0</td>\n",
       "      <td>1</td>\n",
       "      <td>90</td>\n",
       "      <td>172</td>\n",
       "      <td>30</td>\n",
       "      <td>4</td>\n",
       "    </tr>\n",
       "    <tr>\n",
       "      <th>1</th>\n",
       "      <td>36</td>\n",
       "      <td>0</td>\n",
       "      <td>7</td>\n",
       "      <td>3</td>\n",
       "      <td>1</td>\n",
       "      <td>118</td>\n",
       "      <td>13</td>\n",
       "      <td>18</td>\n",
       "      <td>50</td>\n",
       "      <td>239.554</td>\n",
       "      <td>...</td>\n",
       "      <td>1</td>\n",
       "      <td>1</td>\n",
       "      <td>1</td>\n",
       "      <td>1</td>\n",
       "      <td>0</td>\n",
       "      <td>0</td>\n",
       "      <td>98</td>\n",
       "      <td>178</td>\n",
       "      <td>31</td>\n",
       "      <td>0</td>\n",
       "    </tr>\n",
       "    <tr>\n",
       "      <th>2</th>\n",
       "      <td>3</td>\n",
       "      <td>23</td>\n",
       "      <td>7</td>\n",
       "      <td>4</td>\n",
       "      <td>1</td>\n",
       "      <td>179</td>\n",
       "      <td>51</td>\n",
       "      <td>18</td>\n",
       "      <td>38</td>\n",
       "      <td>239.554</td>\n",
       "      <td>...</td>\n",
       "      <td>0</td>\n",
       "      <td>1</td>\n",
       "      <td>0</td>\n",
       "      <td>1</td>\n",
       "      <td>0</td>\n",
       "      <td>0</td>\n",
       "      <td>89</td>\n",
       "      <td>170</td>\n",
       "      <td>31</td>\n",
       "      <td>2</td>\n",
       "    </tr>\n",
       "    <tr>\n",
       "      <th>3</th>\n",
       "      <td>7</td>\n",
       "      <td>7</td>\n",
       "      <td>7</td>\n",
       "      <td>5</td>\n",
       "      <td>1</td>\n",
       "      <td>279</td>\n",
       "      <td>5</td>\n",
       "      <td>14</td>\n",
       "      <td>39</td>\n",
       "      <td>239.554</td>\n",
       "      <td>...</td>\n",
       "      <td>0</td>\n",
       "      <td>1</td>\n",
       "      <td>2</td>\n",
       "      <td>1</td>\n",
       "      <td>1</td>\n",
       "      <td>0</td>\n",
       "      <td>68</td>\n",
       "      <td>168</td>\n",
       "      <td>24</td>\n",
       "      <td>4</td>\n",
       "    </tr>\n",
       "    <tr>\n",
       "      <th>4</th>\n",
       "      <td>11</td>\n",
       "      <td>23</td>\n",
       "      <td>7</td>\n",
       "      <td>5</td>\n",
       "      <td>1</td>\n",
       "      <td>289</td>\n",
       "      <td>36</td>\n",
       "      <td>13</td>\n",
       "      <td>33</td>\n",
       "      <td>239.554</td>\n",
       "      <td>...</td>\n",
       "      <td>0</td>\n",
       "      <td>1</td>\n",
       "      <td>2</td>\n",
       "      <td>1</td>\n",
       "      <td>0</td>\n",
       "      <td>1</td>\n",
       "      <td>90</td>\n",
       "      <td>172</td>\n",
       "      <td>30</td>\n",
       "      <td>2</td>\n",
       "    </tr>\n",
       "  </tbody>\n",
       "</table>\n",
       "<p>5 rows × 21 columns</p>\n",
       "</div>"
      ],
      "text/plain": [
       "   ID  Reason for absence  Month of absence  Day of the week  Seasons  \\\n",
       "0  11                  26                 7                3        1   \n",
       "1  36                   0                 7                3        1   \n",
       "2   3                  23                 7                4        1   \n",
       "3   7                   7                 7                5        1   \n",
       "4  11                  23                 7                5        1   \n",
       "\n",
       "   Transportation expense  Distance from Residence to Work  Service time  Age  \\\n",
       "0                     289                               36            13   33   \n",
       "1                     118                               13            18   50   \n",
       "2                     179                               51            18   38   \n",
       "3                     279                                5            14   39   \n",
       "4                     289                               36            13   33   \n",
       "\n",
       "   Work load Average/day   ...  Disciplinary failure  Education  Son  \\\n",
       "0                 239.554  ...                     0          1    2   \n",
       "1                 239.554  ...                     1          1    1   \n",
       "2                 239.554  ...                     0          1    0   \n",
       "3                 239.554  ...                     0          1    2   \n",
       "4                 239.554  ...                     0          1    2   \n",
       "\n",
       "   Social drinker  Social smoker  Pet  Weight  Height  Body mass index  \\\n",
       "0               1              0    1      90     172               30   \n",
       "1               1              0    0      98     178               31   \n",
       "2               1              0    0      89     170               31   \n",
       "3               1              1    0      68     168               24   \n",
       "4               1              0    1      90     172               30   \n",
       "\n",
       "   Absenteeism time in hours  \n",
       "0                          4  \n",
       "1                          0  \n",
       "2                          2  \n",
       "3                          4  \n",
       "4                          2  \n",
       "\n",
       "[5 rows x 21 columns]"
      ]
     },
     "execution_count": 5,
     "metadata": {},
     "output_type": "execute_result"
    }
   ],
   "source": [
    "data.head()"
   ]
  },
  {
   "cell_type": "code",
   "execution_count": 6,
   "metadata": {
    "execution": {
     "iopub.execute_input": "2021-03-31T18:37:20.316002Z",
     "iopub.status.busy": "2021-03-31T18:37:20.315146Z",
     "iopub.status.idle": "2021-03-31T18:37:20.319959Z",
     "shell.execute_reply": "2021-03-31T18:37:20.320486Z"
    },
    "papermill": {
     "duration": 0.058982,
     "end_time": "2021-03-31T18:37:20.320694",
     "exception": false,
     "start_time": "2021-03-31T18:37:20.261712",
     "status": "completed"
    },
    "tags": []
   },
   "outputs": [],
   "source": [
    "data = data.rename(columns={'Reason for absence': 'Reason',\n",
    "                           'Month of absence': 'Month',\n",
    "                           'Day of the week': 'Day',\n",
    "                           'Transportation expense': 'Travel_expense',\n",
    "                           'Distance from Residence to Work': 'Distance',\n",
    "                           'Service time': 'Years',\n",
    "                           'Work load Average/day': 'Avg_work',\n",
    "                           'Hit target': 'Work_target',\n",
    "                           'Disciplinary failure': 'Disc_failure',\n",
    "                           'Son': 'Child',\n",
    "                           'Body mass index': 'BMI',\n",
    "                           'Absenteeism time in hours': 'Missed_time'})"
   ]
  },
  {
   "cell_type": "markdown",
   "metadata": {
    "papermill": {
     "duration": 0.045168,
     "end_time": "2021-03-31T18:37:20.411625",
     "exception": false,
     "start_time": "2021-03-31T18:37:20.366457",
     "status": "completed"
    },
    "tags": []
   },
   "source": [
    "Renaming the columns for simplicity."
   ]
  },
  {
   "cell_type": "code",
   "execution_count": 7,
   "metadata": {
    "execution": {
     "iopub.execute_input": "2021-03-31T18:37:20.507654Z",
     "iopub.status.busy": "2021-03-31T18:37:20.506962Z",
     "iopub.status.idle": "2021-03-31T18:37:20.530547Z",
     "shell.execute_reply": "2021-03-31T18:37:20.531134Z"
    },
    "papermill": {
     "duration": 0.073173,
     "end_time": "2021-03-31T18:37:20.531335",
     "exception": false,
     "start_time": "2021-03-31T18:37:20.458162",
     "status": "completed"
    },
    "tags": []
   },
   "outputs": [
    {
     "name": "stdout",
     "output_type": "stream",
     "text": [
      "<class 'pandas.core.frame.DataFrame'>\n",
      "RangeIndex: 740 entries, 0 to 739\n",
      "Data columns (total 21 columns):\n",
      " #   Column                  Non-Null Count  Dtype  \n",
      "---  ------                  --------------  -----  \n",
      " 0   ID                      740 non-null    int64  \n",
      " 1   Reason                  740 non-null    int64  \n",
      " 2   Month                   740 non-null    int64  \n",
      " 3   Day                     740 non-null    int64  \n",
      " 4   Seasons                 740 non-null    int64  \n",
      " 5   Travel_expense          740 non-null    int64  \n",
      " 6   Distance                740 non-null    int64  \n",
      " 7   Years                   740 non-null    int64  \n",
      " 8   Age                     740 non-null    int64  \n",
      " 9   Work load Average/day   740 non-null    float64\n",
      " 10  Work_target             740 non-null    int64  \n",
      " 11  Disc_failure            740 non-null    int64  \n",
      " 12  Education               740 non-null    int64  \n",
      " 13  Child                   740 non-null    int64  \n",
      " 14  Social drinker          740 non-null    int64  \n",
      " 15  Social smoker           740 non-null    int64  \n",
      " 16  Pet                     740 non-null    int64  \n",
      " 17  Weight                  740 non-null    int64  \n",
      " 18  Height                  740 non-null    int64  \n",
      " 19  BMI                     740 non-null    int64  \n",
      " 20  Missed_time             740 non-null    int64  \n",
      "dtypes: float64(1), int64(20)\n",
      "memory usage: 121.5 KB\n"
     ]
    }
   ],
   "source": [
    "data.info()"
   ]
  },
  {
   "cell_type": "markdown",
   "metadata": {
    "papermill": {
     "duration": 0.051134,
     "end_time": "2021-03-31T18:37:20.629876",
     "exception": false,
     "start_time": "2021-03-31T18:37:20.578742",
     "status": "completed"
    },
    "tags": []
   },
   "source": [
    "Checking for NA and null values. I am also checking for the type of each column."
   ]
  },
  {
   "cell_type": "code",
   "execution_count": 8,
   "metadata": {
    "execution": {
     "iopub.execute_input": "2021-03-31T18:37:20.764271Z",
     "iopub.status.busy": "2021-03-31T18:37:20.762843Z",
     "iopub.status.idle": "2021-03-31T18:37:20.838465Z",
     "shell.execute_reply": "2021-03-31T18:37:20.837604Z"
    },
    "papermill": {
     "duration": 0.136477,
     "end_time": "2021-03-31T18:37:20.838749",
     "exception": false,
     "start_time": "2021-03-31T18:37:20.702272",
     "status": "completed"
    },
    "tags": []
   },
   "outputs": [
    {
     "data": {
      "text/html": [
       "<div>\n",
       "<style scoped>\n",
       "    .dataframe tbody tr th:only-of-type {\n",
       "        vertical-align: middle;\n",
       "    }\n",
       "\n",
       "    .dataframe tbody tr th {\n",
       "        vertical-align: top;\n",
       "    }\n",
       "\n",
       "    .dataframe thead th {\n",
       "        text-align: right;\n",
       "    }\n",
       "</style>\n",
       "<table border=\"1\" class=\"dataframe\">\n",
       "  <thead>\n",
       "    <tr style=\"text-align: right;\">\n",
       "      <th></th>\n",
       "      <th>ID</th>\n",
       "      <th>Reason</th>\n",
       "      <th>Month</th>\n",
       "      <th>Day</th>\n",
       "      <th>Seasons</th>\n",
       "      <th>Travel_expense</th>\n",
       "      <th>Distance</th>\n",
       "      <th>Years</th>\n",
       "      <th>Age</th>\n",
       "      <th>Work load Average/day</th>\n",
       "      <th>...</th>\n",
       "      <th>Disc_failure</th>\n",
       "      <th>Education</th>\n",
       "      <th>Child</th>\n",
       "      <th>Social drinker</th>\n",
       "      <th>Social smoker</th>\n",
       "      <th>Pet</th>\n",
       "      <th>Weight</th>\n",
       "      <th>Height</th>\n",
       "      <th>BMI</th>\n",
       "      <th>Missed_time</th>\n",
       "    </tr>\n",
       "  </thead>\n",
       "  <tbody>\n",
       "    <tr>\n",
       "      <th>count</th>\n",
       "      <td>740.000000</td>\n",
       "      <td>740.000000</td>\n",
       "      <td>740.000000</td>\n",
       "      <td>740.000000</td>\n",
       "      <td>740.000000</td>\n",
       "      <td>740.000000</td>\n",
       "      <td>740.000000</td>\n",
       "      <td>740.000000</td>\n",
       "      <td>740.000000</td>\n",
       "      <td>740.000000</td>\n",
       "      <td>...</td>\n",
       "      <td>740.000000</td>\n",
       "      <td>740.000000</td>\n",
       "      <td>740.000000</td>\n",
       "      <td>740.000000</td>\n",
       "      <td>740.000000</td>\n",
       "      <td>740.000000</td>\n",
       "      <td>740.000000</td>\n",
       "      <td>740.000000</td>\n",
       "      <td>740.000000</td>\n",
       "      <td>740.000000</td>\n",
       "    </tr>\n",
       "    <tr>\n",
       "      <th>mean</th>\n",
       "      <td>18.017568</td>\n",
       "      <td>19.216216</td>\n",
       "      <td>6.324324</td>\n",
       "      <td>3.914865</td>\n",
       "      <td>2.544595</td>\n",
       "      <td>221.329730</td>\n",
       "      <td>29.631081</td>\n",
       "      <td>12.554054</td>\n",
       "      <td>36.450000</td>\n",
       "      <td>271.490235</td>\n",
       "      <td>...</td>\n",
       "      <td>0.054054</td>\n",
       "      <td>1.291892</td>\n",
       "      <td>1.018919</td>\n",
       "      <td>0.567568</td>\n",
       "      <td>0.072973</td>\n",
       "      <td>0.745946</td>\n",
       "      <td>79.035135</td>\n",
       "      <td>172.114865</td>\n",
       "      <td>26.677027</td>\n",
       "      <td>6.924324</td>\n",
       "    </tr>\n",
       "    <tr>\n",
       "      <th>std</th>\n",
       "      <td>11.021247</td>\n",
       "      <td>8.433406</td>\n",
       "      <td>3.436287</td>\n",
       "      <td>1.421675</td>\n",
       "      <td>1.111831</td>\n",
       "      <td>66.952223</td>\n",
       "      <td>14.836788</td>\n",
       "      <td>4.384873</td>\n",
       "      <td>6.478772</td>\n",
       "      <td>39.058116</td>\n",
       "      <td>...</td>\n",
       "      <td>0.226277</td>\n",
       "      <td>0.673238</td>\n",
       "      <td>1.098489</td>\n",
       "      <td>0.495749</td>\n",
       "      <td>0.260268</td>\n",
       "      <td>1.318258</td>\n",
       "      <td>12.883211</td>\n",
       "      <td>6.034995</td>\n",
       "      <td>4.285452</td>\n",
       "      <td>13.330998</td>\n",
       "    </tr>\n",
       "    <tr>\n",
       "      <th>min</th>\n",
       "      <td>1.000000</td>\n",
       "      <td>0.000000</td>\n",
       "      <td>0.000000</td>\n",
       "      <td>2.000000</td>\n",
       "      <td>1.000000</td>\n",
       "      <td>118.000000</td>\n",
       "      <td>5.000000</td>\n",
       "      <td>1.000000</td>\n",
       "      <td>27.000000</td>\n",
       "      <td>205.917000</td>\n",
       "      <td>...</td>\n",
       "      <td>0.000000</td>\n",
       "      <td>1.000000</td>\n",
       "      <td>0.000000</td>\n",
       "      <td>0.000000</td>\n",
       "      <td>0.000000</td>\n",
       "      <td>0.000000</td>\n",
       "      <td>56.000000</td>\n",
       "      <td>163.000000</td>\n",
       "      <td>19.000000</td>\n",
       "      <td>0.000000</td>\n",
       "    </tr>\n",
       "    <tr>\n",
       "      <th>25%</th>\n",
       "      <td>9.000000</td>\n",
       "      <td>13.000000</td>\n",
       "      <td>3.000000</td>\n",
       "      <td>3.000000</td>\n",
       "      <td>2.000000</td>\n",
       "      <td>179.000000</td>\n",
       "      <td>16.000000</td>\n",
       "      <td>9.000000</td>\n",
       "      <td>31.000000</td>\n",
       "      <td>244.387000</td>\n",
       "      <td>...</td>\n",
       "      <td>0.000000</td>\n",
       "      <td>1.000000</td>\n",
       "      <td>0.000000</td>\n",
       "      <td>0.000000</td>\n",
       "      <td>0.000000</td>\n",
       "      <td>0.000000</td>\n",
       "      <td>69.000000</td>\n",
       "      <td>169.000000</td>\n",
       "      <td>24.000000</td>\n",
       "      <td>2.000000</td>\n",
       "    </tr>\n",
       "    <tr>\n",
       "      <th>50%</th>\n",
       "      <td>18.000000</td>\n",
       "      <td>23.000000</td>\n",
       "      <td>6.000000</td>\n",
       "      <td>4.000000</td>\n",
       "      <td>3.000000</td>\n",
       "      <td>225.000000</td>\n",
       "      <td>26.000000</td>\n",
       "      <td>13.000000</td>\n",
       "      <td>37.000000</td>\n",
       "      <td>264.249000</td>\n",
       "      <td>...</td>\n",
       "      <td>0.000000</td>\n",
       "      <td>1.000000</td>\n",
       "      <td>1.000000</td>\n",
       "      <td>1.000000</td>\n",
       "      <td>0.000000</td>\n",
       "      <td>0.000000</td>\n",
       "      <td>83.000000</td>\n",
       "      <td>170.000000</td>\n",
       "      <td>25.000000</td>\n",
       "      <td>3.000000</td>\n",
       "    </tr>\n",
       "    <tr>\n",
       "      <th>75%</th>\n",
       "      <td>28.000000</td>\n",
       "      <td>26.000000</td>\n",
       "      <td>9.000000</td>\n",
       "      <td>5.000000</td>\n",
       "      <td>4.000000</td>\n",
       "      <td>260.000000</td>\n",
       "      <td>50.000000</td>\n",
       "      <td>16.000000</td>\n",
       "      <td>40.000000</td>\n",
       "      <td>294.217000</td>\n",
       "      <td>...</td>\n",
       "      <td>0.000000</td>\n",
       "      <td>1.000000</td>\n",
       "      <td>2.000000</td>\n",
       "      <td>1.000000</td>\n",
       "      <td>0.000000</td>\n",
       "      <td>1.000000</td>\n",
       "      <td>89.000000</td>\n",
       "      <td>172.000000</td>\n",
       "      <td>31.000000</td>\n",
       "      <td>8.000000</td>\n",
       "    </tr>\n",
       "    <tr>\n",
       "      <th>max</th>\n",
       "      <td>36.000000</td>\n",
       "      <td>28.000000</td>\n",
       "      <td>12.000000</td>\n",
       "      <td>6.000000</td>\n",
       "      <td>4.000000</td>\n",
       "      <td>388.000000</td>\n",
       "      <td>52.000000</td>\n",
       "      <td>29.000000</td>\n",
       "      <td>58.000000</td>\n",
       "      <td>378.884000</td>\n",
       "      <td>...</td>\n",
       "      <td>1.000000</td>\n",
       "      <td>4.000000</td>\n",
       "      <td>4.000000</td>\n",
       "      <td>1.000000</td>\n",
       "      <td>1.000000</td>\n",
       "      <td>8.000000</td>\n",
       "      <td>108.000000</td>\n",
       "      <td>196.000000</td>\n",
       "      <td>38.000000</td>\n",
       "      <td>120.000000</td>\n",
       "    </tr>\n",
       "  </tbody>\n",
       "</table>\n",
       "<p>8 rows × 21 columns</p>\n",
       "</div>"
      ],
      "text/plain": [
       "               ID      Reason       Month         Day     Seasons  \\\n",
       "count  740.000000  740.000000  740.000000  740.000000  740.000000   \n",
       "mean    18.017568   19.216216    6.324324    3.914865    2.544595   \n",
       "std     11.021247    8.433406    3.436287    1.421675    1.111831   \n",
       "min      1.000000    0.000000    0.000000    2.000000    1.000000   \n",
       "25%      9.000000   13.000000    3.000000    3.000000    2.000000   \n",
       "50%     18.000000   23.000000    6.000000    4.000000    3.000000   \n",
       "75%     28.000000   26.000000    9.000000    5.000000    4.000000   \n",
       "max     36.000000   28.000000   12.000000    6.000000    4.000000   \n",
       "\n",
       "       Travel_expense    Distance       Years         Age  \\\n",
       "count      740.000000  740.000000  740.000000  740.000000   \n",
       "mean       221.329730   29.631081   12.554054   36.450000   \n",
       "std         66.952223   14.836788    4.384873    6.478772   \n",
       "min        118.000000    5.000000    1.000000   27.000000   \n",
       "25%        179.000000   16.000000    9.000000   31.000000   \n",
       "50%        225.000000   26.000000   13.000000   37.000000   \n",
       "75%        260.000000   50.000000   16.000000   40.000000   \n",
       "max        388.000000   52.000000   29.000000   58.000000   \n",
       "\n",
       "       Work load Average/day   ...  Disc_failure   Education       Child  \\\n",
       "count              740.000000  ...    740.000000  740.000000  740.000000   \n",
       "mean               271.490235  ...      0.054054    1.291892    1.018919   \n",
       "std                 39.058116  ...      0.226277    0.673238    1.098489   \n",
       "min                205.917000  ...      0.000000    1.000000    0.000000   \n",
       "25%                244.387000  ...      0.000000    1.000000    0.000000   \n",
       "50%                264.249000  ...      0.000000    1.000000    1.000000   \n",
       "75%                294.217000  ...      0.000000    1.000000    2.000000   \n",
       "max                378.884000  ...      1.000000    4.000000    4.000000   \n",
       "\n",
       "       Social drinker  Social smoker         Pet      Weight      Height  \\\n",
       "count      740.000000     740.000000  740.000000  740.000000  740.000000   \n",
       "mean         0.567568       0.072973    0.745946   79.035135  172.114865   \n",
       "std          0.495749       0.260268    1.318258   12.883211    6.034995   \n",
       "min          0.000000       0.000000    0.000000   56.000000  163.000000   \n",
       "25%          0.000000       0.000000    0.000000   69.000000  169.000000   \n",
       "50%          1.000000       0.000000    0.000000   83.000000  170.000000   \n",
       "75%          1.000000       0.000000    1.000000   89.000000  172.000000   \n",
       "max          1.000000       1.000000    8.000000  108.000000  196.000000   \n",
       "\n",
       "              BMI  Missed_time  \n",
       "count  740.000000   740.000000  \n",
       "mean    26.677027     6.924324  \n",
       "std      4.285452    13.330998  \n",
       "min     19.000000     0.000000  \n",
       "25%     24.000000     2.000000  \n",
       "50%     25.000000     3.000000  \n",
       "75%     31.000000     8.000000  \n",
       "max     38.000000   120.000000  \n",
       "\n",
       "[8 rows x 21 columns]"
      ]
     },
     "execution_count": 8,
     "metadata": {},
     "output_type": "execute_result"
    }
   ],
   "source": [
    "data.describe()"
   ]
  },
  {
   "cell_type": "markdown",
   "metadata": {
    "papermill": {
     "duration": 0.057395,
     "end_time": "2021-03-31T18:37:20.958960",
     "exception": false,
     "start_time": "2021-03-31T18:37:20.901565",
     "status": "completed"
    },
    "tags": []
   },
   "source": [
    "Quick statistical overview of the data."
   ]
  },
  {
   "cell_type": "code",
   "execution_count": 9,
   "metadata": {
    "execution": {
     "iopub.execute_input": "2021-03-31T18:37:21.077576Z",
     "iopub.status.busy": "2021-03-31T18:37:21.076405Z",
     "iopub.status.idle": "2021-03-31T18:37:21.082179Z",
     "shell.execute_reply": "2021-03-31T18:37:21.082791Z"
    },
    "papermill": {
     "duration": 0.062326,
     "end_time": "2021-03-31T18:37:21.082981",
     "exception": false,
     "start_time": "2021-03-31T18:37:21.020655",
     "status": "completed"
    },
    "tags": []
   },
   "outputs": [
    {
     "data": {
      "text/plain": [
       "ID                        0\n",
       "Reason                    0\n",
       "Month                     0\n",
       "Day                       0\n",
       "Seasons                   0\n",
       "Travel_expense            0\n",
       "Distance                  0\n",
       "Years                     0\n",
       "Age                       0\n",
       "Work load Average/day     0\n",
       "Work_target               0\n",
       "Disc_failure              0\n",
       "Education                 0\n",
       "Child                     0\n",
       "Social drinker            0\n",
       "Social smoker             0\n",
       "Pet                       0\n",
       "Weight                    0\n",
       "Height                    0\n",
       "BMI                       0\n",
       "Missed_time               0\n",
       "dtype: int64"
      ]
     },
     "execution_count": 9,
     "metadata": {},
     "output_type": "execute_result"
    }
   ],
   "source": [
    "missing = data.isnull().sum()\n",
    "missing"
   ]
  },
  {
   "cell_type": "code",
   "execution_count": 10,
   "metadata": {
    "execution": {
     "iopub.execute_input": "2021-03-31T18:37:21.192983Z",
     "iopub.status.busy": "2021-03-31T18:37:21.191980Z",
     "iopub.status.idle": "2021-03-31T18:37:21.194392Z",
     "shell.execute_reply": "2021-03-31T18:37:21.195155Z"
    },
    "papermill": {
     "duration": 0.056639,
     "end_time": "2021-03-31T18:37:21.195398",
     "exception": false,
     "start_time": "2021-03-31T18:37:21.138759",
     "status": "completed"
    },
    "tags": []
   },
   "outputs": [],
   "source": [
    "sns.set_theme(style='darkgrid')"
   ]
  },
  {
   "cell_type": "code",
   "execution_count": 11,
   "metadata": {
    "execution": {
     "iopub.execute_input": "2021-03-31T18:37:21.305317Z",
     "iopub.status.busy": "2021-03-31T18:37:21.304556Z",
     "iopub.status.idle": "2021-03-31T18:37:21.685430Z",
     "shell.execute_reply": "2021-03-31T18:37:21.685936Z"
    },
    "papermill": {
     "duration": 0.437443,
     "end_time": "2021-03-31T18:37:21.686129",
     "exception": false,
     "start_time": "2021-03-31T18:37:21.248686",
     "status": "completed"
    },
    "tags": []
   },
   "outputs": [
    {
     "data": {
      "image/png": "[encoded data removed]",
      "text/plain": [
       "<Figure size 432x288 with 1 Axes>"
      ]
     },
     "metadata": {},
     "output_type": "display_data"
    }
   ],
   "source": [
    "sns.countplot(x=data['Missed_time'])\n",
    "plt.show()"
   ]
  },
  {
   "cell_type": "code",
   "execution_count": 12,
   "metadata": {
    "execution": {
     "iopub.execute_input": "2021-03-31T18:37:21.788783Z",
     "iopub.status.busy": "2021-03-31T18:37:21.787772Z",
     "iopub.status.idle": "2021-03-31T18:37:22.180925Z",
     "shell.execute_reply": "2021-03-31T18:37:22.181431Z"
    },
    "papermill": {
     "duration": 0.445657,
     "end_time": "2021-03-31T18:37:22.181637",
     "exception": false,
     "start_time": "2021-03-31T18:37:21.735980",
     "status": "completed"
    },
    "tags": []
   },
   "outputs": [
    {
     "data": {
      "image/png": "[encoded data removed]",
      "text/plain": [
       "<Figure size 864x864 with 1 Axes>"
      ]
     },
     "metadata": {},
     "output_type": "display_data"
    }
   ],
   "source": [
    "plt.figure(figsize=(12,12))\n",
    "ax = sns.countplot(y=data['Reason'])\n",
    "ax.set_title('Reasons for Absence')\n",
    "plt.show()"
   ]
  },
  {
   "cell_type": "markdown",
   "metadata": {
    "papermill": {
     "duration": 0.049527,
     "end_time": "2021-03-31T18:37:22.279966",
     "exception": false,
     "start_time": "2021-03-31T18:37:22.230439",
     "status": "completed"
    },
    "tags": []
   },
   "source": [
    "Getting a quick count of all the possible reasons an employee could call out. From the graph, no one has used number 20, which is death. There is also a massive variance of which ones are used. Some are only used a couple of times across the 3 years while one is use almost 150 times."
   ]
  },
  {
   "cell_type": "code",
   "execution_count": 13,
   "metadata": {
    "execution": {
     "iopub.execute_input": "2021-03-31T18:37:22.391161Z",
     "iopub.status.busy": "2021-03-31T18:37:22.390100Z",
     "iopub.status.idle": "2021-03-31T18:37:24.011387Z",
     "shell.execute_reply": "2021-03-31T18:37:24.011871Z"
    },
    "papermill": {
     "duration": 1.68017,
     "end_time": "2021-03-31T18:37:24.012060",
     "exception": false,
     "start_time": "2021-03-31T18:37:22.331890",
     "status": "completed"
    },
    "tags": []
   },
   "outputs": [
    {
     "data": {
      "image/png": "[encoded data removed]",
      "text/plain": [
       "<Figure size 864x864 with 1 Axes>"
      ]
     },
     "metadata": {},
     "output_type": "display_data"
    }
   ],
   "source": [
    "plt.figure(figsize=(12, 12))\n",
    "ax= sns.barplot(x=data['ID'], y=data['Age'])\n",
    "ax.set_title('Age of Employees')\n",
    "plt.show()"
   ]
  },
  {
   "cell_type": "markdown",
   "metadata": {
    "papermill": {
     "duration": 0.049891,
     "end_time": "2021-03-31T18:37:24.111395",
     "exception": false,
     "start_time": "2021-03-31T18:37:24.061504",
     "status": "completed"
    },
    "tags": []
   },
   "source": [
    "Getting the ages of all the different employees. Something happened with employee 29 as they are the only one with a range bar. Perhaps they resued an employee number?"
   ]
  },
  {
   "cell_type": "code",
   "execution_count": 14,
   "metadata": {
    "execution": {
     "iopub.execute_input": "2021-03-31T18:37:24.216514Z",
     "iopub.status.busy": "2021-03-31T18:37:24.215414Z",
     "iopub.status.idle": "2021-03-31T18:37:24.800081Z",
     "shell.execute_reply": "2021-03-31T18:37:24.800563Z"
    },
    "papermill": {
     "duration": 0.638753,
     "end_time": "2021-03-31T18:37:24.800777",
     "exception": false,
     "start_time": "2021-03-31T18:37:24.162024",
     "status": "completed"
    },
    "tags": []
   },
   "outputs": [
    {
     "data": {
      "text/plain": [
       "<AxesSubplot:xlabel='Day', ylabel='Missed_time'>"
      ]
     },
     "execution_count": 14,
     "metadata": {},
     "output_type": "execute_result"
    },
    {
     "data": {
      "image/png": "[encoded data removed]",
      "text/plain": [
       "<Figure size 432x288 with 1 Axes>"
      ]
     },
     "metadata": {},
     "output_type": "display_data"
    }
   ],
   "source": [
    "sns.barplot(x=data['Day'], y=data['Missed_time'], estimator=sum)"
   ]
  },
  {
   "cell_type": "markdown",
   "metadata": {
    "papermill": {
     "duration": 0.050959,
     "end_time": "2021-03-31T18:37:24.902884",
     "exception": false,
     "start_time": "2021-03-31T18:37:24.851925",
     "status": "completed"
    },
    "tags": []
   },
   "source": [
    "Monday had the greatest amount of missed time while Thursday had the least."
   ]
  },
  {
   "cell_type": "code",
   "execution_count": 15,
   "metadata": {
    "execution": {
     "iopub.execute_input": "2021-03-31T18:37:25.010256Z",
     "iopub.status.busy": "2021-03-31T18:37:25.009552Z",
     "iopub.status.idle": "2021-03-31T18:37:25.234765Z",
     "shell.execute_reply": "2021-03-31T18:37:25.234170Z"
    },
    "papermill": {
     "duration": 0.280232,
     "end_time": "2021-03-31T18:37:25.234922",
     "exception": false,
     "start_time": "2021-03-31T18:37:24.954690",
     "status": "completed"
    },
    "tags": []
   },
   "outputs": [
    {
     "data": {
      "text/plain": [
       "<AxesSubplot:xlabel='count', ylabel='Month'>"
      ]
     },
     "execution_count": 15,
     "metadata": {},
     "output_type": "execute_result"
    },
    {
     "data": {
      "image/png": "[encoded data removed]",
      "text/plain": [
       "<Figure size 432x288 with 1 Axes>"
      ]
     },
     "metadata": {},
     "output_type": "display_data"
    }
   ],
   "source": [
    "sns.countplot(y=data['Month'])"
   ]
  },
  {
   "cell_type": "markdown",
   "metadata": {
    "papermill": {
     "duration": 0.053049,
     "end_time": "2021-03-31T18:37:25.341263",
     "exception": false,
     "start_time": "2021-03-31T18:37:25.288214",
     "status": "completed"
    },
    "tags": []
   },
   "source": [
    "There were more sick days taken in March than any other month. Perhaps a local holiday?"
   ]
  },
  {
   "cell_type": "code",
   "execution_count": 16,
   "metadata": {
    "execution": {
     "iopub.execute_input": "2021-03-31T18:37:25.454353Z",
     "iopub.status.busy": "2021-03-31T18:37:25.452570Z",
     "iopub.status.idle": "2021-03-31T18:37:27.069681Z",
     "shell.execute_reply": "2021-03-31T18:37:27.070539Z"
    },
    "papermill": {
     "duration": 1.676956,
     "end_time": "2021-03-31T18:37:27.070749",
     "exception": false,
     "start_time": "2021-03-31T18:37:25.393793",
     "status": "completed"
    },
    "tags": []
   },
   "outputs": [
    {
     "data": {
      "text/plain": [
       "<AxesSubplot:xlabel='ID', ylabel='Missed_time'>"
      ]
     },
     "execution_count": 16,
     "metadata": {},
     "output_type": "execute_result"
    },
    {
     "data": {
      "image/png": "[encoded data removed]",
      "text/plain": [
       "<Figure size 864x864 with 1 Axes>"
      ]
     },
     "metadata": {},
     "output_type": "display_data"
    }
   ],
   "source": [
    "plt.figure(figsize=(12,12))\n",
    "sns.barplot(x=data['ID'], y=data['Missed_time'])"
   ]
  },
  {
   "cell_type": "markdown",
   "metadata": {
    "papermill": {
     "duration": 0.054012,
     "end_time": "2021-03-31T18:37:27.178542",
     "exception": false,
     "start_time": "2021-03-31T18:37:27.124530",
     "status": "completed"
    },
    "tags": []
   },
   "source": [
    "Employees 4, 8 and 35 have not taken any time off. "
   ]
  },
  {
   "cell_type": "code",
   "execution_count": 17,
   "metadata": {
    "execution": {
     "iopub.execute_input": "2021-03-31T18:37:27.299810Z",
     "iopub.status.busy": "2021-03-31T18:37:27.298480Z",
     "iopub.status.idle": "2021-03-31T18:37:27.674473Z",
     "shell.execute_reply": "2021-03-31T18:37:27.674978Z"
    },
    "papermill": {
     "duration": 0.442604,
     "end_time": "2021-03-31T18:37:27.675176",
     "exception": false,
     "start_time": "2021-03-31T18:37:27.232572",
     "status": "completed"
    },
    "tags": []
   },
   "outputs": [
    {
     "data": {
      "image/png": "[encoded data removed]",
      "text/plain": [
       "<Figure size 864x864 with 1 Axes>"
      ]
     },
     "metadata": {},
     "output_type": "display_data"
    }
   ],
   "source": [
    "plt.figure(figsize=(12,12))\n",
    "sns.scatterplot(x=data['Reason'], y=data['ID'])\n",
    "plt.show()"
   ]
  },
  {
   "cell_type": "markdown",
   "metadata": {
    "papermill": {
     "duration": 0.055098,
     "end_time": "2021-03-31T18:37:27.787636",
     "exception": false,
     "start_time": "2021-03-31T18:37:27.732538",
     "status": "completed"
    },
    "tags": []
   },
   "source": [
    "Showing each of the reasons each employee called out."
   ]
  },
  {
   "cell_type": "code",
   "execution_count": 18,
   "metadata": {
    "execution": {
     "iopub.execute_input": "2021-03-31T18:37:27.903454Z",
     "iopub.status.busy": "2021-03-31T18:37:27.902821Z",
     "iopub.status.idle": "2021-03-31T18:37:28.654492Z",
     "shell.execute_reply": "2021-03-31T18:37:28.653838Z"
    },
    "papermill": {
     "duration": 0.811971,
     "end_time": "2021-03-31T18:37:28.654663",
     "exception": false,
     "start_time": "2021-03-31T18:37:27.842692",
     "status": "completed"
    },
    "tags": []
   },
   "outputs": [
    {
     "name": "stderr",
     "output_type": "stream",
     "text": [
      "/opt/conda/lib/python3.7/site-packages/seaborn/_decorators.py:43: FutureWarning: Pass the following variables as keyword args: x, y. From version 0.12, the only valid positional argument will be `data`, and passing other arguments without an explicit keyword will result in an error or misinterpretation.\n",
      "  FutureWarning\n"
     ]
    },
    {
     "data": {
      "text/plain": [
       "<AxesSubplot:xlabel='Reason', ylabel='Missed_time'>"
      ]
     },
     "execution_count": 18,
     "metadata": {},
     "output_type": "execute_result"
    },
    {
     "data": {
      "image/png": "[encoded data removed]",
      "text/plain": [
       "<Figure size 864x864 with 1 Axes>"
      ]
     },
     "metadata": {},
     "output_type": "display_data"
    }
   ],
   "source": [
    "plt.figure(figsize=(12,12))\n",
    "sns.boxplot(data['Reason'], data['Missed_time'])"
   ]
  },
  {
   "cell_type": "code",
   "execution_count": 19,
   "metadata": {
    "execution": {
     "iopub.execute_input": "2021-03-31T18:37:28.775433Z",
     "iopub.status.busy": "2021-03-31T18:37:28.774481Z",
     "iopub.status.idle": "2021-03-31T18:37:29.421329Z",
     "shell.execute_reply": "2021-03-31T18:37:29.420686Z"
    },
    "papermill": {
     "duration": 0.70999,
     "end_time": "2021-03-31T18:37:29.421477",
     "exception": false,
     "start_time": "2021-03-31T18:37:28.711487",
     "status": "completed"
    },
    "tags": []
   },
   "outputs": [
    {
     "data": {
      "image/png": "[encoded data removed]",
      "text/plain": [
       "<Figure size 864x864 with 2 Axes>"
      ]
     },
     "metadata": {},
     "output_type": "display_data"
    }
   ],
   "source": [
    "correlation_heatmap = data.corr()\n",
    "plt.figure(figsize=(12,12))\n",
    "sns.heatmap(data.groupby(['Month', 'Day'])['Missed_time'].sum().unstack()[1:13],\n",
    "            annot=True, fmt ='g', cmap='Blues')\n",
    "plt.show()"
   ]
  },
  {
   "cell_type": "markdown",
   "metadata": {
    "papermill": {
     "duration": 0.06022,
     "end_time": "2021-03-31T18:37:29.539668",
     "exception": false,
     "start_time": "2021-03-31T18:37:29.479448",
     "status": "completed"
    },
    "tags": []
   },
   "source": [
    "Seeing the correlation between Month and Day. "
   ]
  },
  {
   "cell_type": "code",
   "execution_count": 20,
   "metadata": {
    "execution": {
     "iopub.execute_input": "2021-03-31T18:37:29.682740Z",
     "iopub.status.busy": "2021-03-31T18:37:29.665672Z",
     "iopub.status.idle": "2021-03-31T18:37:39.439994Z",
     "shell.execute_reply": "2021-03-31T18:37:39.440500Z"
    },
    "papermill": {
     "duration": 9.840627,
     "end_time": "2021-03-31T18:37:39.440723",
     "exception": false,
     "start_time": "2021-03-31T18:37:29.600096",
     "status": "completed"
    },
    "tags": []
   },
   "outputs": [
    {
     "name": "stdout",
     "output_type": "stream",
     "text": [
      "Collecting kneed\r\n",
      "  Downloading kneed-0.7.0-py2.py3-none-any.whl (9.4 kB)\r\n",
      "Requirement already satisfied: matplotlib in /opt/conda/lib/python3.7/site-packages (from kneed) (3.3.3)\r\n",
      "Requirement already satisfied: numpy>=1.14.2 in /opt/conda/lib/python3.7/site-packages (from kneed) (1.19.5)\r\n",
      "Requirement already satisfied: scipy in /opt/conda/lib/python3.7/site-packages (from kneed) (1.5.4)\r\n",
      "Requirement already satisfied: python-dateutil>=2.1 in /opt/conda/lib/python3.7/site-packages (from matplotlib->kneed) (2.8.1)\r\n",
      "Requirement already satisfied: kiwisolver>=1.0.1 in /opt/conda/lib/python3.7/site-packages (from matplotlib->kneed) (1.3.1)\r\n",
      "Requirement already satisfied: cycler>=0.10 in /opt/conda/lib/python3.7/site-packages (from matplotlib->kneed) (0.10.0)\r\n",
      "Requirement already satisfied: pillow>=6.2.0 in /opt/conda/lib/python3.7/site-packages (from matplotlib->kneed) (7.2.0)\r\n",
      "Requirement already satisfied: pyparsing!=2.0.4,!=2.1.2,!=2.1.6,>=2.0.3 in /opt/conda/lib/python3.7/site-packages (from matplotlib->kneed) (2.4.7)\r\n",
      "Requirement already satisfied: six in /opt/conda/lib/python3.7/site-packages (from cycler>=0.10->matplotlib->kneed) (1.15.0)\r\n",
      "Installing collected packages: kneed\r\n",
      "Successfully installed kneed-0.7.0\r\n"
     ]
    }
   ],
   "source": [
    "!pip install --upgrade kneed"
   ]
  },
  {
   "cell_type": "markdown",
   "metadata": {
    "papermill": {
     "duration": 0.059955,
     "end_time": "2021-03-31T18:37:39.561926",
     "exception": false,
     "start_time": "2021-03-31T18:37:39.501971",
     "status": "completed"
    },
    "tags": []
   },
   "source": [
    "Clustering!"
   ]
  },
  {
   "cell_type": "code",
   "execution_count": 21,
   "metadata": {
    "execution": {
     "iopub.execute_input": "2021-03-31T18:37:39.688419Z",
     "iopub.status.busy": "2021-03-31T18:37:39.687759Z",
     "iopub.status.idle": "2021-03-31T18:37:39.998155Z",
     "shell.execute_reply": "2021-03-31T18:37:39.998772Z"
    },
    "papermill": {
     "duration": 0.377119,
     "end_time": "2021-03-31T18:37:39.998979",
     "exception": false,
     "start_time": "2021-03-31T18:37:39.621860",
     "status": "completed"
    },
    "tags": []
   },
   "outputs": [],
   "source": [
    "from kneed import KneeLocator\n",
    "from sklearn.datasets import make_blobs\n",
    "from sklearn.cluster import KMeans\n",
    "from sklearn.metrics import silhouette_score\n",
    "from sklearn.preprocessing import StandardScaler"
   ]
  },
  {
   "cell_type": "code",
   "execution_count": 22,
   "metadata": {
    "execution": {
     "iopub.execute_input": "2021-03-31T18:37:40.126886Z",
     "iopub.status.busy": "2021-03-31T18:37:40.125889Z",
     "iopub.status.idle": "2021-03-31T18:37:40.132530Z",
     "shell.execute_reply": "2021-03-31T18:37:40.133153Z"
    },
    "papermill": {
     "duration": 0.072231,
     "end_time": "2021-03-31T18:37:40.133339",
     "exception": false,
     "start_time": "2021-03-31T18:37:40.061108",
     "status": "completed"
    },
    "tags": []
   },
   "outputs": [],
   "source": [
    "features = data.drop(['ID', 'Reason'], axis=1)\n",
    "original_label = data['Reason']"
   ]
  },
  {
   "cell_type": "code",
   "execution_count": 23,
   "metadata": {
    "execution": {
     "iopub.execute_input": "2021-03-31T18:37:40.259695Z",
     "iopub.status.busy": "2021-03-31T18:37:40.258672Z",
     "iopub.status.idle": "2021-03-31T18:37:40.271868Z",
     "shell.execute_reply": "2021-03-31T18:37:40.272422Z"
    },
    "papermill": {
     "duration": 0.078238,
     "end_time": "2021-03-31T18:37:40.272630",
     "exception": false,
     "start_time": "2021-03-31T18:37:40.194392",
     "status": "completed"
    },
    "tags": []
   },
   "outputs": [
    {
     "data": {
      "text/plain": [
       "array([[ 0.19676258, -0.64394734, -1.3901746 , ..., -0.01904601,\n",
       "         0.77593223, -0.21951111],\n",
       "       [ 0.19676258, -0.64394734, -1.3901746 , ...,  0.97582783,\n",
       "         1.00943766, -0.51976661],\n",
       "       [ 0.19676258,  0.0599242 , -1.3901746 , ..., -0.35067062,\n",
       "         1.00943766, -0.36963886],\n",
       "       ...,\n",
       "       [-1.84169773, -0.64394734, -1.3901746 , ..., -0.35067062,\n",
       "         1.70995395, -0.51976661],\n",
       "       [-1.84169773,  0.0599242 , -0.49014905, ..., -0.35067062,\n",
       "         1.94345938, -0.51976661],\n",
       "       [-1.84169773,  1.46766727,  0.4098765 , ...,  0.47839091,\n",
       "        -0.39159492, -0.51976661]])"
      ]
     },
     "execution_count": 23,
     "metadata": {},
     "output_type": "execute_result"
    }
   ],
   "source": [
    "scaler = StandardScaler()\n",
    "scaled_data = scaler.fit_transform(features)\n",
    "scaled_data"
   ]
  },
  {
   "cell_type": "code",
   "execution_count": 24,
   "metadata": {
    "execution": {
     "iopub.execute_input": "2021-03-31T18:37:40.400134Z",
     "iopub.status.busy": "2021-03-31T18:37:40.399410Z",
     "iopub.status.idle": "2021-03-31T18:37:40.433276Z",
     "shell.execute_reply": "2021-03-31T18:37:40.434416Z"
    },
    "papermill": {
     "duration": 0.099815,
     "end_time": "2021-03-31T18:37:40.434739",
     "exception": false,
     "start_time": "2021-03-31T18:37:40.334924",
     "status": "completed"
    },
    "tags": []
   },
   "outputs": [
    {
     "data": {
      "text/plain": [
       "(740, 2)"
      ]
     },
     "execution_count": 24,
     "metadata": {},
     "output_type": "execute_result"
    }
   ],
   "source": [
    "from sklearn.decomposition import PCA\n",
    "pca = PCA(2)\n",
    "df_pca = pca.fit_transform(scaled_data)\n",
    "\n",
    "df_pca.shape"
   ]
  },
  {
   "cell_type": "code",
   "execution_count": 25,
   "metadata": {
    "execution": {
     "iopub.execute_input": "2021-03-31T18:37:40.607748Z",
     "iopub.status.busy": "2021-03-31T18:37:40.606936Z",
     "iopub.status.idle": "2021-03-31T18:37:41.220696Z",
     "shell.execute_reply": "2021-03-31T18:37:41.221324Z"
    },
    "papermill": {
     "duration": 0.683978,
     "end_time": "2021-03-31T18:37:41.221538",
     "exception": false,
     "start_time": "2021-03-31T18:37:40.537560",
     "status": "completed"
    },
    "tags": []
   },
   "outputs": [],
   "source": [
    "kmeans_kwargs = {\n",
    "    \"init\": \"random\",\n",
    "    \"n_init\": 10,\n",
    "    \"max_iter\": 300,\n",
    "    \"random_state\": 137\n",
    "}\n",
    "\n",
    "sse= []\n",
    "for k in range(1,11):\n",
    "    kmeans=KMeans(n_clusters=k, **kmeans_kwargs)\n",
    "    kmeans.fit(df_pca)\n",
    "    sse.append(kmeans.inertia_)"
   ]
  },
  {
   "cell_type": "code",
   "execution_count": 26,
   "metadata": {
    "execution": {
     "iopub.execute_input": "2021-03-31T18:37:41.351794Z",
     "iopub.status.busy": "2021-03-31T18:37:41.351064Z",
     "iopub.status.idle": "2021-03-31T18:37:41.561856Z",
     "shell.execute_reply": "2021-03-31T18:37:41.560957Z"
    },
    "papermill": {
     "duration": 0.277471,
     "end_time": "2021-03-31T18:37:41.562010",
     "exception": false,
     "start_time": "2021-03-31T18:37:41.284539",
     "status": "completed"
    },
    "tags": []
   },
   "outputs": [
    {
     "data": {
      "image/png": "[encoded data removed]",
      "text/plain": [
       "<Figure size 432x288 with 1 Axes>"
      ]
     },
     "metadata": {},
     "output_type": "display_data"
    }
   ],
   "source": [
    "plt.plot(range(1,11), sse)\n",
    "plt.xticks(range(1,11))\n",
    "plt.show()"
   ]
  },
  {
   "cell_type": "code",
   "execution_count": 27,
   "metadata": {
    "execution": {
     "iopub.execute_input": "2021-03-31T18:37:41.724485Z",
     "iopub.status.busy": "2021-03-31T18:37:41.723462Z",
     "iopub.status.idle": "2021-03-31T18:37:41.726294Z",
     "shell.execute_reply": "2021-03-31T18:37:41.727191Z"
    },
    "papermill": {
     "duration": 0.102124,
     "end_time": "2021-03-31T18:37:41.727569",
     "exception": false,
     "start_time": "2021-03-31T18:37:41.625445",
     "status": "completed"
    },
    "tags": []
   },
   "outputs": [],
   "source": [
    "kmeans = KMeans(init ='random', n_clusters=3,\n",
    "               n_init=10, max_iter=300, random_state=137)"
   ]
  },
  {
   "cell_type": "code",
   "execution_count": 28,
   "metadata": {
    "execution": {
     "iopub.execute_input": "2021-03-31T18:37:41.871878Z",
     "iopub.status.busy": "2021-03-31T18:37:41.871192Z",
     "iopub.status.idle": "2021-03-31T18:37:41.931040Z",
     "shell.execute_reply": "2021-03-31T18:37:41.931563Z"
    },
    "papermill": {
     "duration": 0.126444,
     "end_time": "2021-03-31T18:37:41.931792",
     "exception": false,
     "start_time": "2021-03-31T18:37:41.805348",
     "status": "completed"
    },
    "tags": []
   },
   "outputs": [
    {
     "data": {
      "text/plain": [
       "array([0, 1, 1, 0, 0, 1, 0, 0, 1, 2, 0, 0, 0, 1, 1, 2, 1, 1, 2, 1, 2, 1,\n",
       "       0, 0, 0, 0, 0, 2, 0, 1, 1, 0, 2, 0, 1, 0, 0, 0, 0, 0, 2, 2, 1, 1,\n",
       "       1, 2, 1, 0, 0, 0, 0, 0, 0, 2, 0, 1, 0, 1, 0, 1, 1, 0, 1, 2, 1, 2,\n",
       "       1, 0, 2, 0, 1, 0, 1, 0, 0, 0, 0, 0, 0, 0, 1, 0, 1, 2, 0, 1, 0, 0,\n",
       "       0, 1, 0, 2, 0, 0, 1, 0, 0, 0, 1, 2, 1, 2, 0, 0, 2, 0, 0, 0, 0, 0,\n",
       "       2, 0, 0, 2, 2, 2, 1, 2, 2, 2, 2, 2, 2, 2, 2, 2, 2, 2, 2, 2, 0, 2,\n",
       "       2, 2, 2, 2, 0, 2, 2, 1, 1, 2, 0, 0, 2, 2, 2, 2, 2, 2, 2, 2, 2, 2,\n",
       "       2, 0, 0, 2, 2, 0, 0, 2, 1, 0, 2, 1, 0, 1, 0, 2, 0, 2, 2, 1, 2, 2,\n",
       "       2, 2, 2, 1, 2, 2, 1, 2, 0, 2, 1, 2, 1, 2, 0, 1, 1, 0, 2, 0, 1, 0,\n",
       "       0, 1, 0, 0, 2, 0, 0, 1, 1, 1, 2, 2, 1, 1, 0, 0, 2, 0, 0, 1, 1, 0,\n",
       "       2, 0, 2, 0, 0, 1, 1, 2, 1, 2, 1, 1, 0, 1, 1, 2, 1, 1, 2, 2, 2, 2,\n",
       "       1, 2, 2, 2, 0, 0, 1, 0, 0, 0, 0, 2, 0, 2, 0, 0, 0, 0, 1, 2, 2, 1,\n",
       "       1, 2, 1, 2, 0, 2, 1, 1, 0, 1, 0, 0, 1, 0, 1, 0, 1, 0, 0, 1, 1, 1,\n",
       "       0, 0, 1, 0, 2, 0, 0, 1, 0, 2, 2, 0, 1, 2, 1, 0, 0, 1, 1, 1, 1, 0,\n",
       "       2, 1, 0, 0, 0, 0, 2, 2, 1, 2, 1, 1, 0, 0, 0, 1, 1, 2, 2, 2, 2, 1,\n",
       "       0, 0, 0, 1, 0, 0, 0, 0, 1, 0, 1, 1, 2, 1, 0, 0, 1, 1, 2, 2, 2, 1,\n",
       "       1, 2, 0, 2, 1, 0, 2, 2, 1, 2, 1, 1, 0, 1, 1, 1, 1, 2, 1, 2, 0, 0,\n",
       "       1, 1, 1, 1, 2, 1, 2, 1, 2, 0, 2, 1, 1, 2, 1, 1, 2, 2, 2, 0, 1, 2,\n",
       "       2, 0, 1, 0, 0, 2, 1, 1, 1, 2, 0, 1, 1, 0, 0, 2, 1, 0, 2, 0, 1, 2,\n",
       "       1, 1, 1, 0, 0, 1, 2, 1, 1, 0, 2, 1, 0, 0, 2, 2, 2, 2, 2, 2, 2, 2,\n",
       "       2, 2, 1, 2, 2, 0, 1, 0, 1, 1, 1, 1, 1, 2, 1, 1, 2, 2, 2, 2, 2, 0,\n",
       "       0, 2, 2, 2, 0, 2, 0, 0, 1, 2, 1, 1, 0, 0, 1, 1, 0, 0, 1, 2, 1, 2,\n",
       "       0, 1, 0, 1, 2, 2, 2, 1, 2, 0, 0, 0, 0, 2, 1, 0, 2, 1, 1, 0, 2, 0,\n",
       "       0, 1, 2, 0, 1, 0, 2, 1, 0, 0, 0, 0, 0, 0, 1, 0, 0, 0, 0, 0, 0, 0,\n",
       "       2, 1, 0, 0, 1, 2, 2, 1, 2, 0, 2, 0, 0, 0, 2, 0, 1, 2, 2, 0, 0, 0,\n",
       "       1, 1, 0, 0, 0, 1, 0, 0, 2, 0, 0, 0, 2, 1, 0, 2, 0, 0, 0, 1, 2, 2,\n",
       "       2, 2, 2, 2, 1, 2, 2, 1, 2, 1, 0, 1, 1, 1, 2, 1, 1, 2, 1, 2, 2, 1,\n",
       "       0, 1, 2, 1, 1, 2, 2, 2, 1, 0, 2, 1, 1, 1, 1, 2, 1, 2, 1, 1, 2, 1,\n",
       "       1, 2, 1, 1, 2, 1, 2, 1, 2, 1, 2, 2, 2, 0, 1, 1, 1, 2, 1, 1, 1, 2,\n",
       "       1, 0, 2, 1, 1, 1, 2, 1, 1, 1, 1, 1, 1, 2, 1, 0, 2, 2, 0, 1, 0, 2,\n",
       "       0, 2, 1, 0, 2, 2, 2, 2, 2, 2, 1, 0, 1, 2, 2, 2, 2, 2, 1, 2, 0, 2,\n",
       "       0, 2, 2, 1, 1, 2, 1, 2, 0, 2, 1, 2, 0, 2, 2, 2, 2, 0, 2, 0, 1, 2,\n",
       "       1, 2, 1, 2, 2, 2, 0, 1, 0, 2, 0, 2, 1, 2, 0, 2, 2, 0, 2, 2, 0, 1,\n",
       "       0, 2, 2, 2, 0, 2, 0, 2, 0, 0, 2, 1, 1, 1], dtype=int32)"
      ]
     },
     "execution_count": 28,
     "metadata": {},
     "output_type": "execute_result"
    }
   ],
   "source": [
    "label = kmeans.fit_predict(df_pca)\n",
    "label"
   ]
  },
  {
   "cell_type": "code",
   "execution_count": 29,
   "metadata": {
    "execution": {
     "iopub.execute_input": "2021-03-31T18:37:42.065042Z",
     "iopub.status.busy": "2021-03-31T18:37:42.064052Z",
     "iopub.status.idle": "2021-03-31T18:37:42.258428Z",
     "shell.execute_reply": "2021-03-31T18:37:42.259007Z"
    },
    "papermill": {
     "duration": 0.26304,
     "end_time": "2021-03-31T18:37:42.259189",
     "exception": false,
     "start_time": "2021-03-31T18:37:41.996149",
     "status": "completed"
    },
    "tags": []
   },
   "outputs": [
    {
     "data": {
      "image/png": "[encoded data removed]",
      "text/plain": [
       "<Figure size 432x288 with 1 Axes>"
      ]
     },
     "metadata": {},
     "output_type": "display_data"
    }
   ],
   "source": [
    "filtered_label0 = df_pca[label == 0]\n",
    "plt.scatter(filtered_label0[:,0], filtered_label0[:,1])\n",
    "plt.show()"
   ]
  },
  {
   "cell_type": "code",
   "execution_count": 30,
   "metadata": {
    "execution": {
     "iopub.execute_input": "2021-03-31T18:37:42.393551Z",
     "iopub.status.busy": "2021-03-31T18:37:42.392535Z",
     "iopub.status.idle": "2021-03-31T18:37:42.741985Z",
     "shell.execute_reply": "2021-03-31T18:37:42.742823Z"
    },
    "papermill": {
     "duration": 0.41866,
     "end_time": "2021-03-31T18:37:42.743030",
     "exception": false,
     "start_time": "2021-03-31T18:37:42.324370",
     "status": "completed"
    },
    "tags": []
   },
   "outputs": [
    {
     "data": {
      "image/png": "[encoded data removed]",
      "text/plain": [
       "<Figure size 864x864 with 1 Axes>"
      ]
     },
     "metadata": {},
     "output_type": "display_data"
    }
   ],
   "source": [
    "u_labels = np.unique(label)\n",
    "centroids = kmeans.cluster_centers_\n",
    "ax = plt\n",
    "ax.figure(figsize=(12,12))\n",
    "for i in u_labels:\n",
    "    plt.scatter(df_pca[label==i, 0], df_pca[label == i, 1], label=i)\n",
    "ax.scatter(centroids[:,0], centroids[:,1], s=80, color='k')\n",
    "plt.legend()\n",
    "plt.show()"
   ]
  },
  {
   "cell_type": "code",
   "execution_count": 31,
   "metadata": {
    "execution": {
     "iopub.execute_input": "2021-03-31T18:37:42.884703Z",
     "iopub.status.busy": "2021-03-31T18:37:42.883976Z",
     "iopub.status.idle": "2021-03-31T18:37:42.896762Z",
     "shell.execute_reply": "2021-03-31T18:37:42.896001Z"
    },
    "papermill": {
     "duration": 0.085622,
     "end_time": "2021-03-31T18:37:42.896917",
     "exception": false,
     "start_time": "2021-03-31T18:37:42.811295",
     "status": "completed"
    },
    "tags": []
   },
   "outputs": [],
   "source": [
    "from sklearn.metrics import confusion_matrix\n",
    "cm = confusion_matrix(label, original_label)\n",
    "\n",
    "cm_df = pd.DataFrame(cm)\n",
    "cm_df.to_csv('cm_df.csv')"
   ]
  },
  {
   "cell_type": "markdown",
   "metadata": {
    "papermill": {
     "duration": 0.065664,
     "end_time": "2021-03-31T18:37:43.030011",
     "exception": false,
     "start_time": "2021-03-31T18:37:42.964347",
     "status": "completed"
    },
    "tags": []
   },
   "source": [
    "Since the knee was shown to be 3 clusters, I produced the 3 clusters just above with their centroids."
   ]
  },
  {
   "cell_type": "code",
   "execution_count": 32,
   "metadata": {
    "execution": {
     "iopub.execute_input": "2021-03-31T18:37:43.174575Z",
     "iopub.status.busy": "2021-03-31T18:37:43.173861Z",
     "iopub.status.idle": "2021-03-31T18:37:43.177987Z",
     "shell.execute_reply": "2021-03-31T18:37:43.177316Z"
    },
    "papermill": {
     "duration": 0.079186,
     "end_time": "2021-03-31T18:37:43.178171",
     "exception": false,
     "start_time": "2021-03-31T18:37:43.098985",
     "status": "completed"
    },
    "tags": []
   },
   "outputs": [],
   "source": [
    "final_data = data.drop(['ID'], axis=1)\n",
    "X = final_data.drop(['Reason'], axis=1)\n",
    "y = final_data['Reason']"
   ]
  },
  {
   "cell_type": "markdown",
   "metadata": {
    "papermill": {
     "duration": 0.067013,
     "end_time": "2021-03-31T18:37:43.312972",
     "exception": false,
     "start_time": "2021-03-31T18:37:43.245959",
     "status": "completed"
    },
    "tags": []
   },
   "source": [
    "Beginning to run through the various models. And trying to get a baseline for each model."
   ]
  },
  {
   "cell_type": "code",
   "execution_count": 33,
   "metadata": {
    "execution": {
     "iopub.execute_input": "2021-03-31T18:37:43.454820Z",
     "iopub.status.busy": "2021-03-31T18:37:43.453285Z",
     "iopub.status.idle": "2021-03-31T18:37:43.458955Z",
     "shell.execute_reply": "2021-03-31T18:37:43.458121Z"
    },
    "papermill": {
     "duration": 0.078402,
     "end_time": "2021-03-31T18:37:43.459126",
     "exception": false,
     "start_time": "2021-03-31T18:37:43.380724",
     "status": "completed"
    },
    "tags": []
   },
   "outputs": [],
   "source": [
    "X_train, X_test, y_train, y_test = train_test_split(X, y, test_size = 0.3, random_state=137)"
   ]
  },
  {
   "cell_type": "code",
   "execution_count": 34,
   "metadata": {
    "execution": {
     "iopub.execute_input": "2021-03-31T18:37:43.602577Z",
     "iopub.status.busy": "2021-03-31T18:37:43.601895Z",
     "iopub.status.idle": "2021-03-31T18:37:43.619357Z",
     "shell.execute_reply": "2021-03-31T18:37:43.617904Z"
    },
    "papermill": {
     "duration": 0.093746,
     "end_time": "2021-03-31T18:37:43.619612",
     "exception": false,
     "start_time": "2021-03-31T18:37:43.525866",
     "status": "completed"
    },
    "tags": []
   },
   "outputs": [
    {
     "name": "stdout",
     "output_type": "stream",
     "text": [
      "Accuracy : 0.2882882882882883\n"
     ]
    }
   ],
   "source": [
    "gnb = GaussianNB()\n",
    "gnb = gnb.fit(X_train, y_train)\n",
    "pred_nb = gnb.predict(X_test)\n",
    "\n",
    "print('Accuracy : {}'.format(accuracy_score(y_test, pred_nb)))"
   ]
  },
  {
   "cell_type": "code",
   "execution_count": 35,
   "metadata": {
    "execution": {
     "iopub.execute_input": "2021-03-31T18:37:43.763319Z",
     "iopub.status.busy": "2021-03-31T18:37:43.762518Z",
     "iopub.status.idle": "2021-03-31T18:37:43.772169Z",
     "shell.execute_reply": "2021-03-31T18:37:43.771501Z"
    },
    "papermill": {
     "duration": 0.085211,
     "end_time": "2021-03-31T18:37:43.772340",
     "exception": false,
     "start_time": "2021-03-31T18:37:43.687129",
     "status": "completed"
    },
    "tags": []
   },
   "outputs": [],
   "source": [
    "scaler = StandardScaler().fit(X_train)\n",
    "X_train = scaler.transform(X_train)\n",
    "X_test = scaler.transform(X_test)"
   ]
  },
  {
   "cell_type": "code",
   "execution_count": 36,
   "metadata": {
    "execution": {
     "iopub.execute_input": "2021-03-31T18:37:43.919485Z",
     "iopub.status.busy": "2021-03-31T18:37:43.912546Z",
     "iopub.status.idle": "2021-03-31T18:37:44.201243Z",
     "shell.execute_reply": "2021-03-31T18:37:44.200560Z"
    },
    "papermill": {
     "duration": 0.362014,
     "end_time": "2021-03-31T18:37:44.201394",
     "exception": false,
     "start_time": "2021-03-31T18:37:43.839380",
     "status": "completed"
    },
    "tags": []
   },
   "outputs": [
    {
     "name": "stdout",
     "output_type": "stream",
     "text": [
      "Accuracy : 0.4774774774774775\n"
     ]
    }
   ],
   "source": [
    "rf = RandomForestClassifier()\n",
    "rf = rf.fit(X_train, y_train)\n",
    "pred_rf = rf.predict(X_test)\n",
    "\n",
    "print('Accuracy : {}'.format(accuracy_score(y_test, pred_rf)))"
   ]
  },
  {
   "cell_type": "code",
   "execution_count": 37,
   "metadata": {
    "execution": {
     "iopub.execute_input": "2021-03-31T18:37:44.344668Z",
     "iopub.status.busy": "2021-03-31T18:37:44.343956Z",
     "iopub.status.idle": "2021-03-31T18:37:44.365256Z",
     "shell.execute_reply": "2021-03-31T18:37:44.364563Z"
    },
    "papermill": {
     "duration": 0.094755,
     "end_time": "2021-03-31T18:37:44.365409",
     "exception": false,
     "start_time": "2021-03-31T18:37:44.270654",
     "status": "completed"
    },
    "tags": []
   },
   "outputs": [
    {
     "name": "stdout",
     "output_type": "stream",
     "text": [
      "Accuracy : 0.36036036036036034\n"
     ]
    }
   ],
   "source": [
    "knn_clf = KNeighborsClassifier(n_neighbors=5)\n",
    "knn_clf = knn_clf.fit(X_train, y_train)\n",
    "pred_knn = knn_clf.predict(X_test)\n",
    "\n",
    "print('Accuracy : {}'.format(accuracy_score(y_test, pred_knn)))"
   ]
  },
  {
   "cell_type": "code",
   "execution_count": 38,
   "metadata": {
    "execution": {
     "iopub.execute_input": "2021-03-31T18:37:44.507642Z",
     "iopub.status.busy": "2021-03-31T18:37:44.506713Z",
     "iopub.status.idle": "2021-03-31T18:37:44.565665Z",
     "shell.execute_reply": "2021-03-31T18:37:44.565027Z"
    },
    "papermill": {
     "duration": 0.132198,
     "end_time": "2021-03-31T18:37:44.565858",
     "exception": false,
     "start_time": "2021-03-31T18:37:44.433660",
     "status": "completed"
    },
    "tags": []
   },
   "outputs": [],
   "source": [
    "svm_clf = svm.SVC()\n",
    "svm_clf = svm_clf.fit(X_train, y_train)\n",
    "pred_svm = svm_clf.predict(X_test)\n",
    "\n"
   ]
  },
  {
   "cell_type": "code",
   "execution_count": 39,
   "metadata": {
    "execution": {
     "iopub.execute_input": "2021-03-31T18:37:44.718411Z",
     "iopub.status.busy": "2021-03-31T18:37:44.717690Z",
     "iopub.status.idle": "2021-03-31T18:37:49.552115Z",
     "shell.execute_reply": "2021-03-31T18:37:49.552898Z"
    },
    "papermill": {
     "duration": 4.91821,
     "end_time": "2021-03-31T18:37:49.553098",
     "exception": false,
     "start_time": "2021-03-31T18:37:44.634888",
     "status": "completed"
    },
    "tags": []
   },
   "outputs": [
    {
     "name": "stdout",
     "output_type": "stream",
     "text": [
      "Accuracy : 0.42792792792792794\n"
     ]
    }
   ],
   "source": [
    "from sklearn.ensemble import GradientBoostingClassifier\n",
    "\n",
    "gb = GradientBoostingClassifier()\n",
    "gb = gb.fit(X_train, y_train)\n",
    "pred_gb = gb.predict(X_test)\n",
    "\n",
    "print('Accuracy : {}'.format(accuracy_score(y_test, pred_gb)))"
   ]
  },
  {
   "cell_type": "markdown",
   "metadata": {
    "papermill": {
     "duration": 0.06823,
     "end_time": "2021-03-31T18:37:49.691172",
     "exception": false,
     "start_time": "2021-03-31T18:37:49.622942",
     "status": "completed"
    },
    "tags": []
   },
   "source": [
    "None of the models perform that well."
   ]
  },
  {
   "cell_type": "markdown",
   "metadata": {
    "papermill": {
     "duration": 0.069389,
     "end_time": "2021-03-31T18:37:49.829389",
     "exception": false,
     "start_time": "2021-03-31T18:37:49.760000",
     "status": "completed"
    },
    "tags": []
   },
   "source": [
    "Seeing how keras can deal with this dataset."
   ]
  },
  {
   "cell_type": "code",
   "execution_count": 40,
   "metadata": {
    "execution": {
     "iopub.execute_input": "2021-03-31T18:37:49.976274Z",
     "iopub.status.busy": "2021-03-31T18:37:49.975578Z",
     "iopub.status.idle": "2021-03-31T18:37:57.737774Z",
     "shell.execute_reply": "2021-03-31T18:37:57.738313Z"
    },
    "papermill": {
     "duration": 7.838667,
     "end_time": "2021-03-31T18:37:57.738520",
     "exception": false,
     "start_time": "2021-03-31T18:37:49.899853",
     "status": "completed"
    },
    "tags": []
   },
   "outputs": [],
   "source": [
    "import tensorflow as tf\n",
    "from keras.models import Sequential\n",
    "from keras.layers import Dense\n",
    "\n",
    "labels= data['Reason']\n",
    "features = data.iloc[:, 2:20]"
   ]
  },
  {
   "cell_type": "code",
   "execution_count": 41,
   "metadata": {
    "execution": {
     "iopub.execute_input": "2021-03-31T18:37:57.884321Z",
     "iopub.status.busy": "2021-03-31T18:37:57.883547Z",
     "iopub.status.idle": "2021-03-31T18:37:57.888319Z",
     "shell.execute_reply": "2021-03-31T18:37:57.887667Z"
    },
    "papermill": {
     "duration": 0.080605,
     "end_time": "2021-03-31T18:37:57.888469",
     "exception": false,
     "start_time": "2021-03-31T18:37:57.807864",
     "status": "completed"
    },
    "tags": []
   },
   "outputs": [],
   "source": [
    "X=features\n",
    "y=np.ravel(labels)\n",
    "\n",
    "X_train, X_test, y_train, y_test = train_test_split(X, y, test_size=0.2, random_state=137)"
   ]
  },
  {
   "cell_type": "code",
   "execution_count": 42,
   "metadata": {
    "execution": {
     "iopub.execute_input": "2021-03-31T18:37:58.033902Z",
     "iopub.status.busy": "2021-03-31T18:37:58.033168Z",
     "iopub.status.idle": "2021-03-31T18:37:58.044438Z",
     "shell.execute_reply": "2021-03-31T18:37:58.043553Z"
    },
    "papermill": {
     "duration": 0.087403,
     "end_time": "2021-03-31T18:37:58.044620",
     "exception": false,
     "start_time": "2021-03-31T18:37:57.957217",
     "status": "completed"
    },
    "tags": []
   },
   "outputs": [],
   "source": [
    "scaler = StandardScaler().fit(X_train)\n",
    "X_train = scaler.transform(X_train)\n",
    "X_test = scaler.transform(X_test)"
   ]
  },
  {
   "cell_type": "code",
   "execution_count": 43,
   "metadata": {
    "execution": {
     "iopub.execute_input": "2021-03-31T18:37:58.189438Z",
     "iopub.status.busy": "2021-03-31T18:37:58.188685Z",
     "iopub.status.idle": "2021-03-31T18:38:04.938142Z",
     "shell.execute_reply": "2021-03-31T18:38:04.938687Z"
    },
    "papermill": {
     "duration": 6.825266,
     "end_time": "2021-03-31T18:38:04.938873",
     "exception": false,
     "start_time": "2021-03-31T18:37:58.113607",
     "status": "completed"
    },
    "tags": []
   },
   "outputs": [
    {
     "name": "stdout",
     "output_type": "stream",
     "text": [
      "Epoch 1/10\n",
      "592/592 [==============================] - 1s 1ms/step - loss: -3247.1900 - accuracy: 0.0318\n",
      "Epoch 2/10\n",
      "592/592 [==============================] - 1s 1ms/step - loss: -17264.9112 - accuracy: 0.0184\n",
      "Epoch 3/10\n",
      "592/592 [==============================] - 1s 991us/step - loss: -30811.9941 - accuracy: 0.0253\n",
      "Epoch 4/10\n",
      "592/592 [==============================] - 1s 1ms/step - loss: -44820.0238 - accuracy: 0.0086\n",
      "Epoch 5/10\n",
      "592/592 [==============================] - 1s 994us/step - loss: -57299.6718 - accuracy: 0.0181\n",
      "Epoch 6/10\n",
      "592/592 [==============================] - 1s 930us/step - loss: -70935.5751 - accuracy: 0.0229\n",
      "Epoch 7/10\n",
      "592/592 [==============================] - 1s 982us/step - loss: -82867.2173 - accuracy: 0.0253\n",
      "Epoch 8/10\n",
      "592/592 [==============================] - 1s 1ms/step - loss: -97990.4666 - accuracy: 0.0223\n",
      "Epoch 9/10\n",
      "592/592 [==============================] - 1s 1ms/step - loss: -112663.1621 - accuracy: 0.0250\n",
      "Epoch 10/10\n",
      "592/592 [==============================] - 1s 995us/step - loss: -124333.7120 - accuracy: 0.0249\n"
     ]
    },
    {
     "data": {
      "text/plain": [
       "<tensorflow.python.keras.callbacks.History at 0x7f783c483cd0>"
      ]
     },
     "execution_count": 43,
     "metadata": {},
     "output_type": "execute_result"
    }
   ],
   "source": [
    "model = Sequential()\n",
    "\n",
    "model.add(Dense(6, activation='sigmoid', input_shape=(18,)))\n",
    "\n",
    "model.add(Dense(6, activation='sigmoid'))\n",
    "\n",
    "model.add(Dense(1, activation='sigmoid'))\n",
    "\n",
    "model.compile(loss='binary_crossentropy',\n",
    "             optimizer='sgd',\n",
    "             metrics=['accuracy'])\n",
    "\n",
    "model.fit(X_train, y_train, epochs=10, batch_size=1, verbose=1)"
   ]
  },
  {
   "cell_type": "code",
   "execution_count": 44,
   "metadata": {
    "execution": {
     "iopub.execute_input": "2021-03-31T18:38:05.171019Z",
     "iopub.status.busy": "2021-03-31T18:38:05.170026Z",
     "iopub.status.idle": "2021-03-31T18:38:05.497347Z",
     "shell.execute_reply": "2021-03-31T18:38:05.498034Z"
    },
    "papermill": {
     "duration": 0.445511,
     "end_time": "2021-03-31T18:38:05.498249",
     "exception": false,
     "start_time": "2021-03-31T18:38:05.052738",
     "status": "completed"
    },
    "tags": []
   },
   "outputs": [
    {
     "name": "stdout",
     "output_type": "stream",
     "text": [
      "5/5 [==============================] - 0s 2ms/step - loss: -140183.1094 - accuracy: 0.0270\n",
      "[-140183.109375, 0.027027027681469917]\n"
     ]
    }
   ],
   "source": [
    "y_pred = model.predict(X_test)\n",
    "\n",
    "score = model.evaluate(X_test, y_test, verbose=1)\n",
    "\n",
    "print(score)"
   ]
  },
  {
   "cell_type": "markdown",
   "metadata": {
    "papermill": {
     "duration": 0.111568,
     "end_time": "2021-03-31T18:38:05.721790",
     "exception": false,
     "start_time": "2021-03-31T18:38:05.610222",
     "status": "completed"
    },
    "tags": []
   },
   "source": [
    "Attempting to optimize"
   ]
  },
  {
   "cell_type": "code",
   "execution_count": 45,
   "metadata": {
    "execution": {
     "iopub.execute_input": "2021-03-31T18:38:05.977597Z",
     "iopub.status.busy": "2021-03-31T18:38:05.976564Z",
     "iopub.status.idle": "2021-03-31T18:38:05.980365Z",
     "shell.execute_reply": "2021-03-31T18:38:05.979756Z"
    },
    "papermill": {
     "duration": 0.147165,
     "end_time": "2021-03-31T18:38:05.980505",
     "exception": false,
     "start_time": "2021-03-31T18:38:05.833340",
     "status": "completed"
    },
    "tags": []
   },
   "outputs": [],
   "source": [
    "data_2 = final_data\n",
    "data_2 = data_2.drop(['Missed_time'], axis = 1)"
   ]
  },
  {
   "cell_type": "code",
   "execution_count": 46,
   "metadata": {
    "execution": {
     "iopub.execute_input": "2021-03-31T18:38:06.233357Z",
     "iopub.status.busy": "2021-03-31T18:38:06.232652Z",
     "iopub.status.idle": "2021-03-31T18:38:06.241784Z",
     "shell.execute_reply": "2021-03-31T18:38:06.241196Z"
    },
    "papermill": {
     "duration": 0.134419,
     "end_time": "2021-03-31T18:38:06.241946",
     "exception": false,
     "start_time": "2021-03-31T18:38:06.107527",
     "status": "completed"
    },
    "tags": []
   },
   "outputs": [],
   "source": [
    "X = data_2.drop(['Reason'], axis=1)\n",
    "y = data_2['Reason']\n",
    "X_train, X_test, y_train, y_test = train_test_split(X, y, test_size = 0.3, random_state=137)"
   ]
  },
  {
   "cell_type": "code",
   "execution_count": 47,
   "metadata": {
    "execution": {
     "iopub.execute_input": "2021-03-31T18:38:06.477977Z",
     "iopub.status.busy": "2021-03-31T18:38:06.476934Z",
     "iopub.status.idle": "2021-03-31T18:38:06.813928Z",
     "shell.execute_reply": "2021-03-31T18:38:06.813183Z"
    },
    "papermill": {
     "duration": 0.460807,
     "end_time": "2021-03-31T18:38:06.814127",
     "exception": false,
     "start_time": "2021-03-31T18:38:06.353320",
     "status": "completed"
    },
    "tags": []
   },
   "outputs": [
    {
     "name": "stdout",
     "output_type": "stream",
     "text": [
      "Accuracy : 0.4189189189189189\n"
     ]
    }
   ],
   "source": [
    "rf = RandomForestClassifier()\n",
    "rf = rf.fit(X_train, y_train)\n",
    "pred_rf = rf.predict(X_test)\n",
    "\n",
    "print('Accuracy : {}'.format(accuracy_score(y_test, pred_rf)))"
   ]
  },
  {
   "cell_type": "markdown",
   "metadata": {
    "papermill": {
     "duration": 0.126992,
     "end_time": "2021-03-31T18:38:07.067751",
     "exception": false,
     "start_time": "2021-03-31T18:38:06.940759",
     "status": "completed"
    },
    "tags": []
   },
   "source": [
    "Removing missed time made the model worse!"
   ]
  },
  {
   "cell_type": "code",
   "execution_count": 48,
   "metadata": {
    "execution": {
     "iopub.execute_input": "2021-03-31T18:38:07.329061Z",
     "iopub.status.busy": "2021-03-31T18:38:07.326324Z",
     "iopub.status.idle": "2021-03-31T18:38:07.333866Z",
     "shell.execute_reply": "2021-03-31T18:38:07.333211Z"
    },
    "papermill": {
     "duration": 0.13897,
     "end_time": "2021-03-31T18:38:07.334023",
     "exception": false,
     "start_time": "2021-03-31T18:38:07.195053",
     "status": "completed"
    },
    "tags": []
   },
   "outputs": [
    {
     "data": {
      "text/plain": [
       "23    149\n",
       "28    112\n",
       "27     69\n",
       "13     55\n",
       "0      43\n",
       "19     40\n",
       "22     38\n",
       "26     33\n",
       "25     31\n",
       "11     26\n",
       "10     25\n",
       "18     21\n",
       "14     19\n",
       "1      16\n",
       "7      15\n",
       "12      8\n",
       "6       8\n",
       "8       6\n",
       "21      6\n",
       "9       4\n",
       "24      3\n",
       "5       3\n",
       "16      3\n",
       "15      2\n",
       "4       2\n",
       "3       1\n",
       "17      1\n",
       "2       1\n",
       "Name: Reason, dtype: int64"
      ]
     },
     "execution_count": 48,
     "metadata": {},
     "output_type": "execute_result"
    }
   ],
   "source": [
    "data['Reason'].value_counts()"
   ]
  },
  {
   "cell_type": "markdown",
   "metadata": {
    "papermill": {
     "duration": 0.113535,
     "end_time": "2021-03-31T18:38:07.566543",
     "exception": false,
     "start_time": "2021-03-31T18:38:07.453008",
     "status": "completed"
    },
    "tags": []
   },
   "source": [
    "I am going to remove all the rows with reasons that are less than 10 instances over 3 years."
   ]
  },
  {
   "cell_type": "code",
   "execution_count": 49,
   "metadata": {
    "execution": {
     "iopub.execute_input": "2021-03-31T18:38:07.819013Z",
     "iopub.status.busy": "2021-03-31T18:38:07.817938Z",
     "iopub.status.idle": "2021-03-31T18:38:07.821444Z",
     "shell.execute_reply": "2021-03-31T18:38:07.821959Z"
    },
    "papermill": {
     "duration": 0.129655,
     "end_time": "2021-03-31T18:38:07.822143",
     "exception": false,
     "start_time": "2021-03-31T18:38:07.692488",
     "status": "completed"
    },
    "tags": []
   },
   "outputs": [
    {
     "data": {
      "text/plain": [
       "8      208\n",
       "2      157\n",
       "3      112\n",
       "1       88\n",
       "4       60\n",
       "0       44\n",
       "16      19\n",
       "24      16\n",
       "5        7\n",
       "40       7\n",
       "32       6\n",
       "64       3\n",
       "80       3\n",
       "120      3\n",
       "56       2\n",
       "112      2\n",
       "7        1\n",
       "48       1\n",
       "104      1\n",
       "Name: Missed_time, dtype: int64"
      ]
     },
     "execution_count": 49,
     "metadata": {},
     "output_type": "execute_result"
    }
   ],
   "source": [
    "data['Missed_time'].value_counts()"
   ]
  },
  {
   "cell_type": "code",
   "execution_count": 50,
   "metadata": {
    "execution": {
     "iopub.execute_input": "2021-03-31T18:38:08.063778Z",
     "iopub.status.busy": "2021-03-31T18:38:08.062978Z",
     "iopub.status.idle": "2021-03-31T18:38:08.067476Z",
     "shell.execute_reply": "2021-03-31T18:38:08.068277Z"
    },
    "papermill": {
     "duration": 0.132913,
     "end_time": "2021-03-31T18:38:08.068478",
     "exception": false,
     "start_time": "2021-03-31T18:38:07.935565",
     "status": "completed"
    },
    "tags": []
   },
   "outputs": [
    {
     "name": "stdout",
     "output_type": "stream",
     "text": [
      "Int64Index([23, 28, 27, 13, 0, 19, 22, 26, 25, 11, 10, 18, 14, 1, 7], dtype='int64')\n"
     ]
    }
   ],
   "source": [
    "data_to_drop = (data['Reason'].value_counts() < 10).index\n",
    "print(data_to_drop[:15])\n",
    "to_drop = data_to_drop[15:]"
   ]
  },
  {
   "cell_type": "code",
   "execution_count": 51,
   "metadata": {
    "execution": {
     "iopub.execute_input": "2021-03-31T18:38:08.328904Z",
     "iopub.status.busy": "2021-03-31T18:38:08.328135Z",
     "iopub.status.idle": "2021-03-31T18:38:08.339293Z",
     "shell.execute_reply": "2021-03-31T18:38:08.340136Z"
    },
    "papermill": {
     "duration": 0.143302,
     "end_time": "2021-03-31T18:38:08.340349",
     "exception": false,
     "start_time": "2021-03-31T18:38:08.197047",
     "status": "completed"
    },
    "tags": []
   },
   "outputs": [],
   "source": [
    "ans = [y for x,y in data.groupby('Reason', as_index=False)]"
   ]
  },
  {
   "cell_type": "code",
   "execution_count": 52,
   "metadata": {
    "execution": {
     "iopub.execute_input": "2021-03-31T18:38:08.601375Z",
     "iopub.status.busy": "2021-03-31T18:38:08.600515Z",
     "iopub.status.idle": "2021-03-31T18:38:08.619101Z",
     "shell.execute_reply": "2021-03-31T18:38:08.619736Z"
    },
    "papermill": {
     "duration": 0.152876,
     "end_time": "2021-03-31T18:38:08.619934",
     "exception": false,
     "start_time": "2021-03-31T18:38:08.467058",
     "status": "completed"
    },
    "tags": []
   },
   "outputs": [
    {
     "data": {
      "text/html": [
       "<div>\n",
       "<style scoped>\n",
       "    .dataframe tbody tr th:only-of-type {\n",
       "        vertical-align: middle;\n",
       "    }\n",
       "\n",
       "    .dataframe tbody tr th {\n",
       "        vertical-align: top;\n",
       "    }\n",
       "\n",
       "    .dataframe thead th {\n",
       "        text-align: right;\n",
       "    }\n",
       "</style>\n",
       "<table border=\"1\" class=\"dataframe\">\n",
       "  <thead>\n",
       "    <tr style=\"text-align: right;\">\n",
       "      <th></th>\n",
       "      <th>ID</th>\n",
       "      <th>Reason</th>\n",
       "      <th>Month</th>\n",
       "      <th>Day</th>\n",
       "      <th>Seasons</th>\n",
       "      <th>Travel_expense</th>\n",
       "      <th>Distance</th>\n",
       "      <th>Years</th>\n",
       "      <th>Age</th>\n",
       "      <th>Work load Average/day</th>\n",
       "      <th>...</th>\n",
       "      <th>Disc_failure</th>\n",
       "      <th>Education</th>\n",
       "      <th>Child</th>\n",
       "      <th>Social drinker</th>\n",
       "      <th>Social smoker</th>\n",
       "      <th>Pet</th>\n",
       "      <th>Weight</th>\n",
       "      <th>Height</th>\n",
       "      <th>BMI</th>\n",
       "      <th>Missed_time</th>\n",
       "    </tr>\n",
       "  </thead>\n",
       "  <tbody>\n",
       "    <tr>\n",
       "      <th>364</th>\n",
       "      <td>15</td>\n",
       "      <td>3</td>\n",
       "      <td>1</td>\n",
       "      <td>4</td>\n",
       "      <td>2</td>\n",
       "      <td>291</td>\n",
       "      <td>31</td>\n",
       "      <td>12</td>\n",
       "      <td>40</td>\n",
       "      <td>330.061</td>\n",
       "      <td>...</td>\n",
       "      <td>0</td>\n",
       "      <td>1</td>\n",
       "      <td>1</td>\n",
       "      <td>1</td>\n",
       "      <td>0</td>\n",
       "      <td>1</td>\n",
       "      <td>73</td>\n",
       "      <td>171</td>\n",
       "      <td>25</td>\n",
       "      <td>8</td>\n",
       "    </tr>\n",
       "  </tbody>\n",
       "</table>\n",
       "<p>1 rows × 21 columns</p>\n",
       "</div>"
      ],
      "text/plain": [
       "     ID  Reason  Month  Day  Seasons  Travel_expense  Distance  Years  Age  \\\n",
       "364  15       3      1    4        2             291        31     12   40   \n",
       "\n",
       "     Work load Average/day   ...  Disc_failure  Education  Child  \\\n",
       "364                 330.061  ...             0          1      1   \n",
       "\n",
       "     Social drinker  Social smoker  Pet  Weight  Height  BMI  Missed_time  \n",
       "364               1              0    1      73     171   25            8  \n",
       "\n",
       "[1 rows x 21 columns]"
      ]
     },
     "execution_count": 52,
     "metadata": {},
     "output_type": "execute_result"
    }
   ],
   "source": [
    "ans[3]"
   ]
  },
  {
   "cell_type": "code",
   "execution_count": 53,
   "metadata": {
    "execution": {
     "iopub.execute_input": "2021-03-31T18:38:08.881254Z",
     "iopub.status.busy": "2021-03-31T18:38:08.880500Z",
     "iopub.status.idle": "2021-03-31T18:38:08.910966Z",
     "shell.execute_reply": "2021-03-31T18:38:08.910378Z"
    },
    "papermill": {
     "duration": 0.163376,
     "end_time": "2021-03-31T18:38:08.911126",
     "exception": false,
     "start_time": "2021-03-31T18:38:08.747750",
     "status": "completed"
    },
    "tags": []
   },
   "outputs": [],
   "source": [
    "que = ans[1].append(ans[0])\n",
    "que = que.append(ans[22])\n",
    "que = que.append(ans[27])\n",
    "que = que.append(ans[26])\n",
    "que = que.append(ans[13])\n",
    "que = que.append(ans[19])\n",
    "que = que.append(ans[21])\n",
    "que = que.append(ans[25])\n",
    "que = que.append(ans[24])\n",
    "que = que.append(ans[11])\n",
    "que = que.append(ans[10])\n",
    "que = que.append(ans[18])\n",
    "que = que.append(ans[14])\n",
    "que = que.append(ans[7])"
   ]
  },
  {
   "cell_type": "markdown",
   "metadata": {
    "papermill": {
     "duration": 0.131876,
     "end_time": "2021-03-31T18:38:09.193794",
     "exception": false,
     "start_time": "2021-03-31T18:38:09.061918",
     "status": "completed"
    },
    "tags": []
   },
   "source": [
    "Building the last and final dataframe."
   ]
  },
  {
   "cell_type": "code",
   "execution_count": 54,
   "metadata": {
    "execution": {
     "iopub.execute_input": "2021-03-31T18:38:09.453119Z",
     "iopub.status.busy": "2021-03-31T18:38:09.452318Z",
     "iopub.status.idle": "2021-03-31T18:38:09.469301Z",
     "shell.execute_reply": "2021-03-31T18:38:09.468487Z"
    },
    "papermill": {
     "duration": 0.148402,
     "end_time": "2021-03-31T18:38:09.469544",
     "exception": false,
     "start_time": "2021-03-31T18:38:09.321142",
     "status": "completed"
    },
    "tags": []
   },
   "outputs": [
    {
     "name": "stdout",
     "output_type": "stream",
     "text": [
      "<class 'pandas.core.frame.DataFrame'>\n",
      "Int64Index: 692 entries, 10 to 706\n",
      "Data columns (total 21 columns):\n",
      " #   Column                  Non-Null Count  Dtype  \n",
      "---  ------                  --------------  -----  \n",
      " 0   ID                      692 non-null    int64  \n",
      " 1   Reason                  692 non-null    int64  \n",
      " 2   Month                   692 non-null    int64  \n",
      " 3   Day                     692 non-null    int64  \n",
      " 4   Seasons                 692 non-null    int64  \n",
      " 5   Travel_expense          692 non-null    int64  \n",
      " 6   Distance                692 non-null    int64  \n",
      " 7   Years                   692 non-null    int64  \n",
      " 8   Age                     692 non-null    int64  \n",
      " 9   Work load Average/day   692 non-null    float64\n",
      " 10  Work_target             692 non-null    int64  \n",
      " 11  Disc_failure            692 non-null    int64  \n",
      " 12  Education               692 non-null    int64  \n",
      " 13  Child                   692 non-null    int64  \n",
      " 14  Social drinker          692 non-null    int64  \n",
      " 15  Social smoker           692 non-null    int64  \n",
      " 16  Pet                     692 non-null    int64  \n",
      " 17  Weight                  692 non-null    int64  \n",
      " 18  Height                  692 non-null    int64  \n",
      " 19  BMI                     692 non-null    int64  \n",
      " 20  Missed_time             692 non-null    int64  \n",
      "dtypes: float64(1), int64(20)\n",
      "memory usage: 118.9 KB\n"
     ]
    }
   ],
   "source": [
    "que.info()"
   ]
  },
  {
   "cell_type": "code",
   "execution_count": 55,
   "metadata": {
    "execution": {
     "iopub.execute_input": "2021-03-31T18:38:09.722308Z",
     "iopub.status.busy": "2021-03-31T18:38:09.721604Z",
     "iopub.status.idle": "2021-03-31T18:38:09.725832Z",
     "shell.execute_reply": "2021-03-31T18:38:09.726361Z"
    },
    "papermill": {
     "duration": 0.129251,
     "end_time": "2021-03-31T18:38:09.726548",
     "exception": false,
     "start_time": "2021-03-31T18:38:09.597297",
     "status": "completed"
    },
    "tags": []
   },
   "outputs": [
    {
     "data": {
      "text/plain": [
       "8      184\n",
       "2      154\n",
       "3      105\n",
       "1       84\n",
       "4       59\n",
       "0       44\n",
       "16      17\n",
       "24      13\n",
       "5        7\n",
       "40       7\n",
       "32       5\n",
       "64       3\n",
       "80       3\n",
       "56       2\n",
       "120      2\n",
       "7        1\n",
       "48       1\n",
       "104      1\n",
       "Name: Missed_time, dtype: int64"
      ]
     },
     "execution_count": 55,
     "metadata": {},
     "output_type": "execute_result"
    }
   ],
   "source": [
    "que['Missed_time'].value_counts()"
   ]
  },
  {
   "cell_type": "markdown",
   "metadata": {
    "papermill": {
     "duration": 0.115236,
     "end_time": "2021-03-31T18:38:09.960085",
     "exception": false,
     "start_time": "2021-03-31T18:38:09.844849",
     "status": "completed"
    },
    "tags": []
   },
   "source": [
    "Making sure the dataframe looks the way I want it to."
   ]
  },
  {
   "cell_type": "code",
   "execution_count": 56,
   "metadata": {
    "execution": {
     "iopub.execute_input": "2021-03-31T18:38:10.203483Z",
     "iopub.status.busy": "2021-03-31T18:38:10.202672Z",
     "iopub.status.idle": "2021-03-31T18:38:10.585703Z",
     "shell.execute_reply": "2021-03-31T18:38:10.585033Z"
    },
    "papermill": {
     "duration": 0.508869,
     "end_time": "2021-03-31T18:38:10.585864",
     "exception": false,
     "start_time": "2021-03-31T18:38:10.076995",
     "status": "completed"
    },
    "tags": []
   },
   "outputs": [
    {
     "name": "stderr",
     "output_type": "stream",
     "text": [
      "/opt/conda/lib/python3.7/site-packages/seaborn/_decorators.py:43: FutureWarning: Pass the following variable as a keyword arg: x. From version 0.12, the only valid positional argument will be `data`, and passing other arguments without an explicit keyword will result in an error or misinterpretation.\n",
      "  FutureWarning\n"
     ]
    },
    {
     "data": {
      "image/png": "[encoded data removed]",
      "text/plain": [
       "<Figure size 864x864 with 1 Axes>"
      ]
     },
     "metadata": {},
     "output_type": "display_data"
    }
   ],
   "source": [
    "plt.figure(figsize=(12,12))\n",
    "sns.countplot(que['Reason'])\n",
    "plt.show()"
   ]
  },
  {
   "cell_type": "markdown",
   "metadata": {
    "papermill": {
     "duration": 0.116178,
     "end_time": "2021-03-31T18:38:10.822528",
     "exception": false,
     "start_time": "2021-03-31T18:38:10.706350",
     "status": "completed"
    },
    "tags": []
   },
   "source": [
    "It looks like it only has the reasons I want it to have!"
   ]
  },
  {
   "cell_type": "code",
   "execution_count": 57,
   "metadata": {
    "execution": {
     "iopub.execute_input": "2021-03-31T18:38:11.063520Z",
     "iopub.status.busy": "2021-03-31T18:38:11.062762Z",
     "iopub.status.idle": "2021-03-31T18:38:40.299009Z",
     "shell.execute_reply": "2021-03-31T18:38:40.299570Z"
    },
    "papermill": {
     "duration": 29.361574,
     "end_time": "2021-03-31T18:38:40.299955",
     "exception": false,
     "start_time": "2021-03-31T18:38:10.938381",
     "status": "completed"
    },
    "tags": []
   },
   "outputs": [
    {
     "name": "stdout",
     "output_type": "stream",
     "text": [
      "Model : RF Accuracy : 0.46153846153846156\n",
      "Model : KNN Accuracy : 0.375\n",
      "Model : SVM Accuracy : 0.49038461538461536\n",
      "Model : NB Accuracy : 0.16346153846153846\n"
     ]
    },
    {
     "name": "stderr",
     "output_type": "stream",
     "text": [
      "/opt/conda/lib/python3.7/site-packages/sklearn/ensemble/_gb.py:1122: FutureWarning: criterion='mae' was deprecated in version 0.24 and will be removed in version 1.1 (renaming of 0.26). Use criterion='friedman_mse' or 'mse' instead, as trees should use a least-square criterion in Gradient Boosting.\n",
      "  \"Boosting.\", FutureWarning)\n"
     ]
    },
    {
     "name": "stdout",
     "output_type": "stream",
     "text": [
      "Model : Gradient Boosting Accuracy : 0.41346153846153844\n"
     ]
    }
   ],
   "source": [
    "X = que.drop(['Missed_time', 'ID'], axis=1)\n",
    "y = que['Missed_time']\n",
    "X_train, X_test, y_train, y_test = train_test_split(X, y, test_size = 0.3, random_state=137)\n",
    "\n",
    "scaler = StandardScaler().fit(X_train)\n",
    "X_train = scaler.transform(X_train)\n",
    "X_test = scaler.transform(X_test)\n",
    "\n",
    "models = {\n",
    "    'RF': RandomForestClassifier(n_estimators=100, criterion='entropy'),\n",
    "    'KNN': KNeighborsClassifier(n_neighbors=5),\n",
    "    'SVM': svm.SVC(),\n",
    "    'NB': GaussianNB(),\n",
    "    'Gradient Boosting': GradientBoostingClassifier(n_estimators = 100, max_depth=4, learning_rate=0.05, criterion='mae')\n",
    "}\n",
    "\n",
    "\n",
    "for name, model in models.items():\n",
    "    model = model.fit(X_train, y_train)\n",
    "    model_predict= model.predict(X_test)\n",
    "    print('Model : {} Accuracy : {}'.format(name, accuracy_score(y_test, model_predict)))"
   ]
  },
  {
   "cell_type": "markdown",
   "metadata": {
    "papermill": {
     "duration": 0.118231,
     "end_time": "2021-03-31T18:38:40.537997",
     "exception": false,
     "start_time": "2021-03-31T18:38:40.419766",
     "status": "completed"
    },
    "tags": []
   },
   "source": [
    "Changing to trying to predict amount of time missed and running through the models again with the addition of gradient boosting."
   ]
  },
  {
   "cell_type": "markdown",
   "metadata": {
    "papermill": {
     "duration": 0.115887,
     "end_time": "2021-03-31T18:38:40.771464",
     "exception": false,
     "start_time": "2021-03-31T18:38:40.655577",
     "status": "completed"
    },
    "tags": []
   },
   "source": [
    "One last time with deep learning."
   ]
  },
  {
   "cell_type": "code",
   "execution_count": 58,
   "metadata": {
    "execution": {
     "iopub.execute_input": "2021-03-31T18:38:41.019188Z",
     "iopub.status.busy": "2021-03-31T18:38:41.015212Z",
     "iopub.status.idle": "2021-03-31T18:38:41.029209Z",
     "shell.execute_reply": "2021-03-31T18:38:41.028510Z"
    },
    "papermill": {
     "duration": 0.140476,
     "end_time": "2021-03-31T18:38:41.029510",
     "exception": false,
     "start_time": "2021-03-31T18:38:40.889034",
     "status": "completed"
    },
    "tags": []
   },
   "outputs": [],
   "source": [
    "labels= que['Missed_time']\n",
    "features = que.iloc[:, 1:19]\n",
    "\n",
    "X=features\n",
    "y=np.ravel(labels)\n",
    "\n",
    "X_train, X_test, y_train, y_test = train_test_split(X, y, test_size=0.2, random_state=137)\n",
    "\n",
    "scaler = StandardScaler().fit(X_train)\n",
    "X_train = scaler.transform(X_train)\n",
    "X_test = scaler.transform(X_test)"
   ]
  },
  {
   "cell_type": "code",
   "execution_count": 59,
   "metadata": {
    "execution": {
     "iopub.execute_input": "2021-03-31T18:38:41.276233Z",
     "iopub.status.busy": "2021-03-31T18:38:41.275503Z",
     "iopub.status.idle": "2021-03-31T18:38:47.288726Z",
     "shell.execute_reply": "2021-03-31T18:38:47.289244Z"
    },
    "papermill": {
     "duration": 6.141767,
     "end_time": "2021-03-31T18:38:47.289424",
     "exception": false,
     "start_time": "2021-03-31T18:38:41.147657",
     "status": "completed"
    },
    "tags": []
   },
   "outputs": [
    {
     "name": "stdout",
     "output_type": "stream",
     "text": [
      "Epoch 1/10\n",
      "553/553 [==============================] - 1s 1ms/step - loss: -139.7560 - accuracy: 0.1259\n",
      "Epoch 2/10\n",
      "553/553 [==============================] - 1s 968us/step - loss: -738.9329 - accuracy: 0.1109\n",
      "Epoch 3/10\n",
      "553/553 [==============================] - 1s 994us/step - loss: -1310.4676 - accuracy: 0.0915\n",
      "Epoch 4/10\n",
      "553/553 [==============================] - 1s 1ms/step - loss: -2241.9060 - accuracy: 0.1527\n",
      "Epoch 5/10\n",
      "553/553 [==============================] - 1s 1ms/step - loss: -2505.8133 - accuracy: 0.1131\n",
      "Epoch 6/10\n",
      "553/553 [==============================] - 1s 997us/step - loss: -3518.0882 - accuracy: 0.1158\n",
      "Epoch 7/10\n",
      "553/553 [==============================] - 1s 999us/step - loss: -3845.4789 - accuracy: 0.1236\n",
      "Epoch 8/10\n",
      "553/553 [==============================] - 1s 1ms/step - loss: -5213.8986 - accuracy: 0.1068\n",
      "Epoch 9/10\n",
      "553/553 [==============================] - 1s 1ms/step - loss: -5293.0064 - accuracy: 0.1204\n",
      "Epoch 10/10\n",
      "553/553 [==============================] - 1s 1ms/step - loss: -5363.8755 - accuracy: 0.1013\n"
     ]
    },
    {
     "data": {
      "text/plain": [
       "<tensorflow.python.keras.callbacks.History at 0x7f78342f8a50>"
      ]
     },
     "execution_count": 59,
     "metadata": {},
     "output_type": "execute_result"
    }
   ],
   "source": [
    "model = Sequential()\n",
    "\n",
    "model.add(Dense(3, activation='sigmoid', input_shape=(18,)))\n",
    "\n",
    "model.add(Dense(3, activation='sigmoid'))\n",
    "\n",
    "model.add(Dense(1, activation='sigmoid'))\n",
    "\n",
    "model.compile(loss='binary_crossentropy',\n",
    "             optimizer='sgd',\n",
    "             metrics=['accuracy'])\n",
    "\n",
    "model.fit(X_train, y_train, epochs=10, batch_size=1, verbose=1)"
   ]
  },
  {
   "cell_type": "code",
   "execution_count": 60,
   "metadata": {
    "execution": {
     "iopub.execute_input": "2021-03-31T18:38:47.614407Z",
     "iopub.status.busy": "2021-03-31T18:38:47.613720Z",
     "iopub.status.idle": "2021-03-31T18:38:47.887857Z",
     "shell.execute_reply": "2021-03-31T18:38:47.887250Z"
    },
    "papermill": {
     "duration": 0.437914,
     "end_time": "2021-03-31T18:38:47.888019",
     "exception": false,
     "start_time": "2021-03-31T18:38:47.450105",
     "status": "completed"
    },
    "tags": []
   },
   "outputs": [
    {
     "name": "stdout",
     "output_type": "stream",
     "text": [
      "5/5 [==============================] - 0s 2ms/step - loss: -6581.0063 - accuracy: 0.1511\n",
      "[-6581.00634765625, 0.15107913315296173]\n"
     ]
    }
   ],
   "source": [
    "y_pred = model.predict(X_test)\n",
    "\n",
    "score = model.evaluate(X_test, y_test, verbose=1)\n",
    "\n",
    "print(score)"
   ]
  }
 ],
 "metadata": {
  "kernelspec": {
   "display_name": "Python 3",
   "language": "python",
   "name": "python3"
  },
  "language_info": {
   "codemirror_mode": {
    "name": "ipython",
    "version": 3
   },
   "file_extension": ".py",
   "mimetype": "text/x-python",
   "name": "python",
   "nbconvert_exporter": "python",
   "pygments_lexer": "ipython3",
   "version": "3.7.9"
  },
  "papermill": {
   "default_parameters": {},
   "duration": 99.312905,
   "end_time": "2021-03-31T18:38:49.364190",
   "environment_variables": {},
   "exception": null,
   "input_path": "__notebook__.ipynb",
   "output_path": "__notebook__.ipynb",
   "parameters": {},
   "start_time": "2021-03-31T18:37:10.051285",
   "version": "2.2.2"
  }
 },
 "nbformat": 4,
 "nbformat_minor": 4
}
